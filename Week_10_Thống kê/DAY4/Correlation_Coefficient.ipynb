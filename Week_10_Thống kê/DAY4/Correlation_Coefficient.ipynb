{
 "cells": [
  {
   "cell_type": "code",
   "execution_count": 14,
   "metadata": {},
   "outputs": [],
   "source": [
    "import numpy as np \n",
    "import math\n",
    "import re\n",
    "from math import sqrt"
   ]
  },
  {
   "cell_type": "code",
   "execution_count": 3,
   "metadata": {},
   "outputs": [
    {
     "name": "stdout",
     "output_type": "stream",
     "text": [
      "0.9999999999999999\n"
     ]
    }
   ],
   "source": [
    "x= ([1,2,3,4,5])\n",
    "y= ([2,4,6,8,10])\n",
    "correlation = np.corrcoef(x,y)[0,1]\n",
    "print(correlation)"
   ]
  },
  {
   "cell_type": "code",
   "execution_count": 5,
   "metadata": {},
   "outputs": [
    {
     "name": "stdout",
     "output_type": "stream",
     "text": [
      "0.9999999999999998\n"
     ]
    }
   ],
   "source": [
    "mean_x = sum(x)/len(x)\n",
    "mean_y = sum(y)/len(y)\n",
    "numerator = sum((x[i] - mean_x)*(y[i]-mean_y) for i in range(len(x)))\n",
    "denominator_x = sum((x[i]-mean_x)**2 for i in range(len(x)))\n",
    "denominator_y = sum((y[i]-mean_y)**2 for i in range(len(y)))\n",
    "correlation1 = numerator / (denominator_x**0.5 * denominator_y**0.5)\n",
    "\n",
    "print(correlation1)"
   ]
  },
  {
   "cell_type": "markdown",
   "metadata": {},
   "source": [
    "Retrieval văn bản với TF-IDF + Pearson (không dùng thư viện) Cho các\n",
    "văn bản:"
   ]
  },
  {
   "cell_type": "code",
   "execution_count": 47,
   "metadata": {},
   "outputs": [],
   "source": [
    "class TextProcess:\n",
    "    def __init__(self,documents,query):\n",
    "        self.documents = documents\n",
    "        self.processed_documents = [self.preprocess_text(doc) for doc in documents]\n",
    "        self.tf_values = [self.compute_tf(doc) for doc in self.processed_documents]\n",
    "        self.idf_values = self.compute_idf(self.processed_documents)\n",
    "        self.query = query\n",
    "        self.processed_query = self.preprocess_text(query)\n",
    "        self.query_tf = self.compute_tf(self.processed_query)\n",
    "        self.query_tfidf = self.compute_tfidf_query()\n",
    "\n",
    "\n",
    "    def preprocess_text(self , text):\n",
    "        text = text.lower()\n",
    "        text = re.sub(r'[^\\w\\s]', '', text)\n",
    "        return text.split()\n",
    "    def compute_tf (self, words):\n",
    "        tf={}\n",
    "        total_words = len(words)\n",
    "        for word in words:\n",
    "            if word in tf:\n",
    "                tf[word] +=1\n",
    "            else:\n",
    "                tf[word] = 1\n",
    "        \n",
    "        for word in tf:\n",
    "            tf[word] = tf[word]/len(words)\n",
    "        return tf\n",
    "    \n",
    "    def compute_idf(self,documents):\n",
    "        idf = {}\n",
    "        total_documents = len(documents)\n",
    "        word_doc_count = {}\n",
    "        for doc in documents:\n",
    "            unique_words = set(doc)\n",
    "            for word in unique_words:\n",
    "                if word in word_doc_count:\n",
    "                    word_doc_count[word] +=1\n",
    "                else:\n",
    "                    word_doc_count[word] = 1\n",
    "\n",
    "        for word , count in word_doc_count.items():\n",
    "            idf[word] = math.log(total_documents/(1+count))\n",
    "        return idf\n",
    "    \n",
    "    def compute_tfidf(self):\n",
    "        tfidf_matrix = []\n",
    "        \n",
    "        for tf in self.tf_values:  # Duyệt qua từng tài liệu (TF vector)\n",
    "            tfidf_vector = {}\n",
    "            for word in tf:  # Duyệt qua từng từ trong TF vector của tài liệu\n",
    "                # Tính TF-IDF trực tiếp\n",
    "                tf_value = tf[word]\n",
    "                # Lấy IDF của từ từ idf_values (không dùng get)\n",
    "                idf_value = self.idf_values[word] if word in self.idf_values else 0\n",
    "                tfidf_vector[word] = tf_value * idf_value\n",
    "        \n",
    "            tfidf_matrix.append(tfidf_vector)\n",
    "        return tfidf_matrix\n",
    "\n",
    "        \n",
    "    \n",
    "    def compute_tfidf_query(self):\n",
    "        query_tfidf = {}\n",
    "        for word in self.query_tf:\n",
    "            tf_value = self.query_tf[word]\n",
    "            idf_value = self.idf_values[word] if word in self.idf_values else 0\n",
    "            query_tfidf[word] = tf_value * idf_value\n",
    "        return query_tfidf\n",
    "\n",
    "    def pearson_correlation(self, vec1, vec2):\n",
    "        # Chắc chắn rằng vec1 và vec2 là các từ điển\n",
    "        common_words = [word for word in vec1.keys() if word in vec2]\n",
    "        \n",
    "        if len(common_words) == 0:\n",
    "            return 0  # Không có từ chung, trả về hệ số tương quan bằng 0\n",
    "        \n",
    "        sum_xy = 0\n",
    "        sum_x = 0\n",
    "        sum_y = 0\n",
    "        sum_x2 = 0\n",
    "        sum_y2 = 0\n",
    "\n",
    "        for word in common_words:\n",
    "            x = vec1[word]  # Truy xuất giá trị từ vec1 (TF hoặc TF-IDF)\n",
    "            y = vec2[word]  # Truy xuất giá trị từ vec2 (TF hoặc TF-IDF)\n",
    "            sum_xy += x * y\n",
    "            sum_x += x\n",
    "            sum_y += y\n",
    "            sum_x2 += x ** 2\n",
    "            sum_y2 += y ** 2\n",
    "\n",
    "        n = len(common_words)\n",
    "        \n",
    "        # Sửa lại công thức tính hệ số tương quan\n",
    "        numerator = (n * sum_xy) - (sum_x * sum_y)\n",
    "        denominator = math.sqrt((n * sum_x2 - sum_x**2) * (n * sum_y2 - sum_y**2))\n",
    "\n",
    "        if denominator == 0:\n",
    "            return 0  # Tránh chia cho 0\n",
    "        \n",
    "        return numerator / denominator\n",
    "\n",
    "\n",
    "\n",
    "\n",
    "\n",
    "    def rank_documents(self):\n",
    "        tfidf_matrix = self.compute_tfidf()  # Chỉ lấy tfidf_matrix\n",
    "        correlations = []\n",
    "\n",
    "        for i, doc_tfidf in enumerate(tfidf_matrix):\n",
    "            correlation = self.pearson_correlation(doc_tfidf, self.query_tfidf)  # Đảm bảo query_tfidf đã có giá trị\n",
    "            correlations.append((i, correlation))\n",
    "\n",
    "        correlations.sort(key=lambda x: x[1], reverse=True)\n",
    "        return correlations\n",
    "\n",
    "\n",
    "\n",
    "    "
   ]
  },
  {
   "cell_type": "code",
   "execution_count": 48,
   "metadata": {},
   "outputs": [
    {
     "name": "stdout",
     "output_type": "stream",
     "text": [
      "Ranked Documents (Index, Pearson Correlation):\n",
      "Document 2: 1.0\n",
      "Document 1: 0\n",
      "Document 3: 0\n"
     ]
    }
   ],
   "source": [
    "doc1 = \"deep learning for natural language processing\"\n",
    "doc2 = \"transformer models improve language understanding\"\n",
    "doc3 = \"convolutional neural networks for image classification\"\n",
    "query = \"language models for text understanding\"\n",
    "\n",
    "documents = [doc1, doc2, doc3]\n",
    "text_processor = TextProcess(documents=documents, query=query)\n",
    "\n",
    "# Xếp hạng các văn bản theo mức độ liên quan\n",
    "ranked_docs = text_processor.rank_documents()\n",
    "\n",
    "# In ra kết quả\n",
    "print(\"Ranked Documents (Index, Pearson Correlation):\")\n",
    "for doc_index, correlation in ranked_docs:\n",
    "    print(f\"Document {doc_index+1}: {correlation}\")"
   ]
  }
 ],
 "metadata": {
  "kernelspec": {
   "display_name": "base",
   "language": "python",
   "name": "python3"
  },
  "language_info": {
   "codemirror_mode": {
    "name": "ipython",
    "version": 3
   },
   "file_extension": ".py",
   "mimetype": "text/x-python",
   "name": "python",
   "nbconvert_exporter": "python",
   "pygments_lexer": "ipython3",
   "version": "3.12.7"
  }
 },
 "nbformat": 4,
 "nbformat_minor": 2
}
