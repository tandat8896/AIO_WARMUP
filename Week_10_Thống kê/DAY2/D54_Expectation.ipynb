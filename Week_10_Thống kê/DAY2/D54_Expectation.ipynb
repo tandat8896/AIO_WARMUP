{
 "cells": [
  {
   "cell_type": "code",
   "execution_count": 2,
   "metadata": {},
   "outputs": [],
   "source": [
    "import numpy as np "
   ]
  },
  {
   "cell_type": "markdown",
   "metadata": {},
   "source": [
    "Tính kỳ vọng của biến rời rạc\n"
   ]
  },
  {
   "cell_type": "code",
   "execution_count": 3,
   "metadata": {},
   "outputs": [
    {
     "name": "stdout",
     "output_type": "stream",
     "text": [
      "E(X) =  2.3\n"
     ]
    }
   ],
   "source": [
    "x = np.array([1,2,3])\n",
    "p = np.array([0.2,0.6,0.3])\n",
    "\n",
    "expectation = np.sum(x*p)\n",
    "print(\"E(X) = \", expectation)"
   ]
  },
  {
   "cell_type": "code",
   "execution_count": 8,
   "metadata": {},
   "outputs": [
    {
     "name": "stdout",
     "output_type": "stream",
     "text": [
      "Gia trị kỳ vọng E[X] 7.0\n"
     ]
    }
   ],
   "source": [
    "x = np.array([2,4,6,8])\n",
    "p = np.array([0.1,0.3,0.4,0.2])\n",
    "\n",
    "for label,probability in zip(x,p):\n",
    "    expectation += label * probability\n",
    "print(\"Gia trị kỳ vọng E[X]\", expectation)"
   ]
  },
  {
   "cell_type": "code",
   "execution_count": 9,
   "metadata": {},
   "outputs": [
    {
     "name": "stdout",
     "output_type": "stream",
     "text": [
      "5.4\n"
     ]
    }
   ],
   "source": [
    "def calculate_expectation(x, p):\n",
    "    expectation = 0\n",
    "    for label, prob in zip(x, p):\n",
    "        expectation += label * prob\n",
    "    return expectation  \n",
    "\n",
    "x = np.array([2, 4, 6, 8])\n",
    "p = np.array([0.1, 0.3, 0.4, 0.2])\n",
    "print(calculate_expectation(x, p))\n"
   ]
  },
  {
   "cell_type": "markdown",
   "metadata": {},
   "source": [
    "Expectation từ phân phối chuẩn "
   ]
  },
  {
   "cell_type": "code",
   "execution_count": 11,
   "metadata": {},
   "outputs": [
    {
     "data": {
      "text/plain": [
       "4.980086466382713"
      ]
     },
     "execution_count": 11,
     "metadata": {},
     "output_type": "execute_result"
    }
   ],
   "source": [
    "data = np.random.normal(loc = 5 , scale = 2 , size=10000)\n",
    "expectation = np.mean(data)\n",
    "expectation"
   ]
  },
  {
   "cell_type": "markdown",
   "metadata": {},
   "source": [
    "Kỳ vọng của Loss Function"
   ]
  },
  {
   "cell_type": "code",
   "execution_count": 13,
   "metadata": {},
   "outputs": [
    {
     "name": "stdout",
     "output_type": "stream",
     "text": [
      "expectation loss:0.30809306971190853 \n"
     ]
    }
   ],
   "source": [
    "y_pred = np.array([0.1, 0.4 , 0.6 , 0.9])\n",
    "y_true = np.array([0,0,1,1])\n",
    "n=len(y_true)\n",
    "loss_per_sample = -(y_true * np.log(y_pred) + (1 - y_true) * np.log(1 - y_pred))\n",
    "expectation = np.sum(loss_per_sample)/n\n",
    "print(f\"expectation loss:{expectation} \")"
   ]
  },
  {
   "cell_type": "markdown",
   "metadata": {},
   "source": [
    "Kỳ vọng phần thưởng trong Reinforment Learning"
   ]
  },
  {
   "cell_type": "code",
   "execution_count": 3,
   "metadata": {},
   "outputs": [],
   "source": [
    "rewards = np.random.choice(np.arange(0,11) , size= 100,\n",
    "                            p =[0.05 , 0.1, 0.1, 0.15 ,0.1, 0.1 , 0.1 ,0.1 , 0.05 ,0.1 , 0.05])"
   ]
  },
  {
   "cell_type": "code",
   "execution_count": 4,
   "metadata": {},
   "outputs": [
    {
     "data": {
      "text/plain": [
       "array([ 1,  9,  7,  8,  8,  7,  4,  1,  3,  0,  3,  7, 10,  2,  1,  1,  3,\n",
       "        2,  3,  9,  1,  4,  1,  8,  7,  5,  2,  0,  4,  9,  5,  3,  7,  6,\n",
       "        2,  7,  9,  9,  6,  3, 10,  2,  0,  6,  0,  3,  9,  9, 10,  9,  3,\n",
       "        2,  4,  1, 10,  2,  3,  9,  9,  3,  7,  6, 10,  1,  0,  4,  8,  1,\n",
       "        8,  2,  2, 10,  2,  1,  1, 10,  5,  4,  4,  5,  4,  6,  5,  3,  4,\n",
       "        1,  2,  5,  0,  2,  0,  1,  4, 10,  0,  6, 10,  2,  7,  9])"
      ]
     },
     "execution_count": 4,
     "metadata": {},
     "output_type": "execute_result"
    }
   ],
   "source": [
    "rewards"
   ]
  },
  {
   "cell_type": "code",
   "execution_count": 7,
   "metadata": {},
   "outputs": [
    {
     "data": {
      "text/plain": [
       "4.63"
      ]
     },
     "execution_count": 7,
     "metadata": {},
     "output_type": "execute_result"
    }
   ],
   "source": [
    "expectation=np.mean(rewards)\n",
    "expectation"
   ]
  },
  {
   "cell_type": "code",
   "execution_count": 9,
   "metadata": {},
   "outputs": [
    {
     "data": {
      "text/plain": [
       "4.75"
      ]
     },
     "execution_count": 9,
     "metadata": {},
     "output_type": "execute_result"
    }
   ],
   "source": [
    "values = np.arange(0, 11)\n",
    "probs = [0.05, 0.1, 0.1, 0.15, 0.1, 0.1, 0.1, 0.1, 0.05, 0.1, 0.05]\n",
    "expected = np.sum(values * probs)\n",
    "expected"
   ]
  },
  {
   "cell_type": "markdown",
   "metadata": {},
   "source": [
    "Bài 5: So sánh kỳ vọng của hai mô hình AI\n"
   ]
  },
  {
   "cell_type": "code",
   "execution_count": null,
   "metadata": {},
   "outputs": [],
   "source": []
  },
  {
   "cell_type": "code",
   "execution_count": null,
   "metadata": {},
   "outputs": [],
   "source": []
  },
  {
   "cell_type": "code",
   "execution_count": null,
   "metadata": {},
   "outputs": [],
   "source": []
  },
  {
   "cell_type": "code",
   "execution_count": null,
   "metadata": {},
   "outputs": [],
   "source": []
  },
  {
   "cell_type": "code",
   "execution_count": 7,
   "metadata": {},
   "outputs": [],
   "source": [
    "import numpy as np \n",
    "model1 = np.array([[0.2,0.5,0.3],\n",
    "                   [0.1,0.7,0.2]])\n",
    "model2 = np.array([[0.3,0.4,0.3],\n",
    "                   [0.2,0.6,0.2]])\n",
    "\n",
    "labels = np.array([1,1])"
   ]
  },
  {
   "cell_type": "code",
   "execution_count": 8,
   "metadata": {},
   "outputs": [
    {
     "name": "stdout",
     "output_type": "stream",
     "text": [
      "Cross-Entropy Loss của mô hình 1: 0.5249110622493389\n",
      "Cross-Entropy Loss của mô hình 2: 0.7135581778200728\n",
      "Mô hình 1 có kỳ vọng tốt hơn.\n"
     ]
    }
   ],
   "source": [
    "\n",
    "def cross_entropy_loss(model, labels):\n",
    "    one_hot_labels = np.zeros_like(model)\n",
    "    for i, label in enumerate(labels):\n",
    "        one_hot_labels[i, label] = 1\n",
    "    \n",
    "    # Tính cross-entropy loss cho mỗi mẫu\n",
    "    loss = -np.sum(one_hot_labels * np.log(model)) / len(labels)\n",
    "    return loss\n",
    "\n",
    "# Tính loss cho từng mô hình\n",
    "loss_model1 = cross_entropy_loss(model1, labels)\n",
    "loss_model2 = cross_entropy_loss(model2, labels)\n",
    "\n",
    "# So sánh kỳ vọng (cross-entropy loss)\n",
    "print(f\"Cross-Entropy Loss của mô hình 1: {loss_model1}\")\n",
    "print(f\"Cross-Entropy Loss của mô hình 2: {loss_model2}\")\n",
    "\n",
    "# Xác định mô hình nào có kỳ vọng tốt hơn (loss thấp hơn)\n",
    "if loss_model1 < loss_model2:\n",
    "    print(\"Mô hình 1 có kỳ vọng tốt hơn.\")\n",
    "else:\n",
    "    print(\"Mô hình 2 có kỳ vọng tốt hơn.\")\n"
   ]
  },
  {
   "cell_type": "code",
   "execution_count": null,
   "metadata": {},
   "outputs": [],
   "source": [
    "y_pred = np.array([0.1, 0.4, 0.6, 0.9])\n",
    "y_true = np.array([0, 0, 1, 1])\n",
    "epsilon = 1e-15  # để tránh log(0)\n",
    "\n",
    "# Bất kỳ giá trị nào trong y_pred nhỏ hơn epsilon sẽ được thay thế bằng epsilon.\n",
    "# Bất kỳ giá trị nào trong y_pred lớn hơn 1 - epsilon sẽ được thay thế bằng 1 - epsilon.\n",
    "y_pred = np.clip(y_pred, epsilon, 1 - epsilon)\n",
    "\n",
    "loss = -np.mean(y_true * np.log(y_pred) + (1 - y_true) * np.log(1 - y_pred))\n",
    "print(\"Expected Binary Cross-Entropy Loss =\", loss)"
   ]
  },
  {
   "cell_type": "code",
   "execution_count": null,
   "metadata": {},
   "outputs": [],
   "source": [
    "model1 = np.array([[0.2, 0.5, 0.3], [0.1, 0.7, 0.2]])\n",
    "model2 = np.array([[0.3, 0.4, 0.3], [0.2, 0.6, 0.2]])\n",
    "\n",
    "labels = np.array([1, 1])\n",
    "\n",
    "epsilon = 1e-15\n",
    "\n",
    "model1_pred = np.clip(model1, epsilon, 1 - epsilon)\n",
    "model2_pred = np.clip(model2, epsilon, 1 - epsilon)\n",
    "prob1 = model1_pred[np.arange(len(labels)), labels] #fancy indexing\n",
    "prob2 = model2_pred[np.arange(len(labels)), labels] #fancy indexing\n",
    "loss1 = -np.mean(np.log(prob1))\n",
    "loss2 = -np.mean(np.log(prob2))\n",
    "\n",
    "print(f\"Model 1 Loss: {loss1}\")\n",
    "print(f\"Model 2 Loss: {loss2}\")"
   ]
  }
 ],
 "metadata": {
  "kernelspec": {
   "display_name": "base",
   "language": "python",
   "name": "python3"
  },
  "language_info": {
   "codemirror_mode": {
    "name": "ipython",
    "version": 3
   },
   "file_extension": ".py",
   "mimetype": "text/x-python",
   "name": "python",
   "nbconvert_exporter": "python",
   "pygments_lexer": "ipython3",
   "version": "3.12.7"
  }
 },
 "nbformat": 4,
 "nbformat_minor": 2
}
