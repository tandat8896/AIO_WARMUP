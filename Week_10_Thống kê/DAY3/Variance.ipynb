{
 "cells": [
  {
   "cell_type": "code",
   "execution_count": 1,
   "metadata": {},
   "outputs": [],
   "source": [
    "import numpy as np "
   ]
  },
  {
   "cell_type": "markdown",
   "metadata": {},
   "source": [
    "Bài 1: Tính phương sai rời rạc\n"
   ]
  },
  {
   "cell_type": "code",
   "execution_count": 4,
   "metadata": {},
   "outputs": [],
   "source": [
    "X = [1,3,5]\n",
    "p = [0.2,0.5,0.3]\n",
    "\n",
    "expected_value = sum(x*p for x , p in zip (X,p))\n",
    "expected_squared = sum((x**2)*p for x , p in zip(X,p))\n",
    "variance = expected_squared - expected_value**2\n"
   ]
  },
  {
   "cell_type": "code",
   "execution_count": 5,
   "metadata": {},
   "outputs": [
    {
     "data": {
      "text/plain": [
       "1.9599999999999973"
      ]
     },
     "execution_count": 5,
     "metadata": {},
     "output_type": "execute_result"
    }
   ],
   "source": [
    "variance"
   ]
  },
  {
   "cell_type": "markdown",
   "metadata": {},
   "source": [
    "Bài 2: Phân tích phương sai mẫu dữ liệu thực"
   ]
  },
  {
   "cell_type": "code",
   "execution_count": 6,
   "metadata": {},
   "outputs": [],
   "source": [
    "n_point = 1000\n",
    "data = np.random.normal(loc = 0  , scale= 2 , size = n_point)\n",
    "\n",
    "population_var  = np.var(data)\n",
    "sample_var = np.var(data , ddof=1)"
   ]
  },
  {
   "cell_type": "code",
   "execution_count": 7,
   "metadata": {},
   "outputs": [
    {
     "name": "stdout",
     "output_type": "stream",
     "text": [
      "4.150232690389721\n",
      "4.154387077467188\n"
     ]
    }
   ],
   "source": [
    "print(population_var)\n",
    "print(sample_var)"
   ]
  },
  {
   "cell_type": "code",
   "execution_count": 10,
   "metadata": {},
   "outputs": [],
   "source": [
    "mean = sum(data)/len(data)\n",
    "population_var1 = sum((x-mean)**2 for x in data)/len(data)\n",
    "sample_var1 = sum((x-mean)**2 for x in data)/(len(data)-1)"
   ]
  },
  {
   "cell_type": "markdown",
   "metadata": {},
   "source": [
    "giá trị population_var và sample_var đều lớn hơn giá trị phương sai lý thuyết nhưng không nhiều điều đó cho thấy mô hình tương đối ôn"
   ]
  },
  {
   "cell_type": "code",
   "execution_count": 11,
   "metadata": {},
   "outputs": [
    {
     "name": "stdout",
     "output_type": "stream",
     "text": [
      "4.150232690389715\n",
      "4.154387077467182\n"
     ]
    }
   ],
   "source": [
    "print(population_var1)\n",
    "print(sample_var1)"
   ]
  },
  {
   "cell_type": "code",
   "execution_count": 13,
   "metadata": {},
   "outputs": [],
   "source": [
    "model_a_scores = np.array([0.8,0.7,0.9,0.75,0.85])\n",
    "model_b_scores = np.array([0.6,0.4,0.9,0.3,0.8])\n",
    "\n",
    "mean_a = sum(model_a_scores)/len(model_a_scores)\n",
    "mean_b = sum(model_b_scores)/len(model_b_scores)\n",
    "\n",
    "population_a = sum((x-mean)**2 for x in model_a_scores ) / len(model_a_scores)\n",
    "population_b = sum((x-mean)**2 for x in model_b_scores ) / len(model_b_scores)"
   ]
  },
  {
   "cell_type": "markdown",
   "metadata": {},
   "source": [
    "mô hình b có phương sai ổn hơn "
   ]
  },
  {
   "cell_type": "code",
   "execution_count": 14,
   "metadata": {},
   "outputs": [
    {
     "name": "stdout",
     "output_type": "stream",
     "text": [
      "0.6940723497490828\n",
      "0.44903082228624697\n"
     ]
    }
   ],
   "source": [
    "print(population_a)\n",
    "print(population_b)"
   ]
  },
  {
   "cell_type": "markdown",
   "metadata": {},
   "source": [
    "Bài 4: Phân tích phân tán ảnh đầu vào"
   ]
  },
  {
   "cell_type": "code",
   "execution_count": 15,
   "metadata": {},
   "outputs": [],
   "source": [
    "pixel_means = np . array ([122 , 120 , 119 , 123 , 121])"
   ]
  },
  {
   "cell_type": "code",
   "execution_count": 16,
   "metadata": {},
   "outputs": [],
   "source": [
    "population4 = np.var(pixel_means)"
   ]
  },
  {
   "cell_type": "code",
   "execution_count": 17,
   "metadata": {},
   "outputs": [
    {
     "name": "stdout",
     "output_type": "stream",
     "text": [
      "2.0\n"
     ]
    }
   ],
   "source": [
    "print(population4)"
   ]
  },
  {
   "cell_type": "code",
   "execution_count": 19,
   "metadata": {},
   "outputs": [],
   "source": [
    "rewards = np . array ([10 , 9 , 8 , 10 , 7, 6 , 9 , 10 , 5, 8])"
   ]
  },
  {
   "cell_type": "code",
   "execution_count": 21,
   "metadata": {},
   "outputs": [],
   "source": [
    "var5=np.var(rewards)"
   ]
  },
  {
   "cell_type": "code",
   "execution_count": 22,
   "metadata": {},
   "outputs": [
    {
     "name": "stdout",
     "output_type": "stream",
     "text": [
      "2.7600000000000002\n"
     ]
    }
   ],
   "source": [
    "print(var5)"
   ]
  },
  {
   "cell_type": "code",
   "execution_count": null,
   "metadata": {},
   "outputs": [],
   "source": []
  }
 ],
 "metadata": {
  "kernelspec": {
   "display_name": "base",
   "language": "python",
   "name": "python3"
  },
  "language_info": {
   "codemirror_mode": {
    "name": "ipython",
    "version": 3
   },
   "file_extension": ".py",
   "mimetype": "text/x-python",
   "name": "python",
   "nbconvert_exporter": "python",
   "pygments_lexer": "ipython3",
   "version": "3.12.7"
  }
 },
 "nbformat": 4,
 "nbformat_minor": 2
}
