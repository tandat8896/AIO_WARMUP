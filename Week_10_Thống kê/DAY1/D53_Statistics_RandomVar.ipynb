{
 "cells": [
  {
   "cell_type": "code",
   "execution_count": 12,
   "metadata": {},
   "outputs": [],
   "source": [
    "import numpy as np \n",
    "import matplotlib.pyplot as plt \n",
    "from scipy.stats import norm\n",
    "\n"
   ]
  },
  {
   "cell_type": "markdown",
   "metadata": {},
   "source": [
    "Bài 1 Sinh nhãn Phân Loại Ngẫu Nhiên"
   ]
  },
  {
   "cell_type": "code",
   "execution_count": 13,
   "metadata": {},
   "outputs": [],
   "source": [
    "labels  = np.random.choice(['cat','dog','rabbit'], size = 1000 , p=[0.4 , 0.4 , 0.2])\n",
    "unique , counts = np.unique(labels,return_counts=True)"
   ]
  },
  {
   "cell_type": "code",
   "execution_count": 20,
   "metadata": {},
   "outputs": [
    {
     "name": "stdout",
     "output_type": "stream",
     "text": [
      "rabbit:197\n",
      "cat:410\n",
      "dog:393\n"
     ]
    }
   ],
   "source": [
    "counts = {}\n",
    "for label in labels:\n",
    "    if label in counts:\n",
    "        counts[label]+=1\n",
    "    else:\n",
    "        counts[label]=1\n",
    "for label , counts in counts.items():\n",
    "    print(f\"{label}:{counts}\")\n"
   ]
  },
  {
   "cell_type": "code",
   "execution_count": 4,
   "metadata": {},
   "outputs": [
    {
     "data": {
      "image/png": "[encoded data removed]",
      "text/plain": [
       "<Figure size 640x480 with 1 Axes>"
      ]
     },
     "metadata": {},
     "output_type": "display_data"
    }
   ],
   "source": [
    "plt.bar(unique,counts/len(labels))\n",
    "plt.title(\"Discrete Random Variable - Lable Distribution\")\n",
    "plt.ylabel(\"Proportion\")\n",
    "plt.grid(True)\n",
    "plt.show()"
   ]
  },
  {
   "cell_type": "code",
   "execution_count": 10,
   "metadata": {},
   "outputs": [
    {
     "name": "stdout",
     "output_type": "stream",
     "text": [
      "Sample latent vector z: [ 0.3069206   0.18014953  0.4943704   0.04282949  1.6951848   1.22902667\n",
      "  0.05404855 -1.67889457  1.4822397  -1.02764183]\n"
     ]
    }
   ],
   "source": [
    "mu = np.zeros(10)\n",
    "sigma = np.ones(10)\n",
    "eps=np.random.normal(loc=0 , scale=1,size=10) #loc là trung bình mean , scale độ lệch chuẩn \n",
    "z=mu+sigma*eps\n",
    "print(\"Sample latent vector z:\",z)"
   ]
  },
  {
   "cell_type": "markdown",
   "metadata": {},
   "source": [
    "Sinh Noise Gaussian\n"
   ]
  },
  {
   "cell_type": "code",
   "execution_count": 23,
   "metadata": {},
   "outputs": [
    {
     "name": "stdout",
     "output_type": "stream",
     "text": [
      "giá trị trung bình  -0.02562464287999024\n",
      "độ lệch chuẩn  0.9644585898740584\n"
     ]
    }
   ],
   "source": [
    "vector = np.random.randn(100,10)\n",
    "vector\n",
    "mean_value=np.mean(vector)\n",
    "std_value=np.std(vector)\n",
    "print(f\"giá trị trung bình \", mean_value)\n",
    "print(f\"độ lệch chuẩn \",std_value)"
   ]
  },
  {
   "cell_type": "code",
   "execution_count": 29,
   "metadata": {},
   "outputs": [
    {
     "name": "stdout",
     "output_type": "stream",
     "text": [
      "[ 0.04918285 -0.08724043 -0.08610319  0.07876693 -0.14384849 -0.06046129\n",
      "  0.06314167 -0.01858171  0.03704654 -0.0881493 ]\n"
     ]
    }
   ],
   "source": [
    "mean_vector = np.mean(vector,axis=0) #trung bình từng hàng axis 1 , cột 0  , 2 là depth\n",
    "std_vector = np.std(vector,axis=0)\n",
    "print(mean_vector)"
   ]
  },
  {
   "cell_type": "markdown",
   "metadata": {},
   "source": [
    "Ước lượng xác xuất từ phân phối chuẩn "
   ]
  },
  {
   "cell_type": "code",
   "execution_count": 36,
   "metadata": {},
   "outputs": [
    {
     "name": "stdout",
     "output_type": "stream",
     "text": [
      "điều kiện thỏa mãn [False  True  True ...  True False False]\n"
     ]
    }
   ],
   "source": [
    "n_point = 10000\n",
    "vector = np.random.randn(n_point)\n",
    "condition = (vector > -1) & (vector <1 )\n",
    "print(\"điều kiện thỏa mãn\", condition)\n",
    "count_in_range=np.sum(condition)\n",
    "propability = count_in_range  / n_point  \n",
    "#trường hợp này không dùng len hay vector.size được\n",
    "#len trả ra số hàng ví dụ (3,4) thì trả ra 3\n",
    "#vector.size thì trả ra 12 3*4 "
   ]
  },
  {
   "cell_type": "code",
   "execution_count": 38,
   "metadata": {},
   "outputs": [
    {
     "name": "stdout",
     "output_type": "stream",
     "text": [
      "uoc luong xac xuat P(-1<x<1):0.685\n"
     ]
    }
   ],
   "source": [
    "print(f\"uoc luong xac xuat P(-1<x<1):{propability}\")"
   ]
  },
  {
   "cell_type": "code",
   "execution_count": 39,
   "metadata": {},
   "outputs": [
    {
     "name": "stdout",
     "output_type": "stream",
     "text": [
      "len(vector): 10000\n",
      "vector.size: 10000\n",
      "len(matrix): 3\n",
      "matrix.size: 12\n"
     ]
    }
   ],
   "source": [
    "# Định nghĩa số lượng điểm\n",
    "n_points = 10000\n",
    "\n",
    "# Sinh 10.000 điểm ngẫu nhiên từ phân phối chuẩn (1D)\n",
    "vector = np.random.randn(n_points)\n",
    "\n",
    "# Kiểm tra kích thước của vector\n",
    "print(\"len(vector):\", len(vector))        # 10000 (vì là 1D mảng với 10000 phần tử)\n",
    "print(\"vector.size:\", vector.size)        # 10000 (tổng số phần tử trong vector 1D)\n",
    "\n",
    "# Tạo mảng 2D với shape (3, 4)\n",
    "matrix = np.random.randn(3, 4)\n",
    "\n",
    "print(\"len(matrix):\", len(matrix))        # 3 (số hàng trong matrix)\n",
    "print(\"matrix.size:\", matrix.size)        # 12 (tổng số phần tử trong matrix)\n"
   ]
  },
  {
   "cell_type": "markdown",
   "metadata": {},
   "source": [
    "Bài 4 Mô Phỏng Phân Phối PMF"
   ]
  },
  {
   "cell_type": "code",
   "execution_count": 42,
   "metadata": {},
   "outputs": [
    {
     "name": "stdout",
     "output_type": "stream",
     "text": [
      "P(negative) = 0.189\n",
      "P(neutral) = 0.517\n",
      "P(positive) = 0.294\n"
     ]
    }
   ],
   "source": [
    "n_point=1000\n",
    "labels = np.random.choice([\"positive\",\"neutral\",\"negative\"],size= n_point ,p=[0.3,0.5,0.2])\n",
    "unique_labels ,counts = np.unique(labels,return_counts=True)\n",
    "pmf = counts/n_point #mảng 1D nên có thể chia cho len()\n",
    "\n",
    "for label , probability in zip(unique_labels,pmf): #lặp qua 2 mảng cùng 1 lúc\n",
    "    print(f\"P({label}) = {probability}\")\n"
   ]
  },
  {
   "cell_type": "code",
   "execution_count": 44,
   "metadata": {},
   "outputs": [
    {
     "name": "stdout",
     "output_type": "stream",
     "text": [
      "z= [-0.02610034  0.64206561 -1.04559772 -0.28703368  0.8121504   0.19230158\n",
      " -0.76755593  1.14042637  0.02005258  1.00077449]\n"
     ]
    }
   ],
   "source": [
    "mu= np.zeros(10)\n",
    "sigma = np.ones(10)\n",
    "epsilon = np.random.randn(*mu.shape)\n",
    "\n",
    "#eps=np.random.normal(loc=0 , scale=1,size=10)\n",
    "#eps=np.random.normal(size=10)\n",
    "z=mu+sigma*epsilon\n",
    "print(\"z=\",z)"
   ]
  },
  {
   "cell_type": "code",
   "execution_count": null,
   "metadata": {},
   "outputs": [],
   "source": []
  }
 ],
 "metadata": {
  "kernelspec": {
   "display_name": "base",
   "language": "python",
   "name": "python3"
  },
  "language_info": {
   "codemirror_mode": {
    "name": "ipython",
    "version": 3
   },
   "file_extension": ".py",
   "mimetype": "text/x-python",
   "name": "python",
   "nbconvert_exporter": "python",
   "pygments_lexer": "ipython3",
   "version": "3.12.7"
  }
 },
 "nbformat": 4,
 "nbformat_minor": 2
}
