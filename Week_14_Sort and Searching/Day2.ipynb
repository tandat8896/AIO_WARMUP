{
 "cells": [
  {
   "cell_type": "code",
   "execution_count": 10,
   "metadata": {},
   "outputs": [],
   "source": [
    "def bubble_sort(arr):\n",
    "    n=len(arr)\n",
    "    for i in range(n):\n",
    "        swapped = False\n",
    "        for j in range(0,n-i-1):\n",
    "            if arr[j]>arr[j+1]:\n",
    "                arr[j],arr[j+1] = arr[j+1],arr[j]\n",
    "                swapped = True\n",
    "        if not swapped:\n",
    "            break\n",
    "    return arr"
   ]
  },
  {
   "cell_type": "code",
   "execution_count": 11,
   "metadata": {},
   "outputs": [
    {
     "name": "stdout",
     "output_type": "stream",
     "text": [
      "[2, 3, 4, 5, 8]\n"
     ]
    }
   ],
   "source": [
    "arr = [5,3,8,4,2]\n",
    "output = bubble_sort(arr=arr)\n",
    "print(output)"
   ]
  },
  {
   "cell_type": "code",
   "execution_count": 16,
   "metadata": {},
   "outputs": [],
   "source": [
    "def bubble_sort_des(arr):\n",
    "    n= len(arr)\n",
    "    for i in range(n-1):\n",
    "        swapped = False\n",
    "        for j in range(0,n-i-1):\n",
    "            if arr[j] < arr[j+1]:\n",
    "                arr[j],arr[j+1] = arr[j+1],arr[j]\n",
    "                swapped=True\n",
    "                \n",
    "        if not swapped:\n",
    "            break\n",
    "    return arr"
   ]
  },
  {
   "cell_type": "code",
   "execution_count": 17,
   "metadata": {},
   "outputs": [
    {
     "data": {
      "text/plain": [
       "[8, 5, 4, 3, 2]"
      ]
     },
     "execution_count": 17,
     "metadata": {},
     "output_type": "execute_result"
    }
   ],
   "source": [
    "bubble_sort_des(arr)"
   ]
  },
  {
   "cell_type": "code",
   "execution_count": 21,
   "metadata": {},
   "outputs": [],
   "source": [
    "def bubble_sort_des1(arr):\n",
    "    n= len(arr)\n",
    "    for i in range(n-1):\n",
    "        print(f\"Lần sắp xếp thứ {i + 1}\") \n",
    "        swapped = False\n",
    "        for j in range(0,n-i-1):\n",
    "            print(f\"  So sánh cặp arr[{j}] = {arr[j]} và arr[{j+1}] = {arr[j+1]}\")\n",
    "            if arr[j] < arr[j+1]:\n",
    "                arr[j],arr[j+1] = arr[j+1],arr[j]\n",
    "                swapped=True\n",
    "                \n",
    "        if not swapped:\n",
    "            break\n",
    "    return arr"
   ]
  },
  {
   "cell_type": "code",
   "execution_count": 22,
   "metadata": {},
   "outputs": [
    {
     "name": "stdout",
     "output_type": "stream",
     "text": [
      "Lần sắp xếp thứ 1\n",
      "  So sánh cặp arr[0] = 8 và arr[1] = 5\n",
      "  So sánh cặp arr[1] = 5 và arr[2] = 4\n",
      "  So sánh cặp arr[2] = 4 và arr[3] = 3\n",
      "  So sánh cặp arr[3] = 3 và arr[4] = 2\n"
     ]
    }
   ],
   "source": [
    "result = bubble_sort_des1(arr)"
   ]
  },
  {
   "cell_type": "code",
   "execution_count": 23,
   "metadata": {},
   "outputs": [
    {
     "name": "stdout",
     "output_type": "stream",
     "text": [
      "Lần sắp xếp thứ 1\n",
      "  So sánh cặp arr[0] = 3 và arr[1] = 5\n",
      "  So sánh cặp arr[1] = 3 và arr[2] = 1\n",
      "  So sánh cặp arr[2] = 1 và arr[3] = 4\n",
      "  So sánh cặp arr[3] = 1 và arr[4] = 2\n",
      "Lần sắp xếp thứ 2\n",
      "  So sánh cặp arr[0] = 5 và arr[1] = 3\n",
      "  So sánh cặp arr[1] = 3 và arr[2] = 4\n",
      "  So sánh cặp arr[2] = 3 và arr[3] = 2\n",
      "Lần sắp xếp thứ 3\n",
      "  So sánh cặp arr[0] = 5 và arr[1] = 4\n",
      "  So sánh cặp arr[1] = 4 và arr[2] = 3\n",
      "Kết quả sắp xếp giảm dần: [5, 4, 3, 2, 1]\n"
     ]
    }
   ],
   "source": [
    "arr = [3, 5, 1, 4, 2]\n",
    "sorted_arr = bubble_sort_des1(arr)\n",
    "print(\"Kết quả sắp xếp giảm dần:\", sorted_arr)\n"
   ]
  },
  {
   "cell_type": "code",
   "execution_count": 6,
   "metadata": {},
   "outputs": [],
   "source": [
    "def bubble_sort_count(arr):\n",
    "    n=len(arr)\n",
    "    count = 0\n",
    "    for i in range(n-1):\n",
    "        swapped = False\n",
    "        for j in range(0,n-i-1):\n",
    "            if arr[j] >  arr[j+1]:\n",
    "                arr[j],arr[j+1] = arr[j+1],arr[j]\n",
    "                count += 1\n",
    "                swapped = True\n",
    "        if not swapped:\n",
    "            break\n",
    "    return count\n",
    "\n"
   ]
  },
  {
   "cell_type": "code",
   "execution_count": 8,
   "metadata": {},
   "outputs": [
    {
     "name": "stdout",
     "output_type": "stream",
     "text": [
      "số lần hoán dổi là 5\n"
     ]
    }
   ],
   "source": [
    "arr = [3,5,2,1,6,7]\n",
    "result = bubble_sort_count(arr=arr)\n",
    "print(f\"số lần hoán dổi là {result}\")"
   ]
  },
  {
   "cell_type": "code",
   "execution_count": 19,
   "metadata": {},
   "outputs": [],
   "source": [
    "def bubble_sort_check(arr):\n",
    "    origin = arr.copy()\n",
    "    if origin == sorted(origin):\n",
    "        print(\"Already sorted\")\n",
    "        return arr\n",
    "    n=len(arr)\n",
    "    count=0\n",
    "    for i in range(n-1):\n",
    "        swapped = False\n",
    "        for j in range(0,n-1-i):\n",
    "            if arr[j] > arr[j+1]:\n",
    "                arr[j], arr[j+1]=arr[j+1],arr[j]\n",
    "                count+=1\n",
    "                swapped = True\n",
    "\n",
    "        if not swapped:\n",
    "            break\n",
    "    return arr,count\n",
    "\n",
    "\n"
   ]
  },
  {
   "cell_type": "code",
   "execution_count": 14,
   "metadata": {},
   "outputs": [
    {
     "name": "stdout",
     "output_type": "stream",
     "text": [
      "Already sorted\n",
      "[1, 2, 3, 4, 5, 6, 7]\n"
     ]
    }
   ],
   "source": [
    "arr = [1,2,3,4,5,6,7]\n",
    "result = bubble_sort_check(arr)\n",
    "print(result)"
   ]
  },
  {
   "cell_type": "code",
   "execution_count": 17,
   "metadata": {},
   "outputs": [
    {
     "name": "stdout",
     "output_type": "stream",
     "text": [
      "Already sorted\n",
      "[1, 2, 3, 4, 5, 6, 7]\n"
     ]
    }
   ],
   "source": [
    "arr2 = [1,3,2,5,1,2,3]\n",
    "result = bubble_sort_check(arr)\n",
    "print(result )"
   ]
  },
  {
   "cell_type": "code",
   "execution_count": 20,
   "metadata": {},
   "outputs": [
    {
     "name": "stdout",
     "output_type": "stream",
     "text": [
      "([1, 1, 2, 2, 3, 3, 5], 7)\n"
     ]
    }
   ],
   "source": [
    "arr3 = [1,3,2,5,1,2,3]\n",
    "result = bubble_sort_check(arr3)\n",
    "print(result )"
   ]
  },
  {
   "cell_type": "code",
   "execution_count": null,
   "metadata": {},
   "outputs": [],
   "source": []
  }
 ],
 "metadata": {
  "kernelspec": {
   "display_name": "base",
   "language": "python",
   "name": "python3"
  },
  "language_info": {
   "codemirror_mode": {
    "name": "ipython",
    "version": 3
   },
   "file_extension": ".py",
   "mimetype": "text/x-python",
   "name": "python",
   "nbconvert_exporter": "python",
   "pygments_lexer": "ipython3",
   "version": "3.12.7"
  }
 },
 "nbformat": 4,
 "nbformat_minor": 2
}
