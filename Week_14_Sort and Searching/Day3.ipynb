{
 "cells": [
  {
   "cell_type": "code",
   "execution_count": 6,
   "metadata": {},
   "outputs": [],
   "source": [
    "def binary_search(arr,x):\n",
    "    left = 0 \n",
    "    right = len(arr)-1\n",
    "    mid = (left + right) // 2\n",
    "    while left <= right:\n",
    "        mid = (left + right ) // 2\n",
    "        if arr[mid] == x:\n",
    "            return mid     \n",
    "        elif arr[mid] < x :\n",
    "            left = mid + 1\n",
    "        else:\n",
    "            right = mid -1\n",
    "\n",
    "    return -1\n"
   ]
  },
  {
   "cell_type": "code",
   "execution_count": 7,
   "metadata": {},
   "outputs": [
    {
     "name": "stdout",
     "output_type": "stream",
     "text": [
      "2\n"
     ]
    }
   ],
   "source": [
    "arr = [1,3,5,7,9]\n",
    "result = binary_search(arr=arr,x=5)\n",
    "print(result)"
   ]
  },
  {
   "cell_type": "code",
   "execution_count": 17,
   "metadata": {},
   "outputs": [],
   "source": [
    "def binary_search_list(arr,x):\n",
    "    left = 0 \n",
    "    n = len(arr)\n",
    "    right = n-1 \n",
    "    indicates = []\n",
    "    count = 0\n",
    "    while left <= right:\n",
    "        mid = (left + right) // 2\n",
    "        if arr[mid] == x :      \n",
    "            result = mid\n",
    "            break\n",
    "        elif arr[mid]<x:\n",
    "            left = mid + 1 \n",
    "        else:\n",
    "            right = mid - 1 \n",
    "\n",
    "    if result == -1 :\n",
    "        return [] , 0 \n",
    "    \n",
    "    indicates=[result]\n",
    " \n",
    "    for i in range(result-1 , -1 , -1 ):\n",
    "        if arr[i] == x  :\n",
    "            indicates.append(i)\n",
    "        else:\n",
    "            break\n",
    "\n",
    "    for i in range(result+1 , len(arr), 1 ):\n",
    "        if arr[i] == x:\n",
    "            indicates.append(i)\n",
    "        else:\n",
    "            break\n",
    "\n",
    "    count = len(indicates) \n",
    "    return indicates , count"
   ]
  },
  {
   "cell_type": "code",
   "execution_count": 19,
   "metadata": {},
   "outputs": [
    {
     "name": "stdout",
     "output_type": "stream",
     "text": [
      "([3, 4, 5], 3)\n"
     ]
    }
   ],
   "source": [
    "arr = [1,2,3,4,4,4,5]\n",
    "ket_qua = binary_search_list(arr=arr, x=4)\n",
    "print(ket_qua)"
   ]
  },
  {
   "cell_type": "code",
   "execution_count": 28,
   "metadata": {},
   "outputs": [],
   "source": [
    "def larger_binary_search(arr,x):\n",
    "    left = 0 \n",
    "    n = len(arr)\n",
    "    right = n-1\n",
    "    result = -1\n",
    "    while left <= right:\n",
    "        mid = (left+right)//2\n",
    "        if arr[mid] >= x:\n",
    "            right = mid -1\n",
    "            result =  mid\n",
    "        else:\n",
    "            left = mid +1 \n",
    "    return result\n",
    "\n",
    "\n"
   ]
  },
  {
   "cell_type": "code",
   "execution_count": 29,
   "metadata": {},
   "outputs": [
    {
     "name": "stdout",
     "output_type": "stream",
     "text": [
      "3\n"
     ]
    }
   ],
   "source": [
    "arr= [1,3,5,7,9]\n",
    "result=larger_binary_search(arr=arr,x=6)\n",
    "print(result)"
   ]
  },
  {
   "cell_type": "code",
   "execution_count": 30,
   "metadata": {},
   "outputs": [
    {
     "name": "stdout",
     "output_type": "stream",
     "text": [
      "-1\n"
     ]
    }
   ],
   "source": [
    "x = 10\n",
    "result = larger_binary_search(arr, x)\n",
    "print(result)  # Output: -1 (Vì không có phần tử nào >= 10)"
   ]
  },
  {
   "cell_type": "code",
   "execution_count": 32,
   "metadata": {},
   "outputs": [],
   "source": [
    "def binary_search_recursive(arr, x, left, right, count=0):\n",
    "    # Điều kiện dừng: Nếu left > right thì không tìm thấy\n",
    "    if left > right:\n",
    "        return [], count\n",
    "    \n",
    "    # Tăng số lần gọi hàm\n",
    "    count += 1\n",
    "    \n",
    "    mid = (left + right) // 2\n",
    "    indices = []\n",
    "\n",
    "    if arr[mid] == x:\n",
    "        indices.append(mid)  # Thêm chỉ số vào danh sách\n",
    "\n",
    "        # Kiểm tra bên trái\n",
    "        i = mid - 1\n",
    "        while i >= left and arr[i] == x:\n",
    "            indices.append(i)\n",
    "            i -= 1\n",
    "\n",
    "        # Kiểm tra bên phải\n",
    "        i = mid + 1\n",
    "        while i <= right and arr[i] == x:\n",
    "            indices.append(i)\n",
    "            i += 1\n",
    "\n",
    "        return sorted(indices), count  # Trả về danh sách đã được sắp xếp và số lần gọi hàm\n",
    "    \n",
    "    elif arr[mid] < x:\n",
    "        return binary_search_recursive(arr, x, mid + 1, right, count)  # Tìm trong nửa phải\n",
    "    else:\n",
    "        return binary_search_recursive(arr, x, left, mid - 1, count)  # Tìm trong nửa trái\n"
   ]
  },
  {
   "cell_type": "code",
   "execution_count": 33,
   "metadata": {},
   "outputs": [
    {
     "name": "stdout",
     "output_type": "stream",
     "text": [
      "Vị trí tìm thấy: [2, 3, 4], Số lần gọi hàm: 1\n"
     ]
    }
   ],
   "source": [
    "arr = [1, 2, 4, 4, 4, 5, 7, 9]\n",
    "x = 4\n",
    "\n",
    "indices, count = binary_search_recursive(arr, x, 0, len(arr)-1)\n",
    "print(f\"Vị trí tìm thấy: {indices}, Số lần gọi hàm: {count}\")"
   ]
  }
 ],
 "metadata": {
  "kernelspec": {
   "display_name": "base",
   "language": "python",
   "name": "python3"
  },
  "language_info": {
   "codemirror_mode": {
    "name": "ipython",
    "version": 3
   },
   "file_extension": ".py",
   "mimetype": "text/x-python",
   "name": "python",
   "nbconvert_exporter": "python",
   "pygments_lexer": "ipython3",
   "version": "3.12.7"
  }
 },
 "nbformat": 4,
 "nbformat_minor": 2
}
