{
 "cells": [
  {
   "cell_type": "code",
   "execution_count": 14,
   "metadata": {},
   "outputs": [],
   "source": [
    "data = [6,5,7,1,9,1]"
   ]
  },
  {
   "cell_type": "code",
   "execution_count": 21,
   "metadata": {},
   "outputs": [
    {
     "data": {
      "text/plain": [
       "6"
      ]
     },
     "execution_count": 21,
     "metadata": {},
     "output_type": "execute_result"
    }
   ],
   "source": [
    "def sum_even_index(data):\n",
    "    length = len(data)\n",
    "    result = 0\n",
    "    for index in range(length):\n",
    "        if data[index] % 2 == 0:\n",
    "            result += data[index]\n",
    "    return result\n",
    "sum_even_index(data)\n"
   ]
  },
  {
   "cell_type": "code",
   "execution_count": 22,
   "metadata": {},
   "outputs": [
    {
     "data": {
      "text/plain": [
       "6"
      ]
     },
     "execution_count": 22,
     "metadata": {},
     "output_type": "execute_result"
    }
   ],
   "source": [
    "def sum_even(data):\n",
    "    length = len(data)\n",
    "    result = 0\n",
    "    for value in data:\n",
    "        if value % 2 == 0:\n",
    "            result += value \n",
    "    return result\n",
    "sum_even(data)\n"
   ]
  },
  {
   "cell_type": "code",
   "execution_count": 23,
   "metadata": {},
   "outputs": [],
   "source": [
    "result = sum(data[i] for i in range(len(data)) if i % 2 == 0)\n"
   ]
  },
  {
   "cell_type": "code",
   "execution_count": 24,
   "metadata": {},
   "outputs": [],
   "source": [
    "result = sum(value for value in data if value % 2 == 0)\n"
   ]
  },
  {
   "cell_type": "code",
   "execution_count": 25,
   "metadata": {},
   "outputs": [],
   "source": [
    "def square_list(data):\n",
    "    result = []\n",
    "    for value in data:\n",
    "        result.append(value ** 2)\n",
    "    return result\n"
   ]
  },
  {
   "cell_type": "code",
   "execution_count": 28,
   "metadata": {},
   "outputs": [
    {
     "data": {
      "text/plain": [
       "[36, 25, 49, 1, 81, 1]"
      ]
     },
     "execution_count": 28,
     "metadata": {},
     "output_type": "execute_result"
    }
   ],
   "source": [
    "square_list(data)"
   ]
  },
  {
   "cell_type": "code",
   "execution_count": 27,
   "metadata": {},
   "outputs": [],
   "source": [
    "def square_list1(data):\n",
    "    return [value ** 2 for value in data]\n"
   ]
  },
  {
   "cell_type": "code",
   "execution_count": 29,
   "metadata": {},
   "outputs": [
    {
     "data": {
      "text/plain": [
       "[36, 25, 49, 1, 81, 1]"
      ]
     },
     "execution_count": 29,
     "metadata": {},
     "output_type": "execute_result"
    }
   ],
   "source": [
    "square_list1(data)"
   ]
  },
  {
   "cell_type": "code",
   "execution_count": null,
   "metadata": {},
   "outputs": [],
   "source": [
    "data = [4,6,7,9,5,3,1]"
   ]
  },
  {
   "cell_type": "code",
   "execution_count": 30,
   "metadata": {},
   "outputs": [
    {
     "name": "stdout",
     "output_type": "stream",
     "text": [
      "0 6\n",
      "1 5\n",
      "2 7\n",
      "3 1\n",
      "4 9\n",
      "5 1\n"
     ]
    }
   ],
   "source": [
    "for i in range(len(data)):\n",
    "    print(i, data[i])\n"
   ]
  },
  {
   "cell_type": "code",
   "execution_count": 31,
   "metadata": {},
   "outputs": [
    {
     "name": "stdout",
     "output_type": "stream",
     "text": [
      "0 6\n",
      "1 5\n",
      "2 7\n",
      "3 1\n",
      "4 9\n"
     ]
    }
   ],
   "source": [
    "for i in range(len(data) - 1):\n",
    "    print(i, data[i])\n"
   ]
  },
  {
   "cell_type": "code",
   "execution_count": 32,
   "metadata": {},
   "outputs": [
    {
     "name": "stdout",
     "output_type": "stream",
     "text": [
      "10 5\n"
     ]
    }
   ],
   "source": [
    "a = 5\n",
    "b = 10\n",
    "\n",
    "a = a + b  # a = 15\n",
    "b = a - b  # b = 15 - 10 = 5\n",
    "a = a - b  # a = 15 - 5 = 10\n",
    "\n",
    "print(a, b)  # 👉 10 5\n"
   ]
  },
  {
   "cell_type": "code",
   "execution_count": 33,
   "metadata": {},
   "outputs": [
    {
     "name": "stdout",
     "output_type": "stream",
     "text": [
      "10 5\n"
     ]
    }
   ],
   "source": [
    "a = 5\n",
    "b = 10\n",
    "\n",
    "a = a ^ b\n",
    "b = a ^ b\n",
    "a = a ^ b\n",
    "\n",
    "print(a, b)  # 👉 10 5\n"
   ]
  },
  {
   "cell_type": "code",
   "execution_count": 35,
   "metadata": {},
   "outputs": [
    {
     "name": "stdout",
     "output_type": "stream",
     "text": [
      "Vòng lặp ngoài i = 0, mảng hiện tại: [64, 34, 25, 12, 22, 11, 90]\n",
      "  So sánh arr[0] = 64 và arr[1] = 34\n",
      "  Hoán đổi: [34, 64, 25, 12, 22, 11, 90]\n",
      "  So sánh arr[1] = 64 và arr[2] = 25\n",
      "  Hoán đổi: [34, 25, 64, 12, 22, 11, 90]\n",
      "  So sánh arr[2] = 64 và arr[3] = 12\n",
      "  Hoán đổi: [34, 25, 12, 64, 22, 11, 90]\n",
      "  So sánh arr[3] = 64 và arr[4] = 22\n",
      "  Hoán đổi: [34, 25, 12, 22, 64, 11, 90]\n",
      "  So sánh arr[4] = 64 và arr[5] = 11\n",
      "  Hoán đổi: [34, 25, 12, 22, 11, 64, 90]\n",
      "  So sánh arr[5] = 64 và arr[6] = 90\n",
      "  Sau vòng lặp ngoài i = 0, mảng hiện tại: [34, 25, 12, 22, 11, 64, 90]\n",
      "Vòng lặp ngoài i = 1, mảng hiện tại: [34, 25, 12, 22, 11, 64, 90]\n",
      "  So sánh arr[0] = 34 và arr[1] = 25\n",
      "  Hoán đổi: [25, 34, 12, 22, 11, 64, 90]\n",
      "  So sánh arr[1] = 34 và arr[2] = 12\n",
      "  Hoán đổi: [25, 12, 34, 22, 11, 64, 90]\n",
      "  So sánh arr[2] = 34 và arr[3] = 22\n",
      "  Hoán đổi: [25, 12, 22, 34, 11, 64, 90]\n",
      "  So sánh arr[3] = 34 và arr[4] = 11\n",
      "  Hoán đổi: [25, 12, 22, 11, 34, 64, 90]\n",
      "  So sánh arr[4] = 34 và arr[5] = 64\n",
      "  Sau vòng lặp ngoài i = 1, mảng hiện tại: [25, 12, 22, 11, 34, 64, 90]\n",
      "Vòng lặp ngoài i = 2, mảng hiện tại: [25, 12, 22, 11, 34, 64, 90]\n",
      "  So sánh arr[0] = 25 và arr[1] = 12\n",
      "  Hoán đổi: [12, 25, 22, 11, 34, 64, 90]\n",
      "  So sánh arr[1] = 25 và arr[2] = 22\n",
      "  Hoán đổi: [12, 22, 25, 11, 34, 64, 90]\n",
      "  So sánh arr[2] = 25 và arr[3] = 11\n",
      "  Hoán đổi: [12, 22, 11, 25, 34, 64, 90]\n",
      "  So sánh arr[3] = 25 và arr[4] = 34\n",
      "  Sau vòng lặp ngoài i = 2, mảng hiện tại: [12, 22, 11, 25, 34, 64, 90]\n",
      "Vòng lặp ngoài i = 3, mảng hiện tại: [12, 22, 11, 25, 34, 64, 90]\n",
      "  So sánh arr[0] = 12 và arr[1] = 22\n",
      "  So sánh arr[1] = 22 và arr[2] = 11\n",
      "  Hoán đổi: [12, 11, 22, 25, 34, 64, 90]\n",
      "  So sánh arr[2] = 22 và arr[3] = 25\n",
      "  Sau vòng lặp ngoài i = 3, mảng hiện tại: [12, 11, 22, 25, 34, 64, 90]\n",
      "Vòng lặp ngoài i = 4, mảng hiện tại: [12, 11, 22, 25, 34, 64, 90]\n",
      "  So sánh arr[0] = 12 và arr[1] = 11\n",
      "  Hoán đổi: [11, 12, 22, 25, 34, 64, 90]\n",
      "  So sánh arr[1] = 12 và arr[2] = 22\n",
      "  Sau vòng lặp ngoài i = 4, mảng hiện tại: [11, 12, 22, 25, 34, 64, 90]\n",
      "Vòng lặp ngoài i = 5, mảng hiện tại: [11, 12, 22, 25, 34, 64, 90]\n",
      "  So sánh arr[0] = 11 và arr[1] = 12\n",
      "  Sau vòng lặp ngoài i = 5, mảng hiện tại: [11, 12, 22, 25, 34, 64, 90]\n",
      "Mảng đã sắp xếp: [11, 12, 22, 25, 34, 64, 90]\n"
     ]
    }
   ],
   "source": [
    "def bubblesort(arr):\n",
    "    n = len(arr)  # Lấy độ dài của danh sách\n",
    "    for i in range(n-1):  # Vòng lặp chạy n-1 lần\n",
    "        print(f\"Vòng lặp ngoài i = {i}, mảng hiện tại: {arr}\")  # In mảng sau mỗi lần lặp ngoài\n",
    "        for j in range(0, n-i-1):  # So sánh các phần tử chưa được sắp xếp\n",
    "            print(f\"  So sánh arr[{j}] = {arr[j]} và arr[{j+1}] = {arr[j+1]}\")  # In phần tử đang so sánh\n",
    "            if arr[j] > arr[j+1]:  # Nếu phần tử bên trái lớn hơn phần tử bên phải\n",
    "                # Hoán đổi hai phần tử\n",
    "                arr[j], arr[j+1] = arr[j+1], arr[j]\n",
    "                print(f\"  Hoán đổi: {arr}\")  # In mảng sau khi hoán đổi\n",
    "        # Debug mảng sau mỗi vòng lặp ngoài\n",
    "        print(f\"  Sau vòng lặp ngoài i = {i}, mảng hiện tại: {arr}\")\n",
    "    return arr\n",
    "\n",
    "# Dữ liệu mẫu\n",
    "arr = [64, 34, 25, 12, 22, 11, 90]\n",
    "sorted_arr = bubblesort(arr)\n",
    "print(f\"Mảng đã sắp xếp: {sorted_arr}\")\n"
   ]
  }
 ],
 "metadata": {
  "kernelspec": {
   "display_name": "base",
   "language": "python",
   "name": "python3"
  },
  "language_info": {
   "codemirror_mode": {
    "name": "ipython",
    "version": 3
   },
   "file_extension": ".py",
   "mimetype": "text/x-python",
   "name": "python",
   "nbconvert_exporter": "python",
   "pygments_lexer": "ipython3",
   "version": "3.12.7"
  }
 },
 "nbformat": 4,
 "nbformat_minor": 2
}
