{
 "cells": [
  {
   "cell_type": "code",
   "execution_count": 19,
   "metadata": {},
   "outputs": [],
   "source": [
    "def linear_search(arr,x):\n",
    "    for i in range(len(arr)):\n",
    "        if arr[i] == x:\n",
    "            return i \n",
    "    return -1 "
   ]
  },
  {
   "cell_type": "code",
   "execution_count": 17,
   "metadata": {},
   "outputs": [
    {
     "name": "stdout",
     "output_type": "stream",
     "text": [
      "x được tìm thấy tại vị trí None\n"
     ]
    }
   ],
   "source": [
    "arr1 = [2,4,6,8,10]\n",
    "\n",
    "result = linear_search(arr = arr1, x=8)\n",
    "if result == -1:\n",
    "    print(\"x không được tìm thấy trong danh sách\")\n",
    "else:\n",
    "    print(f\"x được tìm thấy tại vị trí {result}\")\n"
   ]
  },
  {
   "cell_type": "code",
   "execution_count": 14,
   "metadata": {},
   "outputs": [
    {
     "name": "stdout",
     "output_type": "stream",
     "text": [
      "x được tìm thấy tại vị trí 2\n"
     ]
    }
   ],
   "source": [
    "arr2 = [1,3,5,7] \n",
    "result = linear_search(arr=arr2 , x=5)\n",
    "\n",
    "\n",
    "if result == -1:\n",
    "    print(f\"x không được tìm thấy trong danh sách \")\n",
    "else:\n",
    "    print(f\"x được tìm thấy tại vị trí {result}\")"
   ]
  },
  {
   "cell_type": "code",
   "execution_count": 15,
   "metadata": {},
   "outputs": [
    {
     "data": {
      "text/plain": [
       "1"
      ]
     },
     "execution_count": 15,
     "metadata": {},
     "output_type": "execute_result"
    }
   ],
   "source": [
    "arr3 = [1,2,3,2,4,2]\n",
    "linear_search(arr=arr3 , x=2)"
   ]
  },
  {
   "cell_type": "code",
   "execution_count": 26,
   "metadata": {},
   "outputs": [],
   "source": [
    "def linear_search1(arr,x):\n",
    "    indicates = []\n",
    "    for i in range(len(arr)):\n",
    "        if arr[i] == x:\n",
    "            indicates.append(i)\n",
    "            \n",
    "    if not indicates:\n",
    "        return -1 \n",
    "    return indicates"
   ]
  },
  {
   "cell_type": "code",
   "execution_count": 28,
   "metadata": {},
   "outputs": [
    {
     "name": "stdout",
     "output_type": "stream",
     "text": [
      "x được tìm thấy tại các vị trí index [1, 3, 5]\n"
     ]
    }
   ],
   "source": [
    "result = linear_search1(arr= [1,2,3,2,4,2],x=2)\n",
    "if result == -1:\n",
    "    print(f\"x không tìm được trong danh sách \")\n",
    "else:\n",
    "    print(f\"x được tìm thấy tại các vị trí index {result}\")"
   ]
  },
  {
   "cell_type": "code",
   "execution_count": 29,
   "metadata": {},
   "outputs": [],
   "source": [
    "def find_greater(arr,x):\n",
    "    indicates = []\n",
    "    for i in range(len(arr)):\n",
    "        if arr[i] > x:\n",
    "            indicates.append(i)\n",
    "\n",
    "\n",
    "    if not indicates:\n",
    "        return -1 \n",
    "    return indicates\n",
    "\n"
   ]
  },
  {
   "cell_type": "code",
   "execution_count": 31,
   "metadata": {},
   "outputs": [
    {
     "name": "stdout",
     "output_type": "stream",
     "text": [
      "các sô thỏa mãn điều kiện là :[5, 6]\n"
     ]
    }
   ],
   "source": [
    "result = find_greater(arr= [1,2,3,4,2,7,6], x=5)\n",
    "if result == -1:\n",
    "    print(f\"khong tim thấy \")\n",
    "else:\n",
    "    print(f\"các sô thỏa mãn điều kiện là :{result}\")"
   ]
  },
  {
   "cell_type": "code",
   "execution_count": 32,
   "metadata": {},
   "outputs": [],
   "source": [
    "def find_first_div_by_3(arr):\n",
    "    for i in range(len(arr)):\n",
    "        if arr[i] % 3 == 0:\n",
    "            return i \n",
    "    return -1 \n"
   ]
  },
  {
   "cell_type": "code",
   "execution_count": 33,
   "metadata": {},
   "outputs": [
    {
     "name": "stdout",
     "output_type": "stream",
     "text": [
      "số đầu tiên thỏa mãn điều kiện nằm ỡ vị trí 2\n"
     ]
    }
   ],
   "source": [
    "result = find_first_div_by_3(arr=[1,2,3,4,2,7,6])\n",
    "if result == -1:\n",
    "    print(f\"không có số nào thỏa mãn \")\n",
    "else:\n",
    "    print(f\"số đầu tiên thỏa mãn điều kiện nằm ỡ vị trí {result }\")"
   ]
  }
 ],
 "metadata": {
  "kernelspec": {
   "display_name": "base",
   "language": "python",
   "name": "python3"
  },
  "language_info": {
   "codemirror_mode": {
    "name": "ipython",
    "version": 3
   },
   "file_extension": ".py",
   "mimetype": "text/x-python",
   "name": "python",
   "nbconvert_exporter": "python",
   "pygments_lexer": "ipython3",
   "version": "3.12.7"
  }
 },
 "nbformat": 4,
 "nbformat_minor": 2
}
