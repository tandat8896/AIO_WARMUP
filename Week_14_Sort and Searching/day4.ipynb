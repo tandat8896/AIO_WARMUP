{
 "cells": [
  {
   "cell_type": "code",
   "execution_count": 12,
   "metadata": {},
   "outputs": [],
   "source": [
    "def find_promt_with_keyword(prompts,keyword):\n",
    "    matches_promts = []\n",
    "    for prompt in prompts:\n",
    "        words = prompt.lower().split()\n",
    "\n",
    "        if keyword.lower() in words:\n",
    "            matches_promts.append(prompt)\n",
    "    if matches_promts:\n",
    "        return matches_promts\n",
    "    else:\n",
    "        return -1\n",
    "\n",
    "\n",
    "prompts = [\n",
    "    \"Generate a report for a patient X.\",\n",
    "    \"Summarize the input text.\",\n",
    "    \"Suggest a diagnosis based on symptoms.\",\n",
    "    \"Translate this to French.\"\n",
    "]"
   ]
  },
  {
   "cell_type": "code",
   "execution_count": 13,
   "metadata": {},
   "outputs": [
    {
     "name": "stdout",
     "output_type": "stream",
     "text": [
      "['Suggest a diagnosis based on symptoms.']\n"
     ]
    }
   ],
   "source": [
    "print(find_promt_with_keyword(prompts=prompts,keyword=\"diagnosis\"))"
   ]
  },
  {
   "cell_type": "code",
   "execution_count": 21,
   "metadata": {},
   "outputs": [],
   "source": [
    "images = [\n",
    "    {'name': 'img1.png','label':'benign'},\n",
    "    {'name' : 'img2.png','label' : None},\n",
    "    {'name' : 'img3.png', 'label':'malignant'}\n",
    "]"
   ]
  },
  {
   "cell_type": "code",
   "execution_count": 22,
   "metadata": {},
   "outputs": [],
   "source": [
    "def find_first_unlabeled(images):\n",
    "    for i , image in enumerate(images):\n",
    "        if image['label'] == None :\n",
    "            return i"
   ]
  },
  {
   "cell_type": "code",
   "execution_count": 31,
   "metadata": {},
   "outputs": [],
   "source": [
    "def find_first_unlabeled1(images):\n",
    "    for i in range(len(images)):\n",
    "        if images[i]['label'] is None:\n",
    "            return i "
   ]
  },
  {
   "cell_type": "code",
   "execution_count": 24,
   "metadata": {},
   "outputs": [
    {
     "name": "stdout",
     "output_type": "stream",
     "text": [
      "1\n"
     ]
    }
   ],
   "source": [
    "result  = find_first_unlabeled(images)\n",
    "print(result)"
   ]
  },
  {
   "cell_type": "code",
   "execution_count": 32,
   "metadata": {},
   "outputs": [
    {
     "name": "stdout",
     "output_type": "stream",
     "text": [
      "1\n"
     ]
    }
   ],
   "source": [
    "result  = find_first_unlabeled1(images)\n",
    "print(result)"
   ]
  },
  {
   "cell_type": "markdown",
   "metadata": {},
   "source": [
    "Bubble sỏt\n"
   ]
  },
  {
   "cell_type": "code",
   "execution_count": 40,
   "metadata": {},
   "outputs": [],
   "source": [
    "image_data = [\n",
    "    {'name':'img1','blurriness':0.8},\n",
    "    {'name':'img2','blurriness':0.3},\n",
    "    {'name':'img3','blurriness':0.5}\n",
    "]"
   ]
  },
  {
   "cell_type": "code",
   "execution_count": 42,
   "metadata": {},
   "outputs": [],
   "source": [
    "def sorted_by_blurriness(images):\n",
    "    n = len(images)\n",
    "    for i in range(n-1):\n",
    "        swapped = False\n",
    "        for j in range(0,n-1-i):\n",
    "            if images[j]['blurriness'] >images[j+1]['blurriness']:\n",
    "                images[j],images[j+1] = images[j+1],images[j]\n",
    "                swapped = True\n",
    "        if not swapped:\n",
    "            break\n",
    "    return images\n",
    "            \n"
   ]
  },
  {
   "cell_type": "code",
   "execution_count": 45,
   "metadata": {},
   "outputs": [
    {
     "name": "stdout",
     "output_type": "stream",
     "text": [
      "['img2', 'img3', 'img1']\n"
     ]
    }
   ],
   "source": [
    "sorted_imgs = sorted_by_blurriness(images=image_data)\n",
    "print([img['name'] for img in sorted_imgs])"
   ]
  },
  {
   "cell_type": "code",
   "execution_count": 50,
   "metadata": {},
   "outputs": [
    {
     "name": "stdout",
     "output_type": "stream",
     "text": [
      "4\n"
     ]
    }
   ],
   "source": [
    "losses = [0.4,0.3,0.5,0.2]\n",
    "def bubble_sort_with_count(arr):\n",
    "    count=0\n",
    "    for i in range(len(arr) - 1 ):\n",
    "        swapped = False\n",
    "        for j in range(0,len(arr) - i - 1):\n",
    "            if arr[j] > arr[j+1]:\n",
    "                arr[j],arr[j+1] = arr[j+1],arr[j]\n",
    "                swapped = True\n",
    "                count+=1\n",
    "\n",
    "\n",
    "    return count\n",
    "\n",
    "result= bubble_sort_with_count(arr=losses)\n",
    "print(result)"
   ]
  },
  {
   "cell_type": "code",
   "execution_count": 5,
   "metadata": {},
   "outputs": [],
   "source": [
    "def find_greater_or_equal(arr, x, left, right, count=0):\n",
    "    # Điều kiện dừng: Nếu left > right thì không tìm thấy\n",
    "    if left > right:\n",
    "        return [], count\n",
    "    \n",
    "    # Tăng số lần gọi hàm\n",
    "    count += 1\n",
    "    \n",
    "    mid = (left + right) // 2\n",
    "    indices = []\n",
    "\n",
    "    if arr[mid] == x:\n",
    "        indices.append(mid)  # Thêm chỉ số vào danh sách\n",
    "\n",
    "        # Kiểm tra bên trái\n",
    "        i = mid - 1\n",
    "        while i >= left and arr[i] == x:\n",
    "            indices.append(i)\n",
    "            i -= 1\n",
    "\n",
    "        # Kiểm tra bên phải\n",
    "        i = mid + 1\n",
    "        while i <= right and arr[i] == x:\n",
    "            indices.append(i)\n",
    "            i += 1\n",
    "\n",
    "        return sorted(indices), count  # Trả về danh sách đã được sắp xếp và số lần gọi hàm\n",
    "    \n",
    "    elif arr[mid] < x:\n",
    "        return find_greater_or_equal(arr, x, mid + 1, right, count)  # Tìm trong nửa phải\n",
    "    else:\n",
    "        return find_greater_or_equal(arr, x, left, mid - 1, count)  # Tìm trong nửa trái\n"
   ]
  },
  {
   "cell_type": "code",
   "execution_count": 11,
   "metadata": {},
   "outputs": [
    {
     "ename": "TypeError",
     "evalue": "find_greater_or_equal() missing 2 required positional arguments: 'left' and 'right'",
     "output_type": "error",
     "traceback": [
      "\u001b[1;31m---------------------------------------------------------------------------\u001b[0m",
      "\u001b[1;31mTypeError\u001b[0m                                 Traceback (most recent call last)",
      "Cell \u001b[1;32mIn[11], line 2\u001b[0m\n\u001b[0;32m      1\u001b[0m probs \u001b[38;5;241m=\u001b[39m [\u001b[38;5;241m0.12\u001b[39m,\u001b[38;5;241m0.23\u001b[39m,\u001b[38;5;241m0.35\u001b[39m,\u001b[38;5;241m0.47\u001b[39m,\u001b[38;5;241m0.61\u001b[39m,\u001b[38;5;241m0.74\u001b[39m,\u001b[38;5;241m0.8\u001b[39m]\n\u001b[1;32m----> 2\u001b[0m find_greater_or_equal(arr\u001b[38;5;241m=\u001b[39mprobs , x\u001b[38;5;241m=\u001b[39m\u001b[38;5;241m0.6\u001b[39m)\n",
      "\u001b[1;31mTypeError\u001b[0m: find_greater_or_equal() missing 2 required positional arguments: 'left' and 'right'"
     ]
    }
   ],
   "source": [
    "probs = [0.12,0.23,0.35,0.47,0.61,0.74,0.8]\n",
    "find_greater_or_equal(arr=probs , x=0.6)"
   ]
  },
  {
   "cell_type": "code",
   "execution_count": null,
   "metadata": {},
   "outputs": [],
   "source": []
  }
 ],
 "metadata": {
  "kernelspec": {
   "display_name": "base",
   "language": "python",
   "name": "python3"
  },
  "language_info": {
   "codemirror_mode": {
    "name": "ipython",
    "version": 3
   },
   "file_extension": ".py",
   "mimetype": "text/x-python",
   "name": "python",
   "nbconvert_exporter": "python",
   "pygments_lexer": "ipython3",
   "version": "3.12.7"
  }
 },
 "nbformat": 4,
 "nbformat_minor": 2
}
