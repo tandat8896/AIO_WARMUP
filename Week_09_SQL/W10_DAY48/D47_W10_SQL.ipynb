{
 "cells": [
  {
   "cell_type": "code",
   "execution_count": 2,
   "metadata": {},
   "outputs": [],
   "source": [
    "import numpy as np \n",
    "import pandas as pd"
   ]
  },
  {
   "cell_type": "code",
   "execution_count": 2,
   "metadata": {},
   "outputs": [
    {
     "name": "stdout",
     "output_type": "stream",
     "text": [
      "Requirement already satisfied: mysql-connector-python in c:\\users\\learning\\anaconda3\\lib\\site-packages (9.2.0)\n",
      "Note: you may need to restart the kernel to use updated packages.\n"
     ]
    }
   ],
   "source": [
    "%pip install mysql-connector-python"
   ]
  },
  {
   "cell_type": "code",
   "execution_count": 4,
   "metadata": {},
   "outputs": [],
   "source": [
    "import mysql.connector as mysql\n",
    "from mysql.connector import errorcode\n",
    "\n",
    "ds_host = \"localhost\"\n",
    "db_username = \"root\"\n",
    "db_password = \"qiwoqqwu\"\n",
    "\n",
    "try:\n",
    "    conn = mysql.connect(\n",
    "        host=ds_host,\n",
    "        port=3306,\n",
    "        user=db_username,\n",
    "        password=db_password,\n",
    "        database = \"week10\"\n",
    "    )\n",
    "    cursor = conn.cursor()\n",
    "\n",
    "\n",
    "\n",
    "\n",
    "except mysql.Error as err:\n",
    "    print(\" Lỗi:\", err)\n"
   ]
  },
  {
   "cell_type": "code",
   "execution_count": 7,
   "metadata": {},
   "outputs": [
    {
     "name": "stdout",
     "output_type": "stream",
     "text": [
      " Đã tạo (hoặc đã tồn tại) database 'week10'.\n"
     ]
    }
   ],
   "source": [
    "    # Câu lệnh tạo database\n",
    "cursor.execute(\"CREATE DATABASE IF NOT EXISTS week10\")\n",
    "print(\" Đã tạo (hoặc đã tồn tại) database 'week10'.\")"
   ]
  },
  {
   "cell_type": "code",
   "execution_count": 9,
   "metadata": {},
   "outputs": [
    {
     "name": "stdout",
     "output_type": "stream",
     "text": [
      " Đã tạo bảng 'customers'\n",
      "Đã chèn dữ liệu vào bảng 'customers'\n"
     ]
    }
   ],
   "source": [
    "cursor.execute(\"\"\"\n",
    "CREATE TABLE IF NOT EXISTS customers (\n",
    "    id INT PRIMARY KEY,\n",
    "    name VARCHAR(255),\n",
    "    city VARCHAR(255)\n",
    ");\n",
    "\"\"\")\n",
    "print(\" Đã tạo bảng 'customers'\")\n",
    "\n",
    "customers_data = [\n",
    "    (1, \"Alice\", \"Hanoi\"),\n",
    "    (2, \"Bob\", \"Ho Chi Minh\"),\n",
    "    (3, \"Charlie\", \"Hanoi\")\n",
    "]\n",
    "\n",
    "cursor.executemany(\"INSERT INTO customers (id, name, city) VALUES (%s, %s, %s)\", customers_data)\n",
    "conn.commit()\n",
    "print(\"Đã chèn dữ liệu vào bảng 'customers'\")\n"
   ]
  },
  {
   "cell_type": "code",
   "execution_count": 10,
   "metadata": {},
   "outputs": [
    {
     "name": "stderr",
     "output_type": "stream",
     "text": [
      "C:\\Users\\Learning\\AppData\\Local\\Temp\\ipykernel_11116\\3863311719.py:3: UserWarning: pandas only supports SQLAlchemy connectable (engine/connection) or database string URI or sqlite3 DBAPI2 connection. Other DBAPI2 objects are not tested. Please consider using SQLAlchemy.\n",
      "  data = pd.read_sql(query, conn)\n"
     ]
    },
    {
     "data": {
      "text/html": [
       "<div>\n",
       "<style scoped>\n",
       "    .dataframe tbody tr th:only-of-type {\n",
       "        vertical-align: middle;\n",
       "    }\n",
       "\n",
       "    .dataframe tbody tr th {\n",
       "        vertical-align: top;\n",
       "    }\n",
       "\n",
       "    .dataframe thead th {\n",
       "        text-align: right;\n",
       "    }\n",
       "</style>\n",
       "<table border=\"1\" class=\"dataframe\">\n",
       "  <thead>\n",
       "    <tr style=\"text-align: right;\">\n",
       "      <th></th>\n",
       "      <th>id</th>\n",
       "      <th>name</th>\n",
       "      <th>city</th>\n",
       "    </tr>\n",
       "  </thead>\n",
       "  <tbody>\n",
       "    <tr>\n",
       "      <th>0</th>\n",
       "      <td>1</td>\n",
       "      <td>Alice</td>\n",
       "      <td>Hanoi</td>\n",
       "    </tr>\n",
       "    <tr>\n",
       "      <th>1</th>\n",
       "      <td>2</td>\n",
       "      <td>Bob</td>\n",
       "      <td>Ho Chi Minh</td>\n",
       "    </tr>\n",
       "    <tr>\n",
       "      <th>2</th>\n",
       "      <td>3</td>\n",
       "      <td>Charlie</td>\n",
       "      <td>Hanoi</td>\n",
       "    </tr>\n",
       "  </tbody>\n",
       "</table>\n",
       "</div>"
      ],
      "text/plain": [
       "   id     name         city\n",
       "0   1    Alice        Hanoi\n",
       "1   2      Bob  Ho Chi Minh\n",
       "2   3  Charlie        Hanoi"
      ]
     },
     "execution_count": 10,
     "metadata": {},
     "output_type": "execute_result"
    }
   ],
   "source": [
    "# Đọc dữ liệu từ bảng 'customers' vào pandas DataFrame\n",
    "query = \"SELECT * FROM customers\"\n",
    "data = pd.read_sql(query, conn)\n",
    "\n",
    "data.tail()\n"
   ]
  },
  {
   "cell_type": "code",
   "execution_count": 11,
   "metadata": {},
   "outputs": [
    {
     "name": "stdout",
     "output_type": "stream",
     "text": [
      " Đã tạo bảng 'orders'\n",
      " Đã chèn dữ liệu vào bảng 'orders'\n"
     ]
    }
   ],
   "source": [
    "\n",
    "cursor.execute(\"\"\"\n",
    "CREATE TABLE IF NOT EXISTS orders (\n",
    "    id INT PRIMARY KEY,\n",
    "    customer INT,\n",
    "    order_date DATE,\n",
    "    total INT,\n",
    "    FOREIGN KEY (customer) REFERENCES customers(id)\n",
    ");\n",
    "\"\"\")\n",
    "print(\" Đã tạo bảng 'orders'\")\n",
    "\n",
    "orders_data = [\n",
    "    (1, 1, \"2024-01-01\", 600),\n",
    "    (2, 2, \"2024-03-01\", 800),\n",
    "    (3, 3, \"2024-02-02\", 1200),\n",
    "    (4, 3, \"2024-01-15\", 200)\n",
    "]\n",
    "\n",
    "\n",
    "cursor.executemany(\"INSERT INTO orders (id, customer, order_date, total) VALUES (%s, %s, %s, %s)\", orders_data)\n",
    "conn.commit()\n",
    "print(\" Đã chèn dữ liệu vào bảng 'orders'\")\n"
   ]
  },
  {
   "cell_type": "code",
   "execution_count": 12,
   "metadata": {},
   "outputs": [
    {
     "name": "stderr",
     "output_type": "stream",
     "text": [
      "C:\\Users\\Learning\\AppData\\Local\\Temp\\ipykernel_11116\\1718959790.py:2: UserWarning: pandas only supports SQLAlchemy connectable (engine/connection) or database string URI or sqlite3 DBAPI2 connection. Other DBAPI2 objects are not tested. Please consider using SQLAlchemy.\n",
      "  data2 = pd.read_sql(query1, conn)\n"
     ]
    },
    {
     "data": {
      "text/html": [
       "<div>\n",
       "<style scoped>\n",
       "    .dataframe tbody tr th:only-of-type {\n",
       "        vertical-align: middle;\n",
       "    }\n",
       "\n",
       "    .dataframe tbody tr th {\n",
       "        vertical-align: top;\n",
       "    }\n",
       "\n",
       "    .dataframe thead th {\n",
       "        text-align: right;\n",
       "    }\n",
       "</style>\n",
       "<table border=\"1\" class=\"dataframe\">\n",
       "  <thead>\n",
       "    <tr style=\"text-align: right;\">\n",
       "      <th></th>\n",
       "      <th>id</th>\n",
       "      <th>customer</th>\n",
       "      <th>order_date</th>\n",
       "      <th>total</th>\n",
       "    </tr>\n",
       "  </thead>\n",
       "  <tbody>\n",
       "    <tr>\n",
       "      <th>0</th>\n",
       "      <td>1</td>\n",
       "      <td>1</td>\n",
       "      <td>2024-01-01</td>\n",
       "      <td>600</td>\n",
       "    </tr>\n",
       "    <tr>\n",
       "      <th>1</th>\n",
       "      <td>2</td>\n",
       "      <td>2</td>\n",
       "      <td>2024-03-01</td>\n",
       "      <td>800</td>\n",
       "    </tr>\n",
       "    <tr>\n",
       "      <th>2</th>\n",
       "      <td>3</td>\n",
       "      <td>3</td>\n",
       "      <td>2024-02-02</td>\n",
       "      <td>1200</td>\n",
       "    </tr>\n",
       "    <tr>\n",
       "      <th>3</th>\n",
       "      <td>4</td>\n",
       "      <td>3</td>\n",
       "      <td>2024-01-15</td>\n",
       "      <td>200</td>\n",
       "    </tr>\n",
       "  </tbody>\n",
       "</table>\n",
       "</div>"
      ],
      "text/plain": [
       "   id  customer  order_date  total\n",
       "0   1         1  2024-01-01    600\n",
       "1   2         2  2024-03-01    800\n",
       "2   3         3  2024-02-02   1200\n",
       "3   4         3  2024-01-15    200"
      ]
     },
     "execution_count": 12,
     "metadata": {},
     "output_type": "execute_result"
    }
   ],
   "source": [
    "query1 = \"SELECT * FROM orders\"\n",
    "data2 = pd.read_sql(query1, conn)\n",
    "\n",
    "data2.tail()"
   ]
  },
  {
   "cell_type": "code",
   "execution_count": 13,
   "metadata": {},
   "outputs": [
    {
     "name": "stdout",
     "output_type": "stream",
     "text": [
      "Đã tạo bảng 'products'\n",
      " Đã chèn dữ liệu vào bảng 'products'\n"
     ]
    }
   ],
   "source": [
    "# Tạo bảng products\n",
    "cursor.execute(\"\"\"\n",
    "CREATE TABLE IF NOT EXISTS products (\n",
    "    id INT PRIMARY KEY,\n",
    "    name VARCHAR(255),\n",
    "    price INT\n",
    ");\n",
    "\"\"\")\n",
    "print(\"Đã tạo bảng 'products'\")\n",
    "\n",
    "# Chèn dữ liệu vào bảng products\n",
    "products_data = [\n",
    "    (1, \"Laptop\", 1500),\n",
    "    (2, \"Mouse\", 100),\n",
    "    (3, \"Keyboard\", 50),\n",
    "    (4, \"Monitor\", 300)\n",
    "]\n",
    "\n",
    "# Dùng %s thay vì ? cho MySQL\n",
    "cursor.executemany(\"INSERT INTO products (id, name, price) VALUES (%s, %s, %s)\", products_data)\n",
    "conn.commit()\n",
    "print(\" Đã chèn dữ liệu vào bảng 'products'\")\n"
   ]
  },
  {
   "cell_type": "code",
   "execution_count": 15,
   "metadata": {},
   "outputs": [
    {
     "name": "stderr",
     "output_type": "stream",
     "text": [
      "C:\\Users\\Learning\\AppData\\Local\\Temp\\ipykernel_11116\\1086439832.py:2: UserWarning: pandas only supports SQLAlchemy connectable (engine/connection) or database string URI or sqlite3 DBAPI2 connection. Other DBAPI2 objects are not tested. Please consider using SQLAlchemy.\n",
      "  data3 = pd.read_sql(query3, conn)\n"
     ]
    },
    {
     "data": {
      "text/html": [
       "<div>\n",
       "<style scoped>\n",
       "    .dataframe tbody tr th:only-of-type {\n",
       "        vertical-align: middle;\n",
       "    }\n",
       "\n",
       "    .dataframe tbody tr th {\n",
       "        vertical-align: top;\n",
       "    }\n",
       "\n",
       "    .dataframe thead th {\n",
       "        text-align: right;\n",
       "    }\n",
       "</style>\n",
       "<table border=\"1\" class=\"dataframe\">\n",
       "  <thead>\n",
       "    <tr style=\"text-align: right;\">\n",
       "      <th></th>\n",
       "      <th>id</th>\n",
       "      <th>customer</th>\n",
       "      <th>order_date</th>\n",
       "      <th>total</th>\n",
       "    </tr>\n",
       "  </thead>\n",
       "  <tbody>\n",
       "    <tr>\n",
       "      <th>0</th>\n",
       "      <td>1</td>\n",
       "      <td>1</td>\n",
       "      <td>2024-01-01</td>\n",
       "      <td>600</td>\n",
       "    </tr>\n",
       "    <tr>\n",
       "      <th>1</th>\n",
       "      <td>2</td>\n",
       "      <td>2</td>\n",
       "      <td>2024-03-01</td>\n",
       "      <td>800</td>\n",
       "    </tr>\n",
       "    <tr>\n",
       "      <th>2</th>\n",
       "      <td>3</td>\n",
       "      <td>3</td>\n",
       "      <td>2024-02-02</td>\n",
       "      <td>1200</td>\n",
       "    </tr>\n",
       "    <tr>\n",
       "      <th>3</th>\n",
       "      <td>4</td>\n",
       "      <td>3</td>\n",
       "      <td>2024-01-15</td>\n",
       "      <td>200</td>\n",
       "    </tr>\n",
       "  </tbody>\n",
       "</table>\n",
       "</div>"
      ],
      "text/plain": [
       "   id  customer  order_date  total\n",
       "0   1         1  2024-01-01    600\n",
       "1   2         2  2024-03-01    800\n",
       "2   3         3  2024-02-02   1200\n",
       "3   4         3  2024-01-15    200"
      ]
     },
     "execution_count": 15,
     "metadata": {},
     "output_type": "execute_result"
    }
   ],
   "source": [
    "query3 = \"SELECT * FROM orders\"\n",
    "data3 = pd.read_sql(query3, conn)\n",
    "\n",
    "data3.tail()"
   ]
  },
  {
   "cell_type": "code",
   "execution_count": 16,
   "metadata": {},
   "outputs": [
    {
     "name": "stdout",
     "output_type": "stream",
     "text": [
      " Đã tạo bảng 'order_items'\n",
      " Đã chèn dữ liệu vào bảng 'order_items'\n"
     ]
    }
   ],
   "source": [
    "# Tạo bảng order_items\n",
    "cursor.execute(\"\"\"\n",
    "CREATE TABLE IF NOT EXISTS order_items (\n",
    "    id INT AUTO_INCREMENT PRIMARY KEY,\n",
    "    order_id INT,\n",
    "    product_id INT,\n",
    "    quantity INT,\n",
    "    FOREIGN KEY (order_id) REFERENCES orders(id),\n",
    "    FOREIGN KEY (product_id) REFERENCES products(id)\n",
    ");\n",
    "\"\"\")\n",
    "print(\" Đã tạo bảng 'order_items'\")\n",
    "\n",
    "# Chèn dữ liệu vào bảng order_items\n",
    "order_items_data = [\n",
    "    (1, 2, 2), \n",
    "    (1, 3, 1), \n",
    "    (2, 1, 1), \n",
    "    (2, 4, 1), \n",
    "    (3, 1, 1), \n",
    "]\n",
    "\n",
    "# Dùng %s thay vì ? cho MySQL\n",
    "cursor.executemany(\"INSERT INTO order_items (order_id, product_id, quantity) VALUES (%s, %s, %s)\", order_items_data)\n",
    "conn.commit()\n",
    "print(\" Đã chèn dữ liệu vào bảng 'order_items'\")\n"
   ]
  },
  {
   "cell_type": "code",
   "execution_count": 3,
   "metadata": {},
   "outputs": [
    {
     "name": "stderr",
     "output_type": "stream",
     "text": [
      "C:\\Users\\Learning\\AppData\\Local\\Temp\\ipykernel_17080\\411246200.py:2: UserWarning: pandas only supports SQLAlchemy connectable (engine/connection) or database string URI or sqlite3 DBAPI2 connection. Other DBAPI2 objects are not tested. Please consider using SQLAlchemy.\n",
      "  data4 = pd.read_sql(query4, conn)\n"
     ]
    },
    {
     "data": {
      "text/html": [
       "<div>\n",
       "<style scoped>\n",
       "    .dataframe tbody tr th:only-of-type {\n",
       "        vertical-align: middle;\n",
       "    }\n",
       "\n",
       "    .dataframe tbody tr th {\n",
       "        vertical-align: top;\n",
       "    }\n",
       "\n",
       "    .dataframe thead th {\n",
       "        text-align: right;\n",
       "    }\n",
       "</style>\n",
       "<table border=\"1\" class=\"dataframe\">\n",
       "  <thead>\n",
       "    <tr style=\"text-align: right;\">\n",
       "      <th></th>\n",
       "      <th>id</th>\n",
       "      <th>order_id</th>\n",
       "      <th>product_id</th>\n",
       "      <th>quantity</th>\n",
       "    </tr>\n",
       "  </thead>\n",
       "  <tbody>\n",
       "    <tr>\n",
       "      <th>0</th>\n",
       "      <td>1</td>\n",
       "      <td>1</td>\n",
       "      <td>2</td>\n",
       "      <td>2</td>\n",
       "    </tr>\n",
       "    <tr>\n",
       "      <th>1</th>\n",
       "      <td>2</td>\n",
       "      <td>1</td>\n",
       "      <td>3</td>\n",
       "      <td>1</td>\n",
       "    </tr>\n",
       "    <tr>\n",
       "      <th>2</th>\n",
       "      <td>3</td>\n",
       "      <td>2</td>\n",
       "      <td>1</td>\n",
       "      <td>1</td>\n",
       "    </tr>\n",
       "    <tr>\n",
       "      <th>3</th>\n",
       "      <td>4</td>\n",
       "      <td>2</td>\n",
       "      <td>4</td>\n",
       "      <td>1</td>\n",
       "    </tr>\n",
       "    <tr>\n",
       "      <th>4</th>\n",
       "      <td>5</td>\n",
       "      <td>3</td>\n",
       "      <td>1</td>\n",
       "      <td>1</td>\n",
       "    </tr>\n",
       "  </tbody>\n",
       "</table>\n",
       "</div>"
      ],
      "text/plain": [
       "   id  order_id  product_id  quantity\n",
       "0   1         1           2         2\n",
       "1   2         1           3         1\n",
       "2   3         2           1         1\n",
       "3   4         2           4         1\n",
       "4   5         3           1         1"
      ]
     },
     "execution_count": 3,
     "metadata": {},
     "output_type": "execute_result"
    }
   ],
   "source": [
    "query4 = \"SELECT * FROM order_items\"\n",
    "data4 = pd.read_sql(query4, conn)\n",
    "\n",
    "data4.tail()"
   ]
  },
  {
   "cell_type": "code",
   "execution_count": 18,
   "metadata": {},
   "outputs": [
    {
     "name": "stdout",
     "output_type": "stream",
     "text": [
      " Đã tạo bảng 'employees'\n",
      "Đã chèn dữ liệu vào bảng 'employees'\n"
     ]
    }
   ],
   "source": [
    "# Tạo bảng employees\n",
    "cursor.execute(\"\"\"\n",
    "CREATE TABLE IF NOT EXISTS employees (\n",
    "    id INTEGER PRIMARY KEY,\n",
    "    name TEXT,\n",
    "    department TEXT\n",
    ");\n",
    "\"\"\")\n",
    "print(\" Đã tạo bảng 'employees'\")\n",
    "\n",
    "# Chèn dữ liệu vào bảng employees (Sử dụng %s cho MySQL)\n",
    "employees_data = [(1, \"David\", \"Sales\"), (2, \"Emma\", \"Support\"), (3, \"Frank\", \"Sales\")]\n",
    "cursor.executemany(\"INSERT INTO employees VALUES (%s, %s, %s)\", employees_data)\n",
    "conn.commit()\n",
    "print(\"Đã chèn dữ liệu vào bảng 'employees'\")\n"
   ]
  },
  {
   "cell_type": "code",
   "execution_count": 19,
   "metadata": {},
   "outputs": [
    {
     "name": "stderr",
     "output_type": "stream",
     "text": [
      "C:\\Users\\Learning\\AppData\\Local\\Temp\\ipykernel_11116\\1368582034.py:2: UserWarning: pandas only supports SQLAlchemy connectable (engine/connection) or database string URI or sqlite3 DBAPI2 connection. Other DBAPI2 objects are not tested. Please consider using SQLAlchemy.\n",
      "  data5 = pd.read_sql(query5, conn)\n"
     ]
    },
    {
     "data": {
      "text/html": [
       "<div>\n",
       "<style scoped>\n",
       "    .dataframe tbody tr th:only-of-type {\n",
       "        vertical-align: middle;\n",
       "    }\n",
       "\n",
       "    .dataframe tbody tr th {\n",
       "        vertical-align: top;\n",
       "    }\n",
       "\n",
       "    .dataframe thead th {\n",
       "        text-align: right;\n",
       "    }\n",
       "</style>\n",
       "<table border=\"1\" class=\"dataframe\">\n",
       "  <thead>\n",
       "    <tr style=\"text-align: right;\">\n",
       "      <th></th>\n",
       "      <th>id</th>\n",
       "      <th>name</th>\n",
       "      <th>department</th>\n",
       "    </tr>\n",
       "  </thead>\n",
       "  <tbody>\n",
       "    <tr>\n",
       "      <th>0</th>\n",
       "      <td>1</td>\n",
       "      <td>David</td>\n",
       "      <td>Sales</td>\n",
       "    </tr>\n",
       "    <tr>\n",
       "      <th>1</th>\n",
       "      <td>2</td>\n",
       "      <td>Emma</td>\n",
       "      <td>Support</td>\n",
       "    </tr>\n",
       "    <tr>\n",
       "      <th>2</th>\n",
       "      <td>3</td>\n",
       "      <td>Frank</td>\n",
       "      <td>Sales</td>\n",
       "    </tr>\n",
       "  </tbody>\n",
       "</table>\n",
       "</div>"
      ],
      "text/plain": [
       "   id   name department\n",
       "0   1  David      Sales\n",
       "1   2   Emma    Support\n",
       "2   3  Frank      Sales"
      ]
     },
     "execution_count": 19,
     "metadata": {},
     "output_type": "execute_result"
    }
   ],
   "source": [
    "query5 = \"SELECT * FROM employees\"\n",
    "data5 = pd.read_sql(query5, conn)\n",
    "\n",
    "data5.tail()"
   ]
  },
  {
   "cell_type": "code",
   "execution_count": 20,
   "metadata": {},
   "outputs": [
    {
     "name": "stdout",
     "output_type": "stream",
     "text": [
      " Đã tạo bảng 'order_assignments' với composite key gồm 3 cột\n",
      "Đã chèn dữ liệu vào bảng 'order_assignments'\n"
     ]
    }
   ],
   "source": [
    "cursor.execute(\"\"\"\n",
    "CREATE TABLE IF NOT EXISTS order_assignments (\n",
    "    id INT AUTO_INCREMENT,           -- Cột id tự động tăng\n",
    "    order_id INT,\n",
    "    employee_id INT,\n",
    "    PRIMARY KEY (id, order_id, employee_id),  -- Khóa chính kết hợp (composite key) gồm 3 cột\n",
    "    FOREIGN KEY (order_id) REFERENCES orders(id),\n",
    "    FOREIGN KEY (employee_id) REFERENCES employees(id)\n",
    ");\n",
    "\"\"\")\n",
    "print(\" Đã tạo bảng 'order_assignments' với composite key gồm 3 cột\")\n",
    "\n",
    "order_assignments_data = [(1, 1, 1), (2, 2, 3), (3, 3, 2)]  # Cập nhật lại dữ liệu cho đúng với 3 cột khóa\n",
    "cursor.executemany(\"INSERT INTO order_assignments (id, order_id, employee_id) VALUES (%s, %s, %s)\", order_assignments_data)\n",
    "conn.commit()\n",
    "print(\"Đã chèn dữ liệu vào bảng 'order_assignments'\")\n"
   ]
  },
  {
   "cell_type": "code",
   "execution_count": 21,
   "metadata": {},
   "outputs": [
    {
     "name": "stderr",
     "output_type": "stream",
     "text": [
      "C:\\Users\\Learning\\AppData\\Local\\Temp\\ipykernel_11116\\4109343897.py:2: UserWarning: pandas only supports SQLAlchemy connectable (engine/connection) or database string URI or sqlite3 DBAPI2 connection. Other DBAPI2 objects are not tested. Please consider using SQLAlchemy.\n",
      "  data6 = pd.read_sql(query6, conn)\n"
     ]
    },
    {
     "data": {
      "text/html": [
       "<div>\n",
       "<style scoped>\n",
       "    .dataframe tbody tr th:only-of-type {\n",
       "        vertical-align: middle;\n",
       "    }\n",
       "\n",
       "    .dataframe tbody tr th {\n",
       "        vertical-align: top;\n",
       "    }\n",
       "\n",
       "    .dataframe thead th {\n",
       "        text-align: right;\n",
       "    }\n",
       "</style>\n",
       "<table border=\"1\" class=\"dataframe\">\n",
       "  <thead>\n",
       "    <tr style=\"text-align: right;\">\n",
       "      <th></th>\n",
       "      <th>id</th>\n",
       "      <th>order_id</th>\n",
       "      <th>employee_id</th>\n",
       "    </tr>\n",
       "  </thead>\n",
       "  <tbody>\n",
       "    <tr>\n",
       "      <th>0</th>\n",
       "      <td>1</td>\n",
       "      <td>1</td>\n",
       "      <td>1</td>\n",
       "    </tr>\n",
       "    <tr>\n",
       "      <th>1</th>\n",
       "      <td>2</td>\n",
       "      <td>2</td>\n",
       "      <td>3</td>\n",
       "    </tr>\n",
       "    <tr>\n",
       "      <th>2</th>\n",
       "      <td>3</td>\n",
       "      <td>3</td>\n",
       "      <td>2</td>\n",
       "    </tr>\n",
       "  </tbody>\n",
       "</table>\n",
       "</div>"
      ],
      "text/plain": [
       "   id  order_id  employee_id\n",
       "0   1         1            1\n",
       "1   2         2            3\n",
       "2   3         3            2"
      ]
     },
     "execution_count": 21,
     "metadata": {},
     "output_type": "execute_result"
    }
   ],
   "source": [
    "query6 = \"SELECT * FROM order_assignments\"\n",
    "data6 = pd.read_sql(query6, conn)\n",
    "\n",
    "data6.tail()"
   ]
  },
  {
   "cell_type": "code",
   "execution_count": 22,
   "metadata": {},
   "outputs": [
    {
     "name": "stdout",
     "output_type": "stream",
     "text": [
      "Hiển thị dữ liệu bảng: customers\n",
      "(1, 'Alice', 'Hanoi')\n",
      "(2, 'Bob', 'Ho Chi Minh')\n",
      "(3, 'Charlie', 'Hanoi')\n",
      "\n",
      "\n",
      "Hiển thị dữ liệu bảng: employees\n",
      "(1, 'David', 'Sales')\n",
      "(2, 'Emma', 'Support')\n",
      "(3, 'Frank', 'Sales')\n",
      "\n",
      "\n",
      "Hiển thị dữ liệu bảng: order_assignments\n",
      "(1, 1, 1)\n",
      "(2, 2, 3)\n",
      "(3, 3, 2)\n",
      "\n",
      "\n",
      "Hiển thị dữ liệu bảng: order_items\n",
      "(1, 1, 2, 2)\n",
      "(2, 1, 3, 1)\n",
      "(3, 2, 1, 1)\n",
      "(4, 2, 4, 1)\n",
      "(5, 3, 1, 1)\n",
      "\n",
      "\n",
      "Hiển thị dữ liệu bảng: orders\n",
      "(1, 1, datetime.date(2024, 1, 1), 600)\n",
      "(2, 2, datetime.date(2024, 3, 1), 800)\n",
      "(3, 3, datetime.date(2024, 2, 2), 1200)\n",
      "(4, 3, datetime.date(2024, 1, 15), 200)\n",
      "\n",
      "\n",
      "Hiển thị dữ liệu bảng: products\n",
      "(1, 'Laptop', 1500)\n",
      "(2, 'Mouse', 100)\n",
      "(3, 'Keyboard', 50)\n",
      "(4, 'Monitor', 300)\n",
      "\n",
      "\n"
     ]
    }
   ],
   "source": [
    "# Để lấy danh sách các bảng\n",
    "cursor.execute(\"SHOW TABLES\")\n",
    "tables = cursor.fetchall() #trả về tất cả các dòng (rows) của kết quả truy vấn dưới dạng một danh sách các tuple\n",
    "#Đây là vòng lặp, lặp qua từng phần tử trong danh sách tables. Mỗi phần tử của tables là một tuple chứa tên bảng.\n",
    "for table in tables:\n",
    "    table_name = table[0]\n",
    "    print(f\"Hiển thị dữ liệu bảng: {table_name}\")\n",
    "    \n",
    "    # Truy vấn tất cả dữ liệu từ bảng hiện tại\n",
    "    cursor.execute(f\"SELECT * FROM {table_name}\")\n",
    "    rows = cursor.fetchall()\n",
    "    \n",
    "    # Hiển thị dữ liệu\n",
    "    for row in rows:\n",
    "        print(row)\n",
    "    print(\"\\n\")\n"
   ]
  },
  {
   "cell_type": "markdown",
   "metadata": {},
   "source": [
    "Subquery trong WHERE\n",
    "Tìm tất cả khách hàng đã từng mua đơn hàng chứa sản phẩm có giá lớn hơn 1000"
   ]
  },
  {
   "cell_type": "code",
   "execution_count": 37,
   "metadata": {},
   "outputs": [
    {
     "name": "stderr",
     "output_type": "stream",
     "text": [
      "C:\\Users\\LENOVO\\AppData\\Local\\Temp\\ipykernel_20904\\2292377035.py:18: UserWarning: pandas only supports SQLAlchemy connectable (engine/connection) or database string URI or sqlite3 DBAPI2 connection. Other DBAPI2 objects are not tested. Please consider using SQLAlchemy.\n",
      "  cau1df = pd.read_sql(cau1, conn)\n"
     ]
    },
    {
     "data": {
      "text/html": [
       "<div>\n",
       "<style scoped>\n",
       "    .dataframe tbody tr th:only-of-type {\n",
       "        vertical-align: middle;\n",
       "    }\n",
       "\n",
       "    .dataframe tbody tr th {\n",
       "        vertical-align: top;\n",
       "    }\n",
       "\n",
       "    .dataframe thead th {\n",
       "        text-align: right;\n",
       "    }\n",
       "</style>\n",
       "<table border=\"1\" class=\"dataframe\">\n",
       "  <thead>\n",
       "    <tr style=\"text-align: right;\">\n",
       "      <th></th>\n",
       "      <th>name</th>\n",
       "    </tr>\n",
       "  </thead>\n",
       "  <tbody>\n",
       "    <tr>\n",
       "      <th>0</th>\n",
       "      <td>Bob</td>\n",
       "    </tr>\n",
       "    <tr>\n",
       "      <th>1</th>\n",
       "      <td>Charlie</td>\n",
       "    </tr>\n",
       "  </tbody>\n",
       "</table>\n",
       "</div>"
      ],
      "text/plain": [
       "      name\n",
       "0      Bob\n",
       "1  Charlie"
      ]
     },
     "execution_count": 37,
     "metadata": {},
     "output_type": "execute_result"
    }
   ],
   "source": [
    "cau1 = \"\"\"SELECT name\n",
    "        FROM customers\n",
    "        WHERE id IN (\n",
    "                        SELECT customer\n",
    "                        FROM orders\n",
    "                        WHERE id IN (\n",
    "                                        SELECT order_id\n",
    "                                        FROM order_items\n",
    "                                        WHERE product_id IN (\n",
    "                                                        SELECT id\n",
    "                                                        FROM products\n",
    "                                                        WHERE price > 1000\n",
    "                                )\n",
    "        )\n",
    "        );\n",
    "\n",
    "        \"\"\"\n",
    "cau1df = pd.read_sql(cau1, conn)\n",
    "\n",
    "cau1df.tail()"
   ]
  },
  {
   "cell_type": "code",
   "execution_count": 38,
   "metadata": {},
   "outputs": [
    {
     "name": "stderr",
     "output_type": "stream",
     "text": [
      "C:\\Users\\LENOVO\\AppData\\Local\\Temp\\ipykernel_20904\\3713680964.py:7: UserWarning: pandas only supports SQLAlchemy connectable (engine/connection) or database string URI or sqlite3 DBAPI2 connection. Other DBAPI2 objects are not tested. Please consider using SQLAlchemy.\n",
      "  cau1dfa=pd.read_sql(cau1,conn)\n"
     ]
    },
    {
     "data": {
      "text/html": [
       "<div>\n",
       "<style scoped>\n",
       "    .dataframe tbody tr th:only-of-type {\n",
       "        vertical-align: middle;\n",
       "    }\n",
       "\n",
       "    .dataframe tbody tr th {\n",
       "        vertical-align: top;\n",
       "    }\n",
       "\n",
       "    .dataframe thead th {\n",
       "        text-align: right;\n",
       "    }\n",
       "</style>\n",
       "<table border=\"1\" class=\"dataframe\">\n",
       "  <thead>\n",
       "    <tr style=\"text-align: right;\">\n",
       "      <th></th>\n",
       "      <th>name</th>\n",
       "    </tr>\n",
       "  </thead>\n",
       "  <tbody>\n",
       "    <tr>\n",
       "      <th>0</th>\n",
       "      <td>Bob</td>\n",
       "    </tr>\n",
       "    <tr>\n",
       "      <th>1</th>\n",
       "      <td>Charlie</td>\n",
       "    </tr>\n",
       "  </tbody>\n",
       "</table>\n",
       "</div>"
      ],
      "text/plain": [
       "      name\n",
       "0      Bob\n",
       "1  Charlie"
      ]
     },
     "execution_count": 38,
     "metadata": {},
     "output_type": "execute_result"
    }
   ],
   "source": [
    "cau1a=\"\"\"SELECT DISTINCT c.name\n",
    "            FROM customers c\n",
    "            JOIN orders o ON c.id = o.customer\n",
    "            JOIN order_items oi ON o.id = oi.order_id\n",
    "            JOIN products p ON oi.product_id = p.id\n",
    "            WHERE p.price > 1000;\"\"\"\n",
    "cau1dfa=pd.read_sql(cau1,conn)\n",
    "cau1dfa.tail()"
   ]
  },
  {
   "cell_type": "markdown",
   "metadata": {},
   "source": [
    "Subquery trong SELECT\n",
    "\n",
    "Liệt kê tên từng khách hàng và tổng giá trị tất cả đơn hàng mà họ đã đặt."
   ]
  },
  {
   "cell_type": "code",
   "execution_count": 41,
   "metadata": {},
   "outputs": [
    {
     "name": "stderr",
     "output_type": "stream",
     "text": [
      "C:\\Users\\LENOVO\\AppData\\Local\\Temp\\ipykernel_20904\\1451954508.py:13: UserWarning: pandas only supports SQLAlchemy connectable (engine/connection) or database string URI or sqlite3 DBAPI2 connection. Other DBAPI2 objects are not tested. Please consider using SQLAlchemy.\n",
      "  cau2df=pd.read_sql(cau2,conn)\n"
     ]
    },
    {
     "data": {
      "text/html": [
       "<div>\n",
       "<style scoped>\n",
       "    .dataframe tbody tr th:only-of-type {\n",
       "        vertical-align: middle;\n",
       "    }\n",
       "\n",
       "    .dataframe tbody tr th {\n",
       "        vertical-align: top;\n",
       "    }\n",
       "\n",
       "    .dataframe thead th {\n",
       "        text-align: right;\n",
       "    }\n",
       "</style>\n",
       "<table border=\"1\" class=\"dataframe\">\n",
       "  <thead>\n",
       "    <tr style=\"text-align: right;\">\n",
       "      <th></th>\n",
       "      <th>name</th>\n",
       "      <th>total_spent</th>\n",
       "    </tr>\n",
       "  </thead>\n",
       "  <tbody>\n",
       "    <tr>\n",
       "      <th>0</th>\n",
       "      <td>Alice</td>\n",
       "      <td>50.0</td>\n",
       "    </tr>\n",
       "    <tr>\n",
       "      <th>1</th>\n",
       "      <td>Bob</td>\n",
       "      <td>2000.0</td>\n",
       "    </tr>\n",
       "    <tr>\n",
       "      <th>2</th>\n",
       "      <td>Charlie</td>\n",
       "      <td>1500.0</td>\n",
       "    </tr>\n",
       "  </tbody>\n",
       "</table>\n",
       "</div>"
      ],
      "text/plain": [
       "      name  total_spent\n",
       "0    Alice         50.0\n",
       "1      Bob       2000.0\n",
       "2  Charlie       1500.0"
      ]
     },
     "execution_count": 41,
     "metadata": {},
     "output_type": "execute_result"
    }
   ],
   "source": [
    "cau2 = \"\"\"SELECT \n",
    "                c.name,\n",
    "                (\n",
    "                    SELECT SUM(oi.quantity * p.price)\n",
    "                    FROM orders o\n",
    "                    JOIN order_items oi ON o.id = oi.order_id\n",
    "                    JOIN products p ON oi.product_id = p.id\n",
    "                    WHERE o.customer = c.id\n",
    "                ) AS total_spent\n",
    "            FROM customers c;\n",
    "\n",
    "\"\"\"\n",
    "cau2df=pd.read_sql(cau2,conn)\n",
    "cau2df.tail()"
   ]
  },
  {
   "cell_type": "code",
   "execution_count": 44,
   "metadata": {},
   "outputs": [
    {
     "name": "stderr",
     "output_type": "stream",
     "text": [
      "C:\\Users\\LENOVO\\AppData\\Local\\Temp\\ipykernel_20904\\542614336.py:16: UserWarning: pandas only supports SQLAlchemy connectable (engine/connection) or database string URI or sqlite3 DBAPI2 connection. Other DBAPI2 objects are not tested. Please consider using SQLAlchemy.\n",
      "  cau2dfa=pd.read_sql(cau2sub,conn)\n"
     ]
    },
    {
     "data": {
      "text/html": [
       "<div>\n",
       "<style scoped>\n",
       "    .dataframe tbody tr th:only-of-type {\n",
       "        vertical-align: middle;\n",
       "    }\n",
       "\n",
       "    .dataframe tbody tr th {\n",
       "        vertical-align: top;\n",
       "    }\n",
       "\n",
       "    .dataframe thead th {\n",
       "        text-align: right;\n",
       "    }\n",
       "</style>\n",
       "<table border=\"1\" class=\"dataframe\">\n",
       "  <thead>\n",
       "    <tr style=\"text-align: right;\">\n",
       "      <th></th>\n",
       "      <th>name</th>\n",
       "      <th>total_spent</th>\n",
       "    </tr>\n",
       "  </thead>\n",
       "  <tbody>\n",
       "    <tr>\n",
       "      <th>0</th>\n",
       "      <td>Alice</td>\n",
       "      <td>50.0</td>\n",
       "    </tr>\n",
       "    <tr>\n",
       "      <th>1</th>\n",
       "      <td>Bob</td>\n",
       "      <td>2000.0</td>\n",
       "    </tr>\n",
       "    <tr>\n",
       "      <th>2</th>\n",
       "      <td>Charlie</td>\n",
       "      <td>1500.0</td>\n",
       "    </tr>\n",
       "  </tbody>\n",
       "</table>\n",
       "</div>"
      ],
      "text/plain": [
       "      name  total_spent\n",
       "0    Alice         50.0\n",
       "1      Bob       2000.0\n",
       "2  Charlie       1500.0"
      ]
     },
     "execution_count": 44,
     "metadata": {},
     "output_type": "execute_result"
    }
   ],
   "source": [
    "cau2sub =\"\"\"SELECT \n",
    "            c.name,\n",
    "                    (\n",
    "                        SELECT SUM(oi.quantity * p.price)\n",
    "                        FROM order_items oi\n",
    "                        LEFT JOIN products p ON oi.product_id = p.id\n",
    "                        WHERE oi.order_id IN (\n",
    "                                                SELECT o.id\n",
    "                                                FROM orders o\n",
    "                                                WHERE o.customer = c.id\n",
    "                        )\n",
    "                    ) AS total_spent\n",
    "        FROM customers c;\n",
    "\"\"\"\n",
    "\n",
    "cau2dfa=pd.read_sql(cau2sub,conn)\n",
    "cau2dfa.tail()"
   ]
  },
  {
   "cell_type": "code",
   "execution_count": 45,
   "metadata": {},
   "outputs": [
    {
     "name": "stderr",
     "output_type": "stream",
     "text": [
      "C:\\Users\\LENOVO\\AppData\\Local\\Temp\\ipykernel_20904\\1300902243.py:14: UserWarning: pandas only supports SQLAlchemy connectable (engine/connection) or database string URI or sqlite3 DBAPI2 connection. Other DBAPI2 objects are not tested. Please consider using SQLAlchemy.\n",
      "  cau2df3=pd.read_sql(cau2c3,conn)\n"
     ]
    },
    {
     "data": {
      "text/html": [
       "<div>\n",
       "<style scoped>\n",
       "    .dataframe tbody tr th:only-of-type {\n",
       "        vertical-align: middle;\n",
       "    }\n",
       "\n",
       "    .dataframe tbody tr th {\n",
       "        vertical-align: top;\n",
       "    }\n",
       "\n",
       "    .dataframe thead th {\n",
       "        text-align: right;\n",
       "    }\n",
       "</style>\n",
       "<table border=\"1\" class=\"dataframe\">\n",
       "  <thead>\n",
       "    <tr style=\"text-align: right;\">\n",
       "      <th></th>\n",
       "      <th>name</th>\n",
       "      <th>total_spent</th>\n",
       "    </tr>\n",
       "  </thead>\n",
       "  <tbody>\n",
       "    <tr>\n",
       "      <th>0</th>\n",
       "      <td>Alice</td>\n",
       "      <td>50.0</td>\n",
       "    </tr>\n",
       "    <tr>\n",
       "      <th>1</th>\n",
       "      <td>Bob</td>\n",
       "      <td>2000.0</td>\n",
       "    </tr>\n",
       "    <tr>\n",
       "      <th>2</th>\n",
       "      <td>Charlie</td>\n",
       "      <td>1500.0</td>\n",
       "    </tr>\n",
       "  </tbody>\n",
       "</table>\n",
       "</div>"
      ],
      "text/plain": [
       "      name  total_spent\n",
       "0    Alice         50.0\n",
       "1      Bob       2000.0\n",
       "2  Charlie       1500.0"
      ]
     },
     "execution_count": 45,
     "metadata": {},
     "output_type": "execute_result"
    }
   ],
   "source": [
    "cau2c3 = \"\"\"SELECT \n",
    "    c.name,\n",
    "    (\n",
    "        SELECT SUM(oi.quantity * (SELECT p.price FROM products p WHERE p.id = oi.product_id))\n",
    "        FROM order_items oi\n",
    "        WHERE oi.order_id IN (\n",
    "            SELECT o.id\n",
    "            FROM orders o\n",
    "            WHERE o.customer = c.id\n",
    "        )\n",
    "    ) AS total_spent\n",
    "FROM customers c;\n",
    "\"\"\"\n",
    "cau2df3=pd.read_sql(cau2c3,conn)\n",
    "cau2df3.tail()"
   ]
  },
  {
   "cell_type": "markdown",
   "metadata": {},
   "source": [
    "Subquery trong FROM\n",
    "Hiển thị top 2 khách hàng có tổng chi tiêu cao nhất (dựa trên cột total của đơn\n",
    "hàng).\n"
   ]
  },
  {
   "cell_type": "code",
   "execution_count": 57,
   "metadata": {},
   "outputs": [
    {
     "name": "stderr",
     "output_type": "stream",
     "text": [
      "C:\\Users\\LENOVO\\AppData\\Local\\Temp\\ipykernel_20904\\710937030.py:8: UserWarning: pandas only supports SQLAlchemy connectable (engine/connection) or database string URI or sqlite3 DBAPI2 connection. Other DBAPI2 objects are not tested. Please consider using SQLAlchemy.\n",
      "  cau3df1=pd.read_sql(cau3c1,conn)\n"
     ]
    },
    {
     "data": {
      "text/html": [
       "<div>\n",
       "<style scoped>\n",
       "    .dataframe tbody tr th:only-of-type {\n",
       "        vertical-align: middle;\n",
       "    }\n",
       "\n",
       "    .dataframe tbody tr th {\n",
       "        vertical-align: top;\n",
       "    }\n",
       "\n",
       "    .dataframe thead th {\n",
       "        text-align: right;\n",
       "    }\n",
       "</style>\n",
       "<table border=\"1\" class=\"dataframe\">\n",
       "  <thead>\n",
       "    <tr style=\"text-align: right;\">\n",
       "      <th></th>\n",
       "      <th>id</th>\n",
       "      <th>name</th>\n",
       "      <th>total_spent</th>\n",
       "    </tr>\n",
       "  </thead>\n",
       "  <tbody>\n",
       "    <tr>\n",
       "      <th>0</th>\n",
       "      <td>3</td>\n",
       "      <td>Charlie</td>\n",
       "      <td>1200.0</td>\n",
       "    </tr>\n",
       "    <tr>\n",
       "      <th>1</th>\n",
       "      <td>2</td>\n",
       "      <td>Bob</td>\n",
       "      <td>800.0</td>\n",
       "    </tr>\n",
       "  </tbody>\n",
       "</table>\n",
       "</div>"
      ],
      "text/plain": [
       "   id     name  total_spent\n",
       "0   3  Charlie       1200.0\n",
       "1   2      Bob        800.0"
      ]
     },
     "execution_count": 57,
     "metadata": {},
     "output_type": "execute_result"
    }
   ],
   "source": [
    "cau3c1=\"\"\"SELECT c.id, c.name, SUM(o.total) AS total_spent\n",
    "            FROM customers c\n",
    "            JOIN orders o ON c.id = o.id\n",
    "            GROUP BY c.id, c.name\n",
    "            ORDER BY total_spent DESC\n",
    "            LIMIT 2;\n",
    "\"\"\"\n",
    "cau3df1=pd.read_sql(cau3c1,conn)\n",
    "cau3df1.tail()"
   ]
  },
  {
   "cell_type": "code",
   "execution_count": 62,
   "metadata": {},
   "outputs": [
    {
     "name": "stderr",
     "output_type": "stream",
     "text": [
      "C:\\Users\\LENOVO\\AppData\\Local\\Temp\\ipykernel_20904\\323868752.py:11: UserWarning: pandas only supports SQLAlchemy connectable (engine/connection) or database string URI or sqlite3 DBAPI2 connection. Other DBAPI2 objects are not tested. Please consider using SQLAlchemy.\n",
      "  cau3df2 = pd.read_sql(cau3c2, conn)\n"
     ]
    },
    {
     "data": {
      "text/html": [
       "<div>\n",
       "<style scoped>\n",
       "    .dataframe tbody tr th:only-of-type {\n",
       "        vertical-align: middle;\n",
       "    }\n",
       "\n",
       "    .dataframe tbody tr th {\n",
       "        vertical-align: top;\n",
       "    }\n",
       "\n",
       "    .dataframe thead th {\n",
       "        text-align: right;\n",
       "    }\n",
       "</style>\n",
       "<table border=\"1\" class=\"dataframe\">\n",
       "  <thead>\n",
       "    <tr style=\"text-align: right;\">\n",
       "      <th></th>\n",
       "      <th>id</th>\n",
       "      <th>name</th>\n",
       "      <th>total_spent</th>\n",
       "    </tr>\n",
       "  </thead>\n",
       "  <tbody>\n",
       "    <tr>\n",
       "      <th>0</th>\n",
       "      <td>3</td>\n",
       "      <td>Charlie</td>\n",
       "      <td>1200.0</td>\n",
       "    </tr>\n",
       "    <tr>\n",
       "      <th>1</th>\n",
       "      <td>2</td>\n",
       "      <td>Bob</td>\n",
       "      <td>800.0</td>\n",
       "    </tr>\n",
       "  </tbody>\n",
       "</table>\n",
       "</div>"
      ],
      "text/plain": [
       "   id     name  total_spent\n",
       "0   3  Charlie       1200.0\n",
       "1   2      Bob        800.0"
      ]
     },
     "execution_count": 62,
     "metadata": {},
     "output_type": "execute_result"
    }
   ],
   "source": [
    "cau3c2 = \"\"\"\n",
    "SELECT c.id, c.name, top_customers.total_spent\n",
    "FROM customers c,\n",
    "    (SELECT o.id AS customer_id, SUM(o.total) AS total_spent\n",
    "     FROM orders o\n",
    "     GROUP BY o.id) AS top_customers\n",
    "WHERE c.id = top_customers.customer_id\n",
    "ORDER BY top_customers.total_spent DESC\n",
    "LIMIT 2;\n",
    "\"\"\"\n",
    "cau3df2 = pd.read_sql(cau3c2, conn)\n",
    "cau3df2.tail()\n"
   ]
  },
  {
   "cell_type": "code",
   "execution_count": 65,
   "metadata": {},
   "outputs": [
    {
     "name": "stderr",
     "output_type": "stream",
     "text": [
      "C:\\Users\\LENOVO\\AppData\\Local\\Temp\\ipykernel_20904\\4019004312.py:17: UserWarning: pandas only supports SQLAlchemy connectable (engine/connection) or database string URI or sqlite3 DBAPI2 connection. Other DBAPI2 objects are not tested. Please consider using SQLAlchemy.\n",
      "  cau4df1 = pd.read_sql(cau4c1, conn)\n"
     ]
    },
    {
     "data": {
      "text/html": [
       "<div>\n",
       "<style scoped>\n",
       "    .dataframe tbody tr th:only-of-type {\n",
       "        vertical-align: middle;\n",
       "    }\n",
       "\n",
       "    .dataframe tbody tr th {\n",
       "        vertical-align: top;\n",
       "    }\n",
       "\n",
       "    .dataframe thead th {\n",
       "        text-align: right;\n",
       "    }\n",
       "</style>\n",
       "<table border=\"1\" class=\"dataframe\">\n",
       "  <thead>\n",
       "    <tr style=\"text-align: right;\">\n",
       "      <th></th>\n",
       "      <th>name</th>\n",
       "    </tr>\n",
       "  </thead>\n",
       "  <tbody>\n",
       "    <tr>\n",
       "      <th>0</th>\n",
       "      <td>Frank</td>\n",
       "    </tr>\n",
       "  </tbody>\n",
       "</table>\n",
       "</div>"
      ],
      "text/plain": [
       "    name\n",
       "0  Frank"
      ]
     },
     "execution_count": 65,
     "metadata": {},
     "output_type": "execute_result"
    }
   ],
   "source": [
    "cau4c1 = \"\"\"SELECT e.name\n",
    "FROM employees e\n",
    "WHERE e.department = 'Sales'\n",
    "AND EXISTS (\n",
    "    SELECT 1\n",
    "    FROM order_assignments oa\n",
    "    JOIN orders o ON oa.order_id = o.id\n",
    "    JOIN order_items oi ON o.id = oi.order_id\n",
    "    JOIN products p ON oi.product_id = p.id\n",
    "    WHERE oa.employee_id = e.id\n",
    "    AND p.name = 'Monitor'\n",
    ");\n",
    "\n",
    "\n",
    "\"\"\"\n",
    "\n",
    "cau4df1 = pd.read_sql(cau4c1, conn)\n",
    "cau4df1.tail()\n"
   ]
  },
  {
   "cell_type": "code",
   "execution_count": 66,
   "metadata": {},
   "outputs": [
    {
     "name": "stderr",
     "output_type": "stream",
     "text": [
      "C:\\Users\\LENOVO\\AppData\\Local\\Temp\\ipykernel_20904\\580007733.py:26: UserWarning: pandas only supports SQLAlchemy connectable (engine/connection) or database string URI or sqlite3 DBAPI2 connection. Other DBAPI2 objects are not tested. Please consider using SQLAlchemy.\n",
      "  cau4df2=pd.read_sql(cau4c2,conn)\n"
     ]
    },
    {
     "data": {
      "text/html": [
       "<div>\n",
       "<style scoped>\n",
       "    .dataframe tbody tr th:only-of-type {\n",
       "        vertical-align: middle;\n",
       "    }\n",
       "\n",
       "    .dataframe tbody tr th {\n",
       "        vertical-align: top;\n",
       "    }\n",
       "\n",
       "    .dataframe thead th {\n",
       "        text-align: right;\n",
       "    }\n",
       "</style>\n",
       "<table border=\"1\" class=\"dataframe\">\n",
       "  <thead>\n",
       "    <tr style=\"text-align: right;\">\n",
       "      <th></th>\n",
       "      <th>name</th>\n",
       "    </tr>\n",
       "  </thead>\n",
       "  <tbody>\n",
       "    <tr>\n",
       "      <th>0</th>\n",
       "      <td>Frank</td>\n",
       "    </tr>\n",
       "  </tbody>\n",
       "</table>\n",
       "</div>"
      ],
      "text/plain": [
       "    name\n",
       "0  Frank"
      ]
     },
     "execution_count": 66,
     "metadata": {},
     "output_type": "execute_result"
    }
   ],
   "source": [
    "cau4c2 = \"\"\"SELECT e.name\n",
    "FROM employees e\n",
    "WHERE e.department = 'Sales'\n",
    "AND EXISTS (\n",
    "    SELECT 1\n",
    "    FROM order_assignments oa\n",
    "    WHERE oa.employee_id = e.id\n",
    "    AND EXISTS (\n",
    "        SELECT 1\n",
    "        FROM orders o\n",
    "        WHERE o.id = oa.order_id\n",
    "        AND EXISTS (\n",
    "            SELECT 1\n",
    "            FROM order_items oi\n",
    "            WHERE oi.order_id = o.id\n",
    "            AND EXISTS (\n",
    "                SELECT 1\n",
    "                FROM products p\n",
    "                WHERE p.id = oi.product_id\n",
    "                AND p.name = 'Monitor'\n",
    "            )\n",
    "        )\n",
    "    )\n",
    ");\n",
    "\"\"\"\n",
    "cau4df2=pd.read_sql(cau4c2,conn)\n",
    "cau4df2.tail()"
   ]
  },
  {
   "cell_type": "code",
   "execution_count": 69,
   "metadata": {},
   "outputs": [
    {
     "name": "stderr",
     "output_type": "stream",
     "text": [
      "C:\\Users\\LENOVO\\AppData\\Local\\Temp\\ipykernel_20904\\2493567142.py:21: UserWarning: pandas only supports SQLAlchemy connectable (engine/connection) or database string URI or sqlite3 DBAPI2 connection. Other DBAPI2 objects are not tested. Please consider using SQLAlchemy.\n",
      "  cau5df1 = pd.read_sql(cau5c1,conn)\n"
     ]
    },
    {
     "data": {
      "text/html": [
       "<div>\n",
       "<style scoped>\n",
       "    .dataframe tbody tr th:only-of-type {\n",
       "        vertical-align: middle;\n",
       "    }\n",
       "\n",
       "    .dataframe tbody tr th {\n",
       "        vertical-align: top;\n",
       "    }\n",
       "\n",
       "    .dataframe thead th {\n",
       "        text-align: right;\n",
       "    }\n",
       "</style>\n",
       "<table border=\"1\" class=\"dataframe\">\n",
       "  <thead>\n",
       "    <tr style=\"text-align: right;\">\n",
       "      <th></th>\n",
       "      <th>name</th>\n",
       "      <th>total_spent</th>\n",
       "    </tr>\n",
       "  </thead>\n",
       "  <tbody>\n",
       "    <tr>\n",
       "      <th>0</th>\n",
       "      <td>Bob</td>\n",
       "      <td>2000.0</td>\n",
       "    </tr>\n",
       "    <tr>\n",
       "      <th>1</th>\n",
       "      <td>Charlie</td>\n",
       "      <td>1500.0</td>\n",
       "    </tr>\n",
       "  </tbody>\n",
       "</table>\n",
       "</div>"
      ],
      "text/plain": [
       "      name  total_spent\n",
       "0      Bob       2000.0\n",
       "1  Charlie       1500.0"
      ]
     },
     "execution_count": 69,
     "metadata": {},
     "output_type": "execute_result"
    }
   ],
   "source": [
    "cau5c1=\"\"\"SELECT c.name, SUM(oi.quantity * p.price) AS total_spent\n",
    "FROM customers c\n",
    "JOIN orders o ON o.customer = c.id   -- Sử dụng cột 'customer' trong bảng 'orders'\n",
    "JOIN order_items oi ON oi.order_id = o.id\n",
    "JOIN products p ON p.id = oi.product_id\n",
    "GROUP BY c.id\n",
    "HAVING SUM(oi.quantity * p.price) > (\n",
    "    SELECT AVG(total_spent)\n",
    "    FROM (\n",
    "        SELECT SUM(oi.quantity * p.price) AS total_spent\n",
    "        FROM customers c\n",
    "        JOIN orders o ON o.customer = c.id   -- Sử dụng cột 'customer' trong bảng 'orders'\n",
    "        JOIN order_items oi ON oi.order_id = o.id\n",
    "        JOIN products p ON p.id = oi.product_id\n",
    "        GROUP BY c.id\n",
    "    ) AS avg_spent\n",
    ");\n",
    "\n",
    "\n",
    "\"\"\"\n",
    "cau5df1 = pd.read_sql(cau5c1,conn)\n",
    "cau5df1"
   ]
  },
  {
   "cell_type": "code",
   "execution_count": 75,
   "metadata": {},
   "outputs": [
    {
     "name": "stderr",
     "output_type": "stream",
     "text": [
      "C:\\Users\\LENOVO\\AppData\\Local\\Temp\\ipykernel_20904\\2886457797.py:33: UserWarning: pandas only supports SQLAlchemy connectable (engine/connection) or database string URI or sqlite3 DBAPI2 connection. Other DBAPI2 objects are not tested. Please consider using SQLAlchemy.\n",
      "  cau5df2 = pd.read_sql(cau5c2,conn)\n"
     ]
    },
    {
     "data": {
      "text/html": [
       "<div>\n",
       "<style scoped>\n",
       "    .dataframe tbody tr th:only-of-type {\n",
       "        vertical-align: middle;\n",
       "    }\n",
       "\n",
       "    .dataframe tbody tr th {\n",
       "        vertical-align: top;\n",
       "    }\n",
       "\n",
       "    .dataframe thead th {\n",
       "        text-align: right;\n",
       "    }\n",
       "</style>\n",
       "<table border=\"1\" class=\"dataframe\">\n",
       "  <thead>\n",
       "    <tr style=\"text-align: right;\">\n",
       "      <th></th>\n",
       "      <th>name</th>\n",
       "      <th>total_spent</th>\n",
       "    </tr>\n",
       "  </thead>\n",
       "  <tbody>\n",
       "    <tr>\n",
       "      <th>0</th>\n",
       "      <td>Bob</td>\n",
       "      <td>1800.0</td>\n",
       "    </tr>\n",
       "    <tr>\n",
       "      <th>1</th>\n",
       "      <td>Charlie</td>\n",
       "      <td>1500.0</td>\n",
       "    </tr>\n",
       "  </tbody>\n",
       "</table>\n",
       "</div>"
      ],
      "text/plain": [
       "      name  total_spent\n",
       "0      Bob       1800.0\n",
       "1  Charlie       1500.0"
      ]
     },
     "execution_count": 75,
     "metadata": {},
     "output_type": "execute_result"
    }
   ],
   "source": [
    "cau5c2 = \"\"\"SELECT c.name,\n",
    "    (\n",
    "        SELECT SUM(oi.quantity * p.price)\n",
    "        FROM order_items oi\n",
    "        INNER JOIN products p ON oi.product_id = p.id\n",
    "        WHERE oi.order_id IN (\n",
    "            SELECT o.id\n",
    "            FROM orders o\n",
    "            WHERE o.customer = c.id\n",
    "        )\n",
    "    ) AS total_spent\n",
    "FROM customers c\n",
    "HAVING total_spent > (\n",
    "    SELECT AVG(total_spent)\n",
    "    FROM (\n",
    "        SELECT \n",
    "            (\n",
    "                SELECT SUM(oi.quantity * p.price)\n",
    "                FROM order_items oi\n",
    "                INNER JOIN products p ON oi.product_id = p.id\n",
    "                WHERE oi.order_id IN (\n",
    "                    SELECT o.id\n",
    "                    FROM orders o\n",
    "                    WHERE o.customer = c.id\n",
    "                )\n",
    "            ) AS total_spent\n",
    "        FROM customers c\n",
    "    ) AS avg_spent\n",
    ");\n",
    "\n",
    "\n",
    "\"\"\"\n",
    "cau5df2 = pd.read_sql(cau5c2,conn)\n",
    "cau5df2"
   ]
  },
  {
   "cell_type": "markdown",
   "metadata": {},
   "source": [
    "Tạo bảng tạm khách hàng VIP\n",
    "Tạo bảng tạm vip_customers gồm những khách hàng có tổng giá trị đơn hàng lớn\n",
    "hơn 1000.\n",
    "Sau đó, hiển thị tên và tổng chi tiêu của các khách hàng trong bảng tạm này."
   ]
  },
  {
   "cell_type": "code",
   "execution_count": 13,
   "metadata": {},
   "outputs": [],
   "source": [
    "query6join = \"\"\"CREATE TEMPORARY TABLE vip_customers AS\n",
    "            SELECT c.name , c.id ,  sum(o.total * ot.quantity) as total\n",
    "            FROM orders o \n",
    "            JOIN customers c   On c.id = o.customer\n",
    "            JOIN order_items  ot ON o.id = ot.order_id \n",
    "            GROUP BY c.name,c.id\n",
    "            HAVING total > 1000;\"\"\"\n",
    "cursor = conn.cursor()\n",
    "cursor.execute(query6join)\n"
   ]
  },
  {
   "cell_type": "code",
   "execution_count": 12,
   "metadata": {},
   "outputs": [],
   "source": [
    "querydrop = \"\"\"DROP TEMPORARY TABLE IF EXISTS vip_customers;\"\"\"\n",
    "cursor.execute(querydrop)\n"
   ]
  },
  {
   "cell_type": "code",
   "execution_count": 14,
   "metadata": {},
   "outputs": [
    {
     "name": "stdout",
     "output_type": "stream",
     "text": [
      "      name  id   total\n",
      "0    Alice   1  1800.0\n",
      "1      Bob   2  1600.0\n",
      "2  Charlie   3  1200.0\n"
     ]
    },
    {
     "name": "stderr",
     "output_type": "stream",
     "text": [
      "C:\\Users\\Learning\\AppData\\Local\\Temp\\ipykernel_17080\\3711229784.py:2: UserWarning: pandas only supports SQLAlchemy connectable (engine/connection) or database string URI or sqlite3 DBAPI2 connection. Other DBAPI2 objects are not tested. Please consider using SQLAlchemy.\n",
      "  cau6df1 = pd.read_sql(query6join1, conn)\n"
     ]
    }
   ],
   "source": [
    "query6join1 = \"SELECT * FROM vip_customers;\"\n",
    "cau6df1 = pd.read_sql(query6join1, conn)\n",
    "print(cau6df1)\n"
   ]
  },
  {
   "cell_type": "code",
   "execution_count": null,
   "metadata": {},
   "outputs": [],
   "source": [
    "query6join = \"\"\"CREATE TEMPORARY TABLE vip_customers AS\n",
    "            SELECT c.name , c.id ,  sum(o.total * ot.quantity) as total\n",
    "            FROM orders o \n",
    "            JOIN customers c   On c.id = o.customer\n",
    "            JOIN order_items  ot ON o.id = ot.order_id \n",
    "            GROUP BY c.name,c.id\n",
    "            HAVING total > 1000;\"\"\"\n",
    "cursor = conn.cursor()\n",
    "cursor.execute(query6join)\n"
   ]
  },
  {
   "cell_type": "code",
   "execution_count": 23,
   "metadata": {},
   "outputs": [],
   "source": [
    "query6sub = \"\"\"CREATE TEMPORARY TABLE vip_customer AS\n",
    "            SELECT \n",
    "                c.id,\n",
    "                c.name,\n",
    "                (\n",
    "                    SELECT SUM(\n",
    "                        o.total * (\n",
    "                            SELECT SUM(quantity)\n",
    "                            FROM order_items\n",
    "                            WHERE order_id = o.id\n",
    "                        )\n",
    "                    )\n",
    "                    FROM orders o\n",
    "                    WHERE o.customer = c.id\n",
    "                ) AS total\n",
    "            FROM customers c\n",
    "            HAVING total > 1000;\n",
    "\n",
    "\n",
    "\n",
    "            \"\"\"\n",
    "cursor = conn.cursor()\n",
    "cursor.execute(query6sub)"
   ]
  },
  {
   "cell_type": "code",
   "execution_count": 22,
   "metadata": {},
   "outputs": [],
   "source": [
    "querydrop = \"\"\"DROP TEMPORARY TABLE IF EXISTS vip_customer;\"\"\"\n",
    "cursor.execute(querydrop)"
   ]
  },
  {
   "cell_type": "code",
   "execution_count": 24,
   "metadata": {},
   "outputs": [
    {
     "name": "stdout",
     "output_type": "stream",
     "text": [
      "   id     name   total\n",
      "0   1    Alice  1800.0\n",
      "1   2      Bob  1600.0\n",
      "2   3  Charlie  1200.0\n"
     ]
    },
    {
     "name": "stderr",
     "output_type": "stream",
     "text": [
      "C:\\Users\\Learning\\AppData\\Local\\Temp\\ipykernel_17080\\2261310173.py:2: UserWarning: pandas only supports SQLAlchemy connectable (engine/connection) or database string URI or sqlite3 DBAPI2 connection. Other DBAPI2 objects are not tested. Please consider using SQLAlchemy.\n",
      "  cau6df2 = pd.read_sql(query6sub, conn)\n"
     ]
    }
   ],
   "source": [
    "query6sub = \"SELECT * FROM vip_customer;\"\n",
    "cau6df2 = pd.read_sql(query6sub, conn)\n",
    "print(cau6df2)\n"
   ]
  },
  {
   "cell_type": "markdown",
   "metadata": {},
   "source": [
    "7.\n",
    "Tạo bảng tạm sản phẩm phổ biến\n",
    "Tạo bảng tạm popular_products gồm những sản phẩm được bán ra với tổng số lượng\n",
    "từ 2 trở lên.\n",
    "Hiển thị tên và tổng số lượng bán ra của các sản phẩm nà"
   ]
  },
  {
   "cell_type": "code",
   "execution_count": 39,
   "metadata": {},
   "outputs": [],
   "source": [
    "query7join=\"\"\"CREATE TEMPORARY TABLE popular_products AS\n",
    "            SELECT \n",
    "                p.name, \n",
    "                p.id, \n",
    "                SUM(ot.quantity) AS SL\n",
    "            FROM products p\n",
    "            JOIN order_items ot ON p.id = ot.product_id\n",
    "            GROUP BY p.id, p.name\n",
    "            HAVING SL >= 2;\"\"\"\n",
    "\n",
    "cursor = conn.cursor()\n",
    "cursor.execute(query7join)"
   ]
  },
  {
   "cell_type": "code",
   "execution_count": 38,
   "metadata": {},
   "outputs": [],
   "source": [
    "querydrop = \"\"\"DROP TEMPORARY TABLE IF EXISTS popular_products;\"\"\"\n",
    "cursor.execute(querydrop)"
   ]
  },
  {
   "cell_type": "code",
   "execution_count": 40,
   "metadata": {},
   "outputs": [
    {
     "name": "stderr",
     "output_type": "stream",
     "text": [
      "C:\\Users\\Learning\\AppData\\Local\\Temp\\ipykernel_17080\\1884782070.py:2: UserWarning: pandas only supports SQLAlchemy connectable (engine/connection) or database string URI or sqlite3 DBAPI2 connection. Other DBAPI2 objects are not tested. Please consider using SQLAlchemy.\n",
      "  df_popular = pd.read_sql(query_show, conn)\n"
     ]
    },
    {
     "data": {
      "text/html": [
       "<div>\n",
       "<style scoped>\n",
       "    .dataframe tbody tr th:only-of-type {\n",
       "        vertical-align: middle;\n",
       "    }\n",
       "\n",
       "    .dataframe tbody tr th {\n",
       "        vertical-align: top;\n",
       "    }\n",
       "\n",
       "    .dataframe thead th {\n",
       "        text-align: right;\n",
       "    }\n",
       "</style>\n",
       "<table border=\"1\" class=\"dataframe\">\n",
       "  <thead>\n",
       "    <tr style=\"text-align: right;\">\n",
       "      <th></th>\n",
       "      <th>name</th>\n",
       "      <th>id</th>\n",
       "      <th>SL</th>\n",
       "    </tr>\n",
       "  </thead>\n",
       "  <tbody>\n",
       "    <tr>\n",
       "      <th>0</th>\n",
       "      <td>Laptop</td>\n",
       "      <td>1</td>\n",
       "      <td>2.0</td>\n",
       "    </tr>\n",
       "    <tr>\n",
       "      <th>1</th>\n",
       "      <td>Mouse</td>\n",
       "      <td>2</td>\n",
       "      <td>2.0</td>\n",
       "    </tr>\n",
       "  </tbody>\n",
       "</table>\n",
       "</div>"
      ],
      "text/plain": [
       "     name  id   SL\n",
       "0  Laptop   1  2.0\n",
       "1   Mouse   2  2.0"
      ]
     },
     "execution_count": 40,
     "metadata": {},
     "output_type": "execute_result"
    }
   ],
   "source": [
    "query_show = \"SELECT * FROM popular_products;\"\n",
    "df_popular = pd.read_sql(query_show, conn)\n",
    "df_popular\n"
   ]
  },
  {
   "cell_type": "code",
   "execution_count": 45,
   "metadata": {},
   "outputs": [],
   "source": [
    "query7sub = \"\"\"CREATE TEMPORARY TABLE popular_product AS\n",
    "                SELECT \n",
    "                    p.name, \n",
    "                    p.id,\n",
    "                    (\n",
    "                        SELECT SUM(quantity)\n",
    "                        FROM order_items\n",
    "                        WHERE product_id = p.id\n",
    "                    ) AS total_quantity\n",
    "                FROM products p\n",
    "                WHERE (\n",
    "                    SELECT SUM(quantity)\n",
    "                    FROM order_items\n",
    "                    WHERE product_id = p.id\n",
    "                ) >= 2;\n",
    "\"\"\"\n",
    "cursor = conn.cursor()\n",
    "cursor.execute(query7sub)"
   ]
  },
  {
   "cell_type": "code",
   "execution_count": 46,
   "metadata": {},
   "outputs": [
    {
     "name": "stderr",
     "output_type": "stream",
     "text": [
      "C:\\Users\\Learning\\AppData\\Local\\Temp\\ipykernel_17080\\919336230.py:2: UserWarning: pandas only supports SQLAlchemy connectable (engine/connection) or database string URI or sqlite3 DBAPI2 connection. Other DBAPI2 objects are not tested. Please consider using SQLAlchemy.\n",
      "  df_popular1 = pd.read_sql(query_show1, conn)\n"
     ]
    },
    {
     "data": {
      "text/html": [
       "<div>\n",
       "<style scoped>\n",
       "    .dataframe tbody tr th:only-of-type {\n",
       "        vertical-align: middle;\n",
       "    }\n",
       "\n",
       "    .dataframe tbody tr th {\n",
       "        vertical-align: top;\n",
       "    }\n",
       "\n",
       "    .dataframe thead th {\n",
       "        text-align: right;\n",
       "    }\n",
       "</style>\n",
       "<table border=\"1\" class=\"dataframe\">\n",
       "  <thead>\n",
       "    <tr style=\"text-align: right;\">\n",
       "      <th></th>\n",
       "      <th>name</th>\n",
       "      <th>id</th>\n",
       "      <th>total_quantity</th>\n",
       "    </tr>\n",
       "  </thead>\n",
       "  <tbody>\n",
       "    <tr>\n",
       "      <th>0</th>\n",
       "      <td>Laptop</td>\n",
       "      <td>1</td>\n",
       "      <td>2.0</td>\n",
       "    </tr>\n",
       "    <tr>\n",
       "      <th>1</th>\n",
       "      <td>Mouse</td>\n",
       "      <td>2</td>\n",
       "      <td>2.0</td>\n",
       "    </tr>\n",
       "  </tbody>\n",
       "</table>\n",
       "</div>"
      ],
      "text/plain": [
       "     name  id  total_quantity\n",
       "0  Laptop   1             2.0\n",
       "1   Mouse   2             2.0"
      ]
     },
     "execution_count": 46,
     "metadata": {},
     "output_type": "execute_result"
    }
   ],
   "source": [
    "query_show1 = \"SELECT * FROM popular_product;\"\n",
    "df_popular1 = pd.read_sql(query_show1, conn)\n",
    "df_popular1\n"
   ]
  },
  {
   "cell_type": "markdown",
   "metadata": {},
   "source": [
    "Subquery lồng nhau nhiều cấp\n",
    "Liệt kê tên các khách hàng có đơn hàng được xử lý bởi nhân viên có tổng doanh số\n",
    "lớn hơn 1000."
   ]
  },
  {
   "cell_type": "code",
   "execution_count": 49,
   "metadata": {},
   "outputs": [
    {
     "name": "stderr",
     "output_type": "stream",
     "text": [
      "C:\\Users\\Learning\\AppData\\Local\\Temp\\ipykernel_17080\\1554164473.py:14: UserWarning: pandas only supports SQLAlchemy connectable (engine/connection) or database string URI or sqlite3 DBAPI2 connection. Other DBAPI2 objects are not tested. Please consider using SQLAlchemy.\n",
      "  cau8df1 = pd.read_sql(query8sub,conn)\n"
     ]
    },
    {
     "data": {
      "text/html": [
       "<div>\n",
       "<style scoped>\n",
       "    .dataframe tbody tr th:only-of-type {\n",
       "        vertical-align: middle;\n",
       "    }\n",
       "\n",
       "    .dataframe tbody tr th {\n",
       "        vertical-align: top;\n",
       "    }\n",
       "\n",
       "    .dataframe thead th {\n",
       "        text-align: right;\n",
       "    }\n",
       "</style>\n",
       "<table border=\"1\" class=\"dataframe\">\n",
       "  <thead>\n",
       "    <tr style=\"text-align: right;\">\n",
       "      <th></th>\n",
       "      <th>name</th>\n",
       "      <th>id</th>\n",
       "      <th>total_sales</th>\n",
       "    </tr>\n",
       "  </thead>\n",
       "  <tbody>\n",
       "    <tr>\n",
       "      <th>0</th>\n",
       "      <td>Frank</td>\n",
       "      <td>3</td>\n",
       "      <td>1800.0</td>\n",
       "    </tr>\n",
       "    <tr>\n",
       "      <th>1</th>\n",
       "      <td>Emma</td>\n",
       "      <td>2</td>\n",
       "      <td>1500.0</td>\n",
       "    </tr>\n",
       "  </tbody>\n",
       "</table>\n",
       "</div>"
      ],
      "text/plain": [
       "    name  id  total_sales\n",
       "0  Frank   3       1800.0\n",
       "1   Emma   2       1500.0"
      ]
     },
     "execution_count": 49,
     "metadata": {},
     "output_type": "execute_result"
    }
   ],
   "source": [
    "query8sub = \"\"\"SELECT \n",
    "                    e.name, \n",
    "                    e.id, \n",
    "                    SUM(ot.quantity * p.price) AS total_sales\n",
    "                FROM order_assignments AS oa\n",
    "                JOIN employees AS e ON e.id = oa.employee_id\n",
    "                JOIN orders AS o ON oa.order_id = o.id\n",
    "                JOIN order_items AS ot ON o.id = ot.order_id \n",
    "                JOIN products AS p ON p.id = ot.product_id \n",
    "                JOIN customers AS c ON o.customer = c.id\n",
    "                GROUP BY e.name, e.id\n",
    "                HAVING SUM(ot.quantity * p.price) > 1000;\n",
    " \"\"\"\n",
    "cau8df1 = pd.read_sql(query8sub,conn)\n",
    "cau8df1.tail()"
   ]
  },
  {
   "cell_type": "code",
   "execution_count": 56,
   "metadata": {},
   "outputs": [],
   "source": [
    "query8join = \"\"\"SELECT e.name\n",
    "FROM employees AS e\n",
    "WHERE e.id IN (\n",
    "    SELECT oa.employee_id \n",
    "    FROM order_assignments AS oa\n",
    "    WHERE oa.order_id IN (\n",
    "        SELECT o.id \n",
    "        FROM orders AS o\n",
    "        WHERE o.id IN (\n",
    "            SELECT ot.order_id \n",
    "            FROM order_items AS ot\n",
    "            WHERE ot.product_id IN (\n",
    "                SELECT p.id\n",
    "                FROM products AS p\n",
    "                WHERE p.price > 100\n",
    "            )\n",
    "        )\n",
    "    )\n",
    ")\n",
    "AND (\n",
    "    SELECT SUM(ot.quantity * p.price)\n",
    "    FROM order_items AS ot\n",
    "    JOIN products AS p ON ot.product_id = p.id\n",
    "    WHERE ot.order_id IN (\n",
    "        SELECT o.id\n",
    "        FROM orders AS o\n",
    "        WHERE o.id IN (\n",
    "            SELECT oa.order_id\n",
    "            FROM order_assignments AS oa\n",
    "            WHERE oa.employee_id = e.id\n",
    "        )\n",
    "    )\n",
    ") > 1000;\n",
    "\n",
    "\"\"\""
   ]
  },
  {
   "cell_type": "code",
   "execution_count": 52,
   "metadata": {},
   "outputs": [],
   "source": [
    "query8join = query8join.replace(\"order_assigments\", \"order_assignments\")\n"
   ]
  },
  {
   "cell_type": "code",
   "execution_count": 57,
   "metadata": {},
   "outputs": [
    {
     "name": "stderr",
     "output_type": "stream",
     "text": [
      "C:\\Users\\Learning\\AppData\\Local\\Temp\\ipykernel_17080\\2347954126.py:1: UserWarning: pandas only supports SQLAlchemy connectable (engine/connection) or database string URI or sqlite3 DBAPI2 connection. Other DBAPI2 objects are not tested. Please consider using SQLAlchemy.\n",
      "  cau8df2 = pd.read_sql(query8join,conn)\n"
     ]
    },
    {
     "data": {
      "text/html": [
       "<div>\n",
       "<style scoped>\n",
       "    .dataframe tbody tr th:only-of-type {\n",
       "        vertical-align: middle;\n",
       "    }\n",
       "\n",
       "    .dataframe tbody tr th {\n",
       "        vertical-align: top;\n",
       "    }\n",
       "\n",
       "    .dataframe thead th {\n",
       "        text-align: right;\n",
       "    }\n",
       "</style>\n",
       "<table border=\"1\" class=\"dataframe\">\n",
       "  <thead>\n",
       "    <tr style=\"text-align: right;\">\n",
       "      <th></th>\n",
       "      <th>name</th>\n",
       "    </tr>\n",
       "  </thead>\n",
       "  <tbody>\n",
       "    <tr>\n",
       "      <th>0</th>\n",
       "      <td>Frank</td>\n",
       "    </tr>\n",
       "    <tr>\n",
       "      <th>1</th>\n",
       "      <td>Emma</td>\n",
       "    </tr>\n",
       "  </tbody>\n",
       "</table>\n",
       "</div>"
      ],
      "text/plain": [
       "    name\n",
       "0  Frank\n",
       "1   Emma"
      ]
     },
     "execution_count": 57,
     "metadata": {},
     "output_type": "execute_result"
    }
   ],
   "source": [
    "cau8df2 = pd.read_sql(query8join,conn)\n",
    "cau8df2.tail()"
   ]
  },
  {
   "cell_type": "code",
   "execution_count": 6,
   "metadata": {},
   "outputs": [],
   "source": [
    "cursor = conn.cursor()\n",
    "query = \"\"\"\n",
    "CREATE TEMPORARY TABLE high_value_orders AS\n",
    "SELECT id AS order_id, customer, order_date\n",
    "FROM orders\n",
    "WHERE (\n",
    "    SELECT SUM(\n",
    "        (SELECT price \n",
    "         FROM products \n",
    "         WHERE products.id = oi.product_id) \n",
    "        * oi.quantity\n",
    "    )\n",
    "    FROM order_items oi\n",
    "    WHERE oi.order_id = orders.id\n",
    ") > 800;\n",
    "\"\"\"\n",
    "cursor.execute(query)\n",
    "conn.commit()\n"
   ]
  },
  {
   "cell_type": "code",
   "execution_count": 7,
   "metadata": {},
   "outputs": [
    {
     "name": "stderr",
     "output_type": "stream",
     "text": [
      "C:\\Users\\Learning\\AppData\\Local\\Temp\\ipykernel_11464\\1518038634.py:7: UserWarning: pandas only supports SQLAlchemy connectable (engine/connection) or database string URI or sqlite3 DBAPI2 connection. Other DBAPI2 objects are not tested. Please consider using SQLAlchemy.\n",
      "  cauXdf = pd.read_sql(query, conn)\n"
     ]
    },
    {
     "data": {
      "text/html": [
       "<div>\n",
       "<style scoped>\n",
       "    .dataframe tbody tr th:only-of-type {\n",
       "        vertical-align: middle;\n",
       "    }\n",
       "\n",
       "    .dataframe tbody tr th {\n",
       "        vertical-align: top;\n",
       "    }\n",
       "\n",
       "    .dataframe thead th {\n",
       "        text-align: right;\n",
       "    }\n",
       "</style>\n",
       "<table border=\"1\" class=\"dataframe\">\n",
       "  <thead>\n",
       "    <tr style=\"text-align: right;\">\n",
       "      <th></th>\n",
       "      <th>name</th>\n",
       "    </tr>\n",
       "  </thead>\n",
       "  <tbody>\n",
       "    <tr>\n",
       "      <th>0</th>\n",
       "      <td>Bob</td>\n",
       "    </tr>\n",
       "    <tr>\n",
       "      <th>1</th>\n",
       "      <td>Charlie</td>\n",
       "    </tr>\n",
       "  </tbody>\n",
       "</table>\n",
       "</div>"
      ],
      "text/plain": [
       "      name\n",
       "0      Bob\n",
       "1  Charlie"
      ]
     },
     "execution_count": 7,
     "metadata": {},
     "output_type": "execute_result"
    }
   ],
   "source": [
    "import pandas as pd\n",
    "query = \"\"\"\n",
    "SELECT DISTINCT c.name\n",
    "FROM customers c\n",
    "JOIN high_value_orders hvo ON hvo.customer = c.id;\n",
    "\"\"\"\n",
    "cauXdf = pd.read_sql(query, conn)\n",
    "cauXdf.head()\n"
   ]
  },
  {
   "cell_type": "code",
   "execution_count": 8,
   "metadata": {},
   "outputs": [
    {
     "name": "stderr",
     "output_type": "stream",
     "text": [
      "C:\\Users\\Learning\\AppData\\Local\\Temp\\ipykernel_11464\\2822730175.py:9: UserWarning: pandas only supports SQLAlchemy connectable (engine/connection) or database string URI or sqlite3 DBAPI2 connection. Other DBAPI2 objects are not tested. Please consider using SQLAlchemy.\n",
      "  cau10 = pd.read_sql(query10,conn)\n"
     ]
    },
    {
     "data": {
      "text/html": [
       "<div>\n",
       "<style scoped>\n",
       "    .dataframe tbody tr th:only-of-type {\n",
       "        vertical-align: middle;\n",
       "    }\n",
       "\n",
       "    .dataframe tbody tr th {\n",
       "        vertical-align: top;\n",
       "    }\n",
       "\n",
       "    .dataframe thead th {\n",
       "        text-align: right;\n",
       "    }\n",
       "</style>\n",
       "<table border=\"1\" class=\"dataframe\">\n",
       "  <thead>\n",
       "    <tr style=\"text-align: right;\">\n",
       "      <th></th>\n",
       "      <th>order_id</th>\n",
       "      <th>total_value</th>\n",
       "    </tr>\n",
       "  </thead>\n",
       "  <tbody>\n",
       "    <tr>\n",
       "      <th>0</th>\n",
       "      <td>1</td>\n",
       "      <td>250.0</td>\n",
       "    </tr>\n",
       "    <tr>\n",
       "      <th>1</th>\n",
       "      <td>2</td>\n",
       "      <td>1800.0</td>\n",
       "    </tr>\n",
       "    <tr>\n",
       "      <th>2</th>\n",
       "      <td>3</td>\n",
       "      <td>1500.0</td>\n",
       "    </tr>\n",
       "    <tr>\n",
       "      <th>3</th>\n",
       "      <td>4</td>\n",
       "      <td>NaN</td>\n",
       "    </tr>\n",
       "  </tbody>\n",
       "</table>\n",
       "</div>"
      ],
      "text/plain": [
       "   order_id  total_value\n",
       "0         1        250.0\n",
       "1         2       1800.0\n",
       "2         3       1500.0\n",
       "3         4          NaN"
      ]
     },
     "execution_count": 8,
     "metadata": {},
     "output_type": "execute_result"
    }
   ],
   "source": [
    "query10=\"\"\"SELECT o.id AS order_id,\n",
    "       (\n",
    "           SELECT SUM(oi.quantity * p.price)\n",
    "           FROM order_items oi\n",
    "           JOIN products p ON oi.product_id = p.id\n",
    "           WHERE oi.order_id = o.id\n",
    "       ) AS total_value\n",
    "FROM orders o;\"\"\"\n",
    "cau10 = pd.read_sql(query10,conn)\n",
    "cau10.tail()"
   ]
  }
 ],
 "metadata": {
  "kernelspec": {
   "display_name": "base",
   "language": "python",
   "name": "python3"
  },
  "language_info": {
   "codemirror_mode": {
    "name": "ipython",
    "version": 3
   },
   "file_extension": ".py",
   "mimetype": "text/x-python",
   "name": "python",
   "nbconvert_exporter": "python",
   "pygments_lexer": "ipython3",
   "version": "3.12.7"
  }
 },
 "nbformat": 4,
 "nbformat_minor": 2
}
