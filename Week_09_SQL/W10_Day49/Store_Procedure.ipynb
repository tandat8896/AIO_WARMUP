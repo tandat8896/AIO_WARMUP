{
 "cells": [
  {
   "cell_type": "code",
   "execution_count": 1,
   "metadata": {},
   "outputs": [
    {
     "name": "stdout",
     "output_type": "stream",
     "text": [
      " Đã tạo (hoặc đã tồn tại) database 'week10_store_procedure'.\n"
     ]
    }
   ],
   "source": [
    "import mysql.connector as mysql\n",
    "from mysql.connector import errorcode\n",
    "\n",
    "ds_host = \"localhost\"\n",
    "db_username = \"root\"\n",
    "db_password = \"qiwoqqwu\"\n",
    "\n",
    "try:\n",
    "    conn = mysql.connect(\n",
    "        host=ds_host,\n",
    "        port=3306,\n",
    "        user=db_username,\n",
    "        password=db_password,\n",
    "        database = \"week10_store_procedure\"\n",
    "    )\n",
    "    cursor = conn.cursor()\n",
    "\n",
    "    # Câu lệnh tạo database\n",
    "    cursor.execute(\"CREATE DATABASE IF NOT EXISTS week10_store_procedure\")\n",
    "    print(\" Đã tạo (hoặc đã tồn tại) database 'week10_store_procedure'.\")\n",
    "\n",
    "\n",
    "except mysql.Error as err:\n",
    "    print(\" Lỗi:\", err)\n"
   ]
  },
  {
   "cell_type": "code",
   "execution_count": 42,
   "metadata": {},
   "outputs": [],
   "source": [
    "cursor.execute(\"DROP PROCEDURE IF EXISTS get_customer_order_count\")\n",
    "while cursor.nextset(): pass\n",
    "conn.commit()\n"
   ]
  },
  {
   "cell_type": "code",
   "execution_count": 52,
   "metadata": {},
   "outputs": [],
   "source": [
    "cursor.execute(\"DROP PROCEDURE IF EXISTS get_customer_order_count\")\n",
    "\n",
    "create_proc_1 = \"\"\"\n",
    "CREATE PROCEDURE get_customer_order_count(IN customer_id INT, OUT order_count INT)\n",
    "BEGIN\n",
    "    SELECT COUNT(*) INTO order_count\n",
    "    FROM orders\n",
    "    WHERE orders.customer_id = customer_id;\n",
    "END\n",
    "\"\"\"\n",
    "cursor.execute(create_proc_1)\n",
    "conn.commit()\n"
   ]
  },
  {
   "cell_type": "code",
   "execution_count": 79,
   "metadata": {},
   "outputs": [
    {
     "name": "stdout",
     "output_type": "stream",
     "text": [
      "[Raw SQL] Tổng số đơn hàng của khách hàng 1 là: 2\n"
     ]
    }
   ],
   "source": [
    "def get_order_count(customer_id):\n",
    "    query = \"\"\"\n",
    "        SELECT COUNT(*) as order_count\n",
    "        FROM orders\n",
    "        WHERE customer = %s\n",
    "    \"\"\"\n",
    "    cursor.execute(query, (customer_id,))\n",
    "    result = cursor.fetchone()\n",
    "    order_count = result[0] if result else 0\n",
    "    print(f\"[Raw SQL] Tổng số đơn hàng của khách hàng {customer_id} là: {order_count}\")\n",
    "get_order_count(1)\n",
    "\n"
   ]
  },
  {
   "cell_type": "code",
   "execution_count": 54,
   "metadata": {},
   "outputs": [
    {
     "name": "stdout",
     "output_type": "stream",
     "text": [
      "('id', 'int', 'NO', 'PRI', None, '')\n",
      "('customer', 'int', 'YES', 'MUL', None, '')\n",
      "('order_date', 'date', 'YES', '', None, '')\n",
      "('total', 'int', 'YES', '', None, '')\n"
     ]
    }
   ],
   "source": [
    "cursor.execute(\"DESCRIBE orders\")\n",
    "for row in cursor.fetchall():\n",
    "    print(row)\n"
   ]
  },
  {
   "cell_type": "code",
   "execution_count": 44,
   "metadata": {},
   "outputs": [],
   "source": [
    "cursor.execute(\"DROP PROCEDURE IF EXISTS get_employee_name\")\n",
    "\n",
    "create_proc_2 = \"\"\"\n",
    "CREATE PROCEDURE get_employee_name(IN employee_id INT, OUT employee_name VARCHAR(255))\n",
    "BEGIN\n",
    "    SELECT name INTO employee_name\n",
    "    FROM employees\n",
    "    WHERE id = employee_id;\n",
    "END\n",
    "\"\"\"\n",
    "cursor.execute(create_proc_2)\n",
    "conn.commit()\n"
   ]
  },
  {
   "cell_type": "code",
   "execution_count": 58,
   "metadata": {},
   "outputs": [
    {
     "name": "stdout",
     "output_type": "stream",
     "text": [
      "Tên nhân viên có id 1: David\n"
     ]
    }
   ],
   "source": [
    "def get_employee_name(employee_id):\n",
    "    query = \"\"\"\n",
    "        SELECT name\n",
    "        FROM employees\n",
    "        WHERE id = %s\n",
    "    \"\"\"\n",
    "    cursor.execute(query, (employee_id,))\n",
    "    result = cursor.fetchone()\n",
    "    employee_name = result[0] if result else \"Không tìm thấy\"\n",
    "    print(f\"Tên nhân viên có id {employee_id}: {employee_name}\")\n",
    "    return employee_name\n",
    "\n",
    "# Gọi thử\n",
    "employee_id_input = 1\n",
    "employee_name = get_employee_name(employee_id_input)\n"
   ]
  },
  {
   "cell_type": "code",
   "execution_count": 45,
   "metadata": {},
   "outputs": [],
   "source": [
    "cursor.execute(\"DROP PROCEDURE IF EXISTS update_customer_city\")\n",
    "\n",
    "create_proc_3 = \"\"\"\n",
    "CREATE PROCEDURE update_customer_city(IN customer_id INT, IN new_city VARCHAR(255))\n",
    "BEGIN\n",
    "    UPDATE customers\n",
    "    SET city = new_city\n",
    "    WHERE id = customer_id;\n",
    "END\n",
    "\"\"\"\n",
    "cursor.execute(create_proc_3)\n",
    "conn.commit()\n"
   ]
  },
  {
   "cell_type": "code",
   "execution_count": 60,
   "metadata": {},
   "outputs": [
    {
     "name": "stdout",
     "output_type": "stream",
     "text": [
      "[(1, 'Alice', 'NgheAn'), (2, 'Bob', 'Ho Chi Minh'), (3, 'Charlie', 'Hanoi')]\n"
     ]
    }
   ],
   "source": [
    "def update_new_city(new_city, customer_id):\n",
    "    query = \"\"\"\n",
    "        UPDATE customers\n",
    "        SET city = %s\n",
    "        WHERE id = %s\n",
    "    \"\"\"\n",
    "    cursor.execute(query, (new_city, customer_id))\n",
    "    conn.commit()  # Đừng quên commit nha!\n",
    "\n",
    "# Gọi thử\n",
    "customer_id_input = 1\n",
    "new_city_input = \"NgheAn\"\n",
    "update_new_city(new_city_input, customer_id_input)\n",
    "\n",
    "# Kiểm tra kết quả\n",
    "query = \"SELECT * FROM customers\"\n",
    "cursor.execute(query)\n",
    "data = cursor.fetchall()\n",
    "print(data)\n"
   ]
  },
  {
   "cell_type": "code",
   "execution_count": 46,
   "metadata": {},
   "outputs": [],
   "source": [
    "cursor.execute(\"DROP PROCEDURE IF EXISTS get_products_by_price\")\n",
    "\n",
    "create_proc_4 = \"\"\"\n",
    "CREATE PROCEDURE get_products_by_price(IN min_price INT)\n",
    "BEGIN\n",
    "    SELECT * FROM products\n",
    "    WHERE price >= min_price;\n",
    "END\n",
    "\"\"\"\n",
    "cursor.execute(create_proc_4)\n",
    "conn.commit()\n"
   ]
  },
  {
   "cell_type": "code",
   "execution_count": 76,
   "metadata": {},
   "outputs": [],
   "source": [
    "def get_products_by_price(min_price):\n",
    "    cursor.callproc(\"get_products_by_price\", (min_price,))\n",
    "    for result in cursor.stored_results():\n",
    "        products = result.fetchall()\n",
    "        print(f\"[Câu 4] Sản phẩm có giá từ {min_price} trở lên:\")\n",
    "        for prod in products:\n",
    "            # Giả sử bảng products có cột: id, name, price\n",
    "            prod_id, name, price = prod\n",
    "            print(f\"- {name}: {price}\")\n"
   ]
  },
  {
   "cell_type": "code",
   "execution_count": 77,
   "metadata": {},
   "outputs": [
    {
     "name": "stdout",
     "output_type": "stream",
     "text": [
      "[Câu 4] Sản phẩm có giá từ 200 trở lên:\n",
      "- Laptop: 1500\n",
      "- Monitor: 300\n"
     ]
    }
   ],
   "source": [
    "get_products_by_price(200)\n"
   ]
  },
  {
   "cell_type": "code",
   "execution_count": 67,
   "metadata": {},
   "outputs": [],
   "source": [
    "cursor.execute(\"DROP PROCEDURE IF EXISTS delete_low_total_orders\")\n",
    "\n",
    "create_proc_5 = \"\"\"\n",
    "CREATE PROCEDURE delete_low_total_orders(IN min_total INT)\n",
    "BEGIN\n",
    "    DELETE FROM order_items\n",
    "    WHERE order_id IN (\n",
    "        SELECT order_id FROM (\n",
    "            SELECT o.id AS order_id, SUM(oi.quantity * p.price) AS total\n",
    "            FROM orders o\n",
    "            JOIN order_items oi ON o.id = oi.order_id\n",
    "            JOIN products p ON oi.product_id = p.id\n",
    "            GROUP BY o.id\n",
    "            HAVING total < min_total\n",
    "        ) AS low_orders\n",
    "    );\n",
    "\n",
    "    DELETE FROM orders\n",
    "    WHERE id IN (\n",
    "        SELECT order_id FROM (\n",
    "            SELECT o.id AS order_id, SUM(oi.quantity * p.price) AS total\n",
    "            FROM orders o\n",
    "            JOIN order_items oi ON o.id = oi.order_id\n",
    "            JOIN products p ON oi.product_id = p.id\n",
    "            GROUP BY o.id\n",
    "            HAVING total < min_total\n",
    "        ) AS low_orders\n",
    "    );\n",
    "END\n",
    "\"\"\"\n",
    "cursor.execute(create_proc_5)\n",
    "conn.commit()\n"
   ]
  },
  {
   "cell_type": "code",
   "execution_count": 72,
   "metadata": {},
   "outputs": [],
   "source": [
    "def delete_low_total_orders(min_total):\n",
    "    cursor.callproc(\"delete_low_total_orders\", (min_total,))\n",
    "    conn.commit()\n",
    "    print(f\"[Câu 5] Đã xoá các đơn hàng có tổng < {min_total}\")\n"
   ]
  },
  {
   "cell_type": "code",
   "execution_count": 73,
   "metadata": {},
   "outputs": [
    {
     "name": "stdout",
     "output_type": "stream",
     "text": [
      "[Câu 5] Đã xoá các đơn hàng có tổng < 500\n"
     ]
    }
   ],
   "source": [
    "delete_low_total_orders(500)\n"
   ]
  },
  {
   "cell_type": "code",
   "execution_count": 74,
   "metadata": {},
   "outputs": [
    {
     "name": "stdout",
     "output_type": "stream",
     "text": [
      "(1, 1, datetime.date(2024, 1, 10), 500)\n",
      "(2, 1, datetime.date(2024, 3, 1), 800)\n",
      "(3, 2, datetime.date(2024, 2, 20), 1200)\n",
      "(4, 3, datetime.date(2024, 1, 15), 200)\n"
     ]
    }
   ],
   "source": [
    "cursor.execute(\"SELECT * FROM orders\")\n",
    "for row in cursor.fetchall():\n",
    "    print(row)\n"
   ]
  },
  {
   "cell_type": "code",
   "execution_count": null,
   "metadata": {},
   "outputs": [],
   "source": [
    "def GetProductsByPrice(min_price):\n",
    "    query = \"\"\"\n",
    "        SELECT * FROM Products WHERE price >= ?;\n",
    "    \"\"\"\n",
    "    cursor.execute(query, (min_price,))\n",
    "    return cursor.fetchall()\n",
    "\n",
    "min_price = 300\n",
    "data = GetProductsByPrice(min_price)\n",
    "print(data)"
   ]
  },
  {
   "cell_type": "code",
   "execution_count": null,
   "metadata": {},
   "outputs": [],
   "source": [
    "def delete_order(min_total):\n",
    "  query = \"\"\"\n",
    "      DELETE FROM Orders WHERE total < ?\n",
    "  \"\"\"\n",
    "  cursor.execute(query, (min_total,))\n",
    "\n",
    "min_total = 350\n",
    "delete_order(min_total)\n",
    "\n",
    "query = \"\"\"\n",
    "  SELECT * FROM orders\n",
    "\"\"\"\n",
    "data = cursor.execute(query).fetchall()\n",
    "print(data)"
   ]
  }
 ],
 "metadata": {
  "kernelspec": {
   "display_name": "base",
   "language": "python",
   "name": "python3"
  },
  "language_info": {
   "codemirror_mode": {
    "name": "ipython",
    "version": 3
   },
   "file_extension": ".py",
   "mimetype": "text/x-python",
   "name": "python",
   "nbconvert_exporter": "python",
   "pygments_lexer": "ipython3",
   "version": "3.12.7"
  }
 },
 "nbformat": 4,
 "nbformat_minor": 2
}
