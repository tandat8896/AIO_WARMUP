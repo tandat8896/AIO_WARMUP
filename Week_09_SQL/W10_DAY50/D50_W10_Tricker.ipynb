{
 "cells": [
  {
   "cell_type": "code",
   "execution_count": 4,
   "metadata": {},
   "outputs": [],
   "source": [
    "import mysql.connector as mysql\n",
    "from mysql.connector import errorcode\n",
    "\n",
    "ds_host = \"localhost\"\n",
    "db_username = \"root\"\n",
    "db_password = \"qiwoqqwu\"\n",
    "\n",
    "try:\n",
    "    conn = mysql.connect(\n",
    "        host=ds_host,\n",
    "        port=3306,\n",
    "        user=db_username,\n",
    "        password=db_password,\n",
    "        database = \"week10_store_procedure\"\n",
    "    )\n",
    "    cursor = conn.cursor()\n",
    "\n",
    "\n",
    "except mysql.Error as err:\n",
    "    print(\" Lỗi:\", err)\n"
   ]
  },
  {
   "cell_type": "code",
   "execution_count": 2,
   "metadata": {},
   "outputs": [],
   "source": [
    "cursor.execute(\"\"\"\n",
    "    CREATE TABLE IF NOT EXISTS order_logs (\n",
    "        log_id INT AUTO_INCREMENT PRIMARY KEY,\n",
    "        order_id INT,\n",
    "        deleted_at DATETIME,\n",
    "        message VARCHAR(255)\n",
    "    )\n",
    "\"\"\")\n",
    "conn.commit()\n"
   ]
  },
  {
   "cell_type": "code",
   "execution_count": 3,
   "metadata": {},
   "outputs": [],
   "source": [
    "cursor.execute(\"DROP TRIGGER IF EXISTS after_order_delete\")\n",
    "\n",
    "cursor.execute(\"\"\"\n",
    "DELIMITER $$\n",
    "CREATE TRIGGER after_order_delete\n",
    "AFTER DELETE ON orders\n",
    "FOR EACH ROW\n",
    "BEGIN\n",
    "    INSERT INTO order_logs(order_id, deleted_at, message)\n",
    "    VALUES (\n",
    "        OLD.id,\n",
    "        NOW(),\n",
    "        CONCAT('Đơn hàng ', OLD.id, ' đã bị xoá lúc ', NOW())\n",
    "    );\n",
    "END$$\n",
    "DELIMITER ;\n",
    "\"\"\")\n",
    "conn.commit()\n"
   ]
  },
  {
   "cell_type": "code",
   "execution_count": 6,
   "metadata": {},
   "outputs": [
    {
     "name": "stdout",
     "output_type": "stream",
     "text": [
      "Cấu trúc bảng 'order_items':\n",
      "- id              | int             | Null: NO  | Key: PRI | Default: None | Extra: \n",
      "- order_id        | int             | Null: YES | Key: MUL | Default: None | Extra: \n",
      "- product_id      | int             | Null: YES | Key: MUL | Default: None | Extra: \n",
      "- quantity        | int             | Null: YES | Key:     | Default: None | Extra: \n"
     ]
    }
   ],
   "source": [
    "# Describe cấu trúc bảng order_items\n",
    "cursor.execute(\"DESCRIBE order_items\")\n",
    "columns = cursor.fetchall()\n",
    "\n",
    "print(\"Cấu trúc bảng 'order_items':\")\n",
    "for col in columns:\n",
    "    field, dtype, null, key, default, extra = col\n",
    "    print(f\"- {field:15} | {dtype:15} | Null: {null:3} | Key: {key:3} | Default: {default} | Extra: {extra}\")\n"
   ]
  },
  {
   "cell_type": "code",
   "execution_count": 11,
   "metadata": {},
   "outputs": [],
   "source": [
    "def show_order_logs():\n",
    "    cursor.execute(\"SELECT * FROM order_logs ORDER BY deleted_at DESC\")\n",
    "    logs = cursor.fetchall()\n",
    "    print(\"[Order Logs] Danh sách các đơn hàng đã bị xoá:\")\n",
    "    for log in logs:\n",
    "        log_id, order_id, deleted_at, message = log\n",
    "        print(f\"- [log_id {log_id}] {message}\")\n"
   ]
  },
  {
   "cell_type": "code",
   "execution_count": 16,
   "metadata": {},
   "outputs": [],
   "source": [
    "def delete_order(order_id):\n",
    "    # 1. Lấy dữ liệu đơn hàng và các mặt hàng trước khi xoá\n",
    "    cursor.execute(\"SELECT * FROM orders WHERE id = %s\", (order_id,))\n",
    "    order_data = cursor.fetchone()\n",
    "\n",
    "    cursor.execute(\"SELECT * FROM order_items WHERE order_id = %s\", (order_id,))\n",
    "    order_items_data = cursor.fetchall()\n",
    "\n",
    "    if not order_data:\n",
    "        print(f\"Không tìm thấy đơn hàng với id = {order_id}\")\n",
    "        return\n",
    "\n",
    "    # 2. Xoá: order_items trước rồi đến orders\n",
    "    cursor.execute(\"DELETE FROM order_items WHERE order_id = %s\", (order_id,))\n",
    "    cursor.execute(\"DELETE FROM orders WHERE id = %s\", (order_id,))\n",
    "    conn.commit()\n",
    "    print(f\"Đã xoá đơn hàng {order_id}\")\n",
    "\n",
    "    # 3. Ghi log đã thực hiện trigger (sẽ tự động thực hiện)\n",
    "    show_order_logs()"
   ]
  },
  {
   "cell_type": "code",
   "execution_count": 12,
   "metadata": {},
   "outputs": [
    {
     "name": "stdout",
     "output_type": "stream",
     "text": [
      "Không tìm thấy đơn hàng với id = 1\n"
     ]
    }
   ],
   "source": [
    "# Gọi hàm delete_order với ID đơn hàng cụ thể\n",
    "order_id_to_delete = 1  # ID của đơn hàng bạn muốn xoá\n",
    "delete_order(order_id_to_delete)\n"
   ]
  },
  {
   "cell_type": "code",
   "execution_count": 27,
   "metadata": {},
   "outputs": [],
   "source": [
    "def create_trigger_update_total():\n",
    "    cursor.execute(\"DROP TRIGGER IF EXISTS update_order_total\")\n",
    "\n",
    "    trigger_sql = \"\"\"\n",
    "    CREATE TRIGGER update_order_total\n",
    "    AFTER INSERT ON order_items\n",
    "    FOR EACH ROW\n",
    "    BEGIN\n",
    "        UPDATE orders\n",
    "        SET total = (\n",
    "            SELECT SUM(oi.quantity * p.price)\n",
    "            FROM order_items AS oi\n",
    "            JOIN products AS p ON oi.product_id = p.id\n",
    "            WHERE oi.order_id = NEW.order_id\n",
    "        )\n",
    "        WHERE id = NEW.order_id;\n",
    "    END;\n",
    "    \"\"\"\n",
    "    \n",
    "    cursor.execute(trigger_sql)  # Chạy trigger SQL\n",
    "    conn.commit()\n"
   ]
  },
  {
   "cell_type": "code",
   "execution_count": 32,
   "metadata": {},
   "outputs": [],
   "source": [
    "def add_order_item(order_id, product_id, quantity):\n",
    "    cursor.execute(\"INSERT INTO order_items (order_id, product_id, quantity) VALUES (%s, %s, %s)\", \n",
    "                   (order_id, product_id, quantity))\n",
    "    conn.commit()\n",
    "    print(\"Order item added successfully.\")"
   ]
  },
  {
   "cell_type": "code",
   "execution_count": 34,
   "metadata": {},
   "outputs": [
    {
     "name": "stdout",
     "output_type": "stream",
     "text": [
      "Table 'order_items' modified successfully.\n"
     ]
    }
   ],
   "source": [
    "cursor.execute(\"ALTER TABLE order_items MODIFY id INT NOT NULL AUTO_INCREMENT;\")\n",
    "conn.commit()\n",
    "print(\"Table 'order_items' modified successfully.\")\n"
   ]
  },
  {
   "cell_type": "code",
   "execution_count": 33,
   "metadata": {},
   "outputs": [
    {
     "name": "stdout",
     "output_type": "stream",
     "text": [
      "Order item added successfully.\n"
     ]
    }
   ],
   "source": [
    "create_trigger_update_total()\n",
    "add_order_item(2, 1, 2)"
   ]
  },
  {
   "cell_type": "code",
   "execution_count": 35,
   "metadata": {},
   "outputs": [
    {
     "name": "stdout",
     "output_type": "stream",
     "text": [
      "Updated total for order_id 2: 4800\n"
     ]
    }
   ],
   "source": [
    "cursor.execute(\"SELECT total FROM orders WHERE id = 2;\")\n",
    "result = cursor.fetchone()\n",
    "print(\"Updated total for order_id 2:\", result[0])\n"
   ]
  },
  {
   "cell_type": "code",
   "execution_count": 6,
   "metadata": {},
   "outputs": [
    {
     "name": "stdout",
     "output_type": "stream",
     "text": [
      "Trigger to prevent price update created.\n"
     ]
    }
   ],
   "source": [
    "# Tạo trigger ngăn không cho cập nhật giá sản phẩm\n",
    "def create_trigger_prevent_price_update():\n",
    "    cursor.execute(\"DROP TRIGGER IF EXISTS prevent_price_update;\")  # Xóa trigger nếu đã tồn tại\n",
    "    cursor.execute(\"\"\"\n",
    "        CREATE TRIGGER prevent_price_update\n",
    "        BEFORE UPDATE ON products\n",
    "        FOR EACH ROW\n",
    "        BEGIN\n",
    "            IF NEW.price > 1000 THEN\n",
    "                SIGNAL SQLSTATE '45000' SET MESSAGE_TEXT = 'Price cannot be more than 1000';\n",
    "            END IF;\n",
    "        END;\n",
    "    \"\"\")\n",
    "    conn.commit()\n",
    "    print(\"Trigger to prevent price update created.\")\n",
    "\n",
    "# Hàm cập nhật giá sản phẩm\n",
    "def update_product_price(product_id, new_price):\n",
    "    cursor.execute(\"UPDATE products SET price = %s WHERE id = %s\", (new_price, product_id))\n",
    "    conn.commit()\n",
    "    print(\"Product price updated successfully.\")\n",
    "\n",
    "# Đảm bảo bạn đã kết nối và tạo `cursor` ở trên trước khi gọi hàm này\n",
    "create_trigger_prevent_price_update()\n",
    "\n"
   ]
  },
  {
   "cell_type": "code",
   "execution_count": 8,
   "metadata": {},
   "outputs": [
    {
     "name": "stdout",
     "output_type": "stream",
     "text": [
      "Product price updated successfully.\n"
     ]
    }
   ],
   "source": [
    "# Thử cập nhật giá sản phẩm\n",
    "try:\n",
    "    update_product_price(1, 900)\n",
    "except mysql.connector.Error as e:\n",
    "    print(\"Trigger blocked the update:\", e)\n"
   ]
  },
  {
   "cell_type": "code",
   "execution_count": 12,
   "metadata": {},
   "outputs": [],
   "source": [
    "def create_trigger_log_customer_delete():\n",
    "    cursor.execute(\"DROP TRIGGER IF EXISTS log_customer_delete;\")\n",
    "    cursor.execute(\"\"\"\n",
    "        CREATE TRIGGER log_customer_delete\n",
    "        AFTER DELETE ON customers\n",
    "        FOR EACH ROW\n",
    "        BEGIN\n",
    "            INSERT INTO customers_deleted (id, name, city)\n",
    "            VALUES (OLD.id, OLD.name, OLD.city);\n",
    "        END;\n",
    "    \"\"\")\n",
    "    conn.commit()\n",
    "    print(\"Trigger log_customer_delete created.\")\n",
    "\n"
   ]
  },
  {
   "cell_type": "code",
   "execution_count": 20,
   "metadata": {},
   "outputs": [
    {
     "name": "stdout",
     "output_type": "stream",
     "text": [
      "Trigger log_customer_delete created.\n",
      "🧹 Deleted order items for customer 1\n",
      "🧹 Deleted order assignments for customer 1\n",
      "🧹 Deleted all orders of customer 1\n",
      "🧹 Customer with ID 1 has been deleted.\n"
     ]
    }
   ],
   "source": [
    "# Tạo bảng customers_deleted nếu chưa có\n",
    "cursor.execute(\"\"\"\n",
    "    CREATE TABLE IF NOT EXISTS customers_deleted (\n",
    "        id INT NOT NULL,\n",
    "        name VARCHAR(255) NOT NULL,\n",
    "        city VARCHAR(255),\n",
    "        PRIMARY KEY (id)\n",
    "    );\n",
    "\"\"\")\n",
    "conn.commit()\n",
    "\n",
    "# Sau đó bạn có thể chạy trigger và các thao tác xóa khách hàng\n",
    "create_trigger_log_customer_delete()\n",
    "delete_customer(1)\n"
   ]
  },
  {
   "cell_type": "code",
   "execution_count": 21,
   "metadata": {},
   "outputs": [
    {
     "name": "stdout",
     "output_type": "stream",
     "text": [
      "🧹 Deleted order items for customer 1\n",
      "🧹 Deleted order assignments for customer 1\n",
      "🧹 Deleted all orders of customer 1\n",
      "🧹 Customer with ID 1 has been deleted.\n"
     ]
    }
   ],
   "source": [
    "def delete_orders_of_customer(customer_id):\n",
    "    # Xóa các bản ghi trong bảng order_items liên quan đến đơn hàng của khách\n",
    "    cursor.execute(\"DELETE FROM order_items WHERE order_id IN (SELECT id FROM orders WHERE customer = %s)\", (customer_id,))\n",
    "    conn.commit()\n",
    "    print(f\"🧹 Deleted order items for customer {customer_id}\")\n",
    "\n",
    "    # Xóa các bản ghi trong bảng order_assignments liên quan đến đơn hàng của khách\n",
    "    cursor.execute(\"DELETE FROM order_assignments WHERE order_id IN (SELECT id FROM orders WHERE customer = %s)\", (customer_id,))\n",
    "    conn.commit()\n",
    "    print(f\"🧹 Deleted order assignments for customer {customer_id}\")\n",
    "\n",
    "    # Xóa các đơn hàng của khách\n",
    "    cursor.execute(\"DELETE FROM orders WHERE customer = %s\", (customer_id,))\n",
    "    conn.commit()\n",
    "    print(f\"🧹 Deleted all orders of customer {customer_id}\")\n",
    "\n",
    "def delete_customer(customer_id):\n",
    "    # Xóa các đơn hàng và liên kết trước\n",
    "    delete_orders_of_customer(customer_id)\n",
    "    \n",
    "    # Xóa khách hàng và ghi log\n",
    "    cursor.execute(\"DELETE FROM customers WHERE id = %s\", (customer_id,))\n",
    "    conn.commit()\n",
    "    print(f\"🧹 Customer with ID {customer_id} has been deleted.\")\n",
    "\n",
    "# Test lại (Xóa khách hàng có ID 1)\n",
    "delete_customer(1)\n"
   ]
  },
  {
   "cell_type": "code",
   "execution_count": 22,
   "metadata": {},
   "outputs": [],
   "source": [
    "cursor.execute(\"\"\"\n",
    "    CREATE TABLE IF NOT EXISTS order_alerts (\n",
    "        id INT AUTO_INCREMENT PRIMARY KEY,\n",
    "        order_id INT NOT NULL,\n",
    "        customer_id INT NOT NULL,\n",
    "        log_message TEXT,\n",
    "        created_at TIMESTAMP DEFAULT CURRENT_TIMESTAMP\n",
    "    );\n",
    "\"\"\")\n",
    "conn.commit()\n"
   ]
  },
  {
   "cell_type": "code",
   "execution_count": 40,
   "metadata": {},
   "outputs": [],
   "source": [
    "def create_trigger_alert_order_above_1000():\n",
    "    cursor.execute(\"DROP TRIGGER IF EXISTS alert_order_above_1000;\")\n",
    "    cursor.execute(\"\"\"\n",
    "        CREATE TRIGGER alert_order_above_1000\n",
    "        AFTER INSERT ON orders\n",
    "        FOR EACH ROW\n",
    "        BEGIN\n",
    "            IF NEW.total > 1000 AND \n",
    "               EXISTS (SELECT 1 FROM customers WHERE id = NEW.customer AND city = 'Hanoi') THEN\n",
    "                INSERT INTO order_alerts (order_id, customer_id, log_message)\n",
    "                VALUES (\n",
    "                    NEW.id,\n",
    "                    NEW.customer,  -- Sửa lại từ customer_id thành customer\n",
    "                    'Alert: Order total above 1000 from Hanoi'\n",
    "                );\n",
    "            END IF;\n",
    "        END;\n",
    "    \"\"\")\n",
    "    conn.commit()\n",
    "    print(\"Trigger alert_order_above_1000 created.\")\n"
   ]
  },
  {
   "cell_type": "code",
   "execution_count": 39,
   "metadata": {},
   "outputs": [
    {
     "name": "stdout",
     "output_type": "stream",
     "text": [
      "Đã xóa ràng buộc khóa ngoại.\n",
      "Cột 'id' trong bảng 'orders' đã được sửa thành công.\n",
      "Ràng buộc khóa ngoại đã được thêm lại.\n"
     ]
    }
   ],
   "source": [
    "# Xóa ràng buộc khóa ngoại trong bảng 'order_assignments' trước khi thay đổi cột 'id' trong bảng 'orders'\n",
    "try:\n",
    "    cursor.execute(\"ALTER TABLE order_assignments DROP FOREIGN KEY order_assignments_ibfk_1;\")\n",
    "    conn.commit()\n",
    "    print(\"Đã xóa ràng buộc khóa ngoại.\")\n",
    "except mysql.connector.Error as err:\n",
    "    print(f\"Lỗi khi xóa ràng buộc khóa ngoại: {err}\")\n",
    "\n",
    "# Thực hiện thay đổi cột 'id' trong bảng 'orders'\n",
    "try:\n",
    "    cursor.execute(\"ALTER TABLE orders MODIFY COLUMN id INT AUTO_INCREMENT;\")\n",
    "    conn.commit()\n",
    "    print(\"Cột 'id' trong bảng 'orders' đã được sửa thành công.\")\n",
    "except mysql.connector.Error as err:\n",
    "    print(f\"Lỗi khi sửa cột 'id': {err}\")\n",
    "\n",
    "# Thêm lại ràng buộc khóa ngoại sau khi thay đổi\n",
    "try:\n",
    "    cursor.execute(\"ALTER TABLE order_assignments ADD CONSTRAINT order_assignments_ibfk_1 FOREIGN KEY (order_id) REFERENCES orders(id);\")\n",
    "    conn.commit()\n",
    "    print(\"Ràng buộc khóa ngoại đã được thêm lại.\")\n",
    "except mysql.connector.Error as err:\n",
    "    print(f\"Lỗi khi thêm lại ràng buộc khóa ngoại: {err}\")\n"
   ]
  },
  {
   "cell_type": "code",
   "execution_count": 41,
   "metadata": {},
   "outputs": [],
   "source": [
    "def add_order(customer_id, order_date, total):\n",
    "    cursor.execute(\n",
    "        \"INSERT INTO orders (customer, order_date, total) VALUES (%s, %s, %s)\",  # Không cần đưa id vào\n",
    "        (customer_id, order_date, total)\n",
    "    )\n",
    "    order_id = cursor.lastrowid  # Lấy id của đơn hàng vừa chèn\n",
    "    conn.commit()\n",
    "\n",
    "    cursor.execute(\"SELECT log_message FROM order_alerts WHERE order_id = %s\", (order_id,))\n",
    "    alerts = cursor.fetchall()\n",
    "    for alert in alerts:\n",
    "        print(alert[0])\n"
   ]
  },
  {
   "cell_type": "code",
   "execution_count": null,
   "metadata": {},
   "outputs": [],
   "source": [
    "# Thêm đơn hàng từ khách ở Hà Nội để test\n",
    "add_order(3, \"2024-01-10\", 1200)\n"
   ]
  },
  {
   "cell_type": "code",
   "execution_count": 31,
   "metadata": {},
   "outputs": [
    {
     "name": "stdout",
     "output_type": "stream",
     "text": [
      "('id', 'int', 'NO', 'PRI', None, '')\n",
      "('customer', 'int', 'YES', 'MUL', None, '')\n",
      "('order_date', 'date', 'YES', '', None, '')\n",
      "('total', 'int', 'YES', '', None, '')\n"
     ]
    }
   ],
   "source": [
    "cursor.execute(\"DESCRIBE orders;\")\n",
    "columns = cursor.fetchall()\n",
    "for column in columns:\n",
    "    print(column)\n"
   ]
  }
 ],
 "metadata": {
  "kernelspec": {
   "display_name": "base",
   "language": "python",
   "name": "python3"
  },
  "language_info": {
   "codemirror_mode": {
    "name": "ipython",
    "version": 3
   },
   "file_extension": ".py",
   "mimetype": "text/x-python",
   "name": "python",
   "nbconvert_exporter": "python",
   "pygments_lexer": "ipython3",
   "version": "3.12.7"
  }
 },
 "nbformat": 4,
 "nbformat_minor": 2
}
