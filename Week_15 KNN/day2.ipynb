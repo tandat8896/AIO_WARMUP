{
 "cells": [
  {
   "cell_type": "code",
   "execution_count": 2,
   "metadata": {},
   "outputs": [],
   "source": [
    "import numpy as np\n",
    "from sklearn.neighbors import KNeighborsClassifier\n",
    "import math"
   ]
  },
  {
   "cell_type": "code",
   "execution_count": 3,
   "metadata": {},
   "outputs": [],
   "source": [
    "data = {\n",
    "    'A': {'x': 1, 'y': 2, 'label': 0},\n",
    "    'B': {'x': 2, 'y': 3, 'label': 0},\n",
    "    'C': {'x': 3, 'y': 1, 'label': 1},\n",
    "    'D': {'x': 6, 'y': 5, 'label': 1}\n",
    "}\n",
    "\n"
   ]
  },
  {
   "cell_type": "code",
   "execution_count": 4,
   "metadata": {},
   "outputs": [],
   "source": [
    "def Euclid_distance(x,y):\n",
    "    distances = []\n",
    "    for key , val in data.items():\n",
    "        dist = math.sqrt((val['x'] - x)**2 + (val['y']-y)**2)\n",
    "        distances.append((key,dist))\n",
    "    distances.sort(key=lambda x:x[1])\n",
    "\n",
    "    for point , dist in distances:\n",
    "        print(f\"Điểm {point} cách P khoảng {dist:.2f}\")\n"
   ]
  },
  {
   "cell_type": "code",
   "execution_count": 5,
   "metadata": {},
   "outputs": [
    {
     "name": "stdout",
     "output_type": "stream",
     "text": [
      "Điểm A cách P khoảng 1.00\n",
      "Điểm B cách P khoảng 1.00\n",
      "Điểm C cách P khoảng 1.41\n",
      "Điểm D cách P khoảng 5.00\n",
      "None\n"
     ]
    }
   ],
   "source": [
    "result = Euclid_distance(2,2)\n",
    "print(result)"
   ]
  },
  {
   "cell_type": "code",
   "execution_count": 8,
   "metadata": {},
   "outputs": [],
   "source": [
    "def compute_KnearesNeighbor(x, y, k):\n",
    "    distances = []\n",
    "    for key, val in data.items():\n",
    "        dist = math.sqrt((val['x'] - x)**2 + (val['y'] - y)**2)\n",
    "        distances.append((key, dist, val['label']))\n",
    "    distances.sort(key=lambda x: x[1])\n",
    "    \n",
    "    # Đếm nhãn của k điểm gần nhất\n",
    "    labels = [item[2] for item in distances[:k]]\n",
    "    return labels[:k]\n",
    "\n",
    "\n"
   ]
  },
  {
   "cell_type": "code",
   "execution_count": 9,
   "metadata": {},
   "outputs": [],
   "source": [
    "from collections import Counter\n",
    "def vote_distance(array):\n",
    "    labels = set(array)\n",
    "    result = \"\"\n",
    "    max_occur = 0\n",
    "    for label in labels:\n",
    "        num = array.count(label)\n",
    "        if(num > max_occur):\n",
    "            max_occur = num\n",
    "            result = label\n",
    "    return result"
   ]
  },
  {
   "cell_type": "code",
   "execution_count": 10,
   "metadata": {},
   "outputs": [
    {
     "name": "stdout",
     "output_type": "stream",
     "text": [
      "Phân loại với K=1: [0]\n",
      "Phân loại với K=3: [0, 0, 1]\n"
     ]
    }
   ],
   "source": [
    "P = (2, 2)\n",
    "print(\"Phân loại với K=1:\", compute_KnearesNeighbor(P[0], P[1], 1))\n",
    "print(\"Phân loại với K=3:\", compute_KnearesNeighbor(P[0], P[1], 3))"
   ]
  },
  {
   "cell_type": "code",
   "execution_count": 13,
   "metadata": {},
   "outputs": [],
   "source": [
    "x = [2,1,4]\n",
    "y = [5,3,0]\n",
    "def euclid_distance(x,y):\n",
    "    return math.sqrt(sum((a-b)**2 for a,b in zip(x,y)))"
   ]
  },
  {
   "cell_type": "code",
   "execution_count": 14,
   "metadata": {},
   "outputs": [
    {
     "data": {
      "text/plain": [
       "5.385164807134504"
      ]
     },
     "execution_count": 14,
     "metadata": {},
     "output_type": "execute_result"
    }
   ],
   "source": [
    "euclid_distance(x,y)"
   ]
  },
  {
   "cell_type": "code",
   "execution_count": 19,
   "metadata": {},
   "outputs": [
    {
     "name": "stdout",
     "output_type": "stream",
     "text": [
      "[0]\n",
      "[0]\n"
     ]
    }
   ],
   "source": [
    "x_train = [[1,2],[2,3],[3,1],[6,5]]\n",
    "y_train = [0,0,1,1]\n",
    "k_neighbor = [1,3]\n",
    "for k in k_neighbor:\n",
    "    model = KNeighborsClassifier(k)\n",
    "    model.fit(x_train,y_train)\n",
    "    print(model.predict([[2,2]]))\n"
   ]
  },
  {
   "cell_type": "code",
   "execution_count": null,
   "metadata": {},
   "outputs": [],
   "source": []
  }
 ],
 "metadata": {
  "kernelspec": {
   "display_name": "base",
   "language": "python",
   "name": "python3"
  },
  "language_info": {
   "codemirror_mode": {
    "name": "ipython",
    "version": 3
   },
   "file_extension": ".py",
   "mimetype": "text/x-python",
   "name": "python",
   "nbconvert_exporter": "python",
   "pygments_lexer": "ipython3",
   "version": "3.12.7"
  }
 },
 "nbformat": 4,
 "nbformat_minor": 2
}
