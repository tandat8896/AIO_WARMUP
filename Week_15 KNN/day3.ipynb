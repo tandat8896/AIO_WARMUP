{
 "cells": [
  {
   "cell_type": "code",
   "execution_count": 1,
   "metadata": {},
   "outputs": [],
   "source": [
    "import math\n"
   ]
  },
  {
   "cell_type": "code",
   "execution_count": 2,
   "metadata": {},
   "outputs": [],
   "source": [
    "X_train = [[1,2],[2,3],[3,1],[6,5]]\n",
    "y_train = [0,0,1,1]\n",
    "X_test = [2,2]\n"
   ]
  },
  {
   "cell_type": "code",
   "execution_count": 3,
   "metadata": {},
   "outputs": [],
   "source": [
    "def euclid_distance(x,y):\n",
    "    return math.sqrt(sum((a-b)**2 for a,b in zip(x,y)))\n",
    "\n",
    "def knn_predict(X_train,y_train , x_test , k=3):\n",
    "    distance = []\n",
    "    for a,label in zip(X_train , y_train):\n",
    "        dist = euclid_distance(a,x_test)\n",
    "        distance.append((dist,label))\n",
    "    distance.sort(key=lambda x:x[0])\n",
    "    k_nearest = distance[:k]\n",
    "    return k_nearest\n",
    "\n",
    "from collections import Counter\n",
    "\n",
    "#def vote_distance(arr):\n",
    "#    labels = set(arr)\n",
    "#    result = \"\"\n",
    "#    max_occur = 0\n",
    "#    for label in labels:\n",
    "#        num = arr.count(labels)\n",
    "#        if (num > max_occur):\n",
    "#            max_occur = num\n",
    "#            result = label \n",
    "#    return result\n",
    "\n",
    "\n",
    "def vote_distance(arr):\n",
    "    labels = set(arr)\n",
    "    print(\"Labels unique:\", labels)\n",
    "    result = \"\"\n",
    "    max_occur = 0\n",
    "    for label in labels:\n",
    "        num = arr.count(label)\n",
    "        print(f\"Label: {label}, Count: {num}\")\n",
    "        if num > max_occur:\n",
    "            max_occur = num\n",
    "            result = label\n",
    "            print(f\"New max occur: {max_occur} with label {result}\")\n",
    "    return result\n",
    "\n",
    "    "
   ]
  },
  {
   "cell_type": "code",
   "execution_count": 5,
   "metadata": {},
   "outputs": [
    {
     "name": "stdout",
     "output_type": "stream",
     "text": [
      "K nearest neighbors (distance, label): [(1.0, 0), (1.0, 0), (1.4142135623730951, 1)]\n",
      "Labels of K nearest neighbors: [0, 0, 1]\n",
      "Labels unique: {0, 1}\n",
      "Label: 0, Count: 2\n",
      "New max occur: 2 with label 0\n",
      "Label: 1, Count: 1\n",
      "Predicted label: 0\n"
     ]
    }
   ],
   "source": [
    "# Bước 1: Lấy k láng giềng gần nhất (k_nearest là list (distance, label))\n",
    "k_nearest = knn_predict(X_train, y_train, X_test, k=3)\n",
    "print(\"K nearest neighbors (distance, label):\", k_nearest)\n",
    "\n",
    "# Bước 2: Lấy danh sách nhãn trong k láng giềng\n",
    "labels = [label for _, label in k_nearest]\n",
    "print(\"Labels of K nearest neighbors:\", labels)\n",
    "\n",
    "# Bước 3: Vote nhãn phổ biến nhất\n",
    "result_label = vote_distance(labels)\n",
    "print(\"Predicted label:\", result_label)"
   ]
  },
  {
   "cell_type": "code",
   "execution_count": 6,
   "metadata": {},
   "outputs": [],
   "source": [
    "def knn_regression(X_train,y_train , x_test,k=3):\n",
    "    distance = []\n",
    "    for a, label in zip(X_train,y_train):\n",
    "        dist = euclid_distance(a,x_test)\n",
    "        distance.append((dist,label))\n",
    "    distance.sort(key=lambda x:x[0])\n",
    "    k_nearest = distance[:k]\n",
    "    avg_value = sum(label for _,label in k_nearest)/k\n",
    "    return avg_value \n"
   ]
  },
  {
   "cell_type": "code",
   "execution_count": 7,
   "metadata": {},
   "outputs": [
    {
     "name": "stdout",
     "output_type": "stream",
     "text": [
      "Predicted price: 2.25\n"
     ]
    }
   ],
   "source": [
    "X_train = [[100], [150], [200], [250], [300]]\n",
    "y_train = [1.0, 1.5, 2.0, 2.5, 3.0]\n",
    "x_test = [220]\n",
    "\n",
    "print(\"Predicted price:\", knn_regression(X_train, y_train, x_test, k=2))"
   ]
  },
  {
   "cell_type": "code",
   "execution_count": 10,
   "metadata": {},
   "outputs": [],
   "source": [
    "def knn_weighted(X_train,y_train,x_test,k=3):\n",
    "    distance = []\n",
    "    for a , label in zip(X_train,y_train):\n",
    "        dist = euclid_distance(a,x_test)\n",
    "        distance.append((dist,label))\n",
    "    distance.sort(key=lambda x:x[0])\n",
    "    k_nearest = distance[:k]\n",
    "\n",
    "    epsilon = 1e-5\n",
    "    weighted_sum = 0\n",
    "    weighted_total = 0\n",
    "    for dist,label in k_nearest:\n",
    "        weight = 1/(dist + epsilon)\n",
    "        weighted_sum += weight * label\n",
    "        weighted_total += weight\n",
    "\n",
    "    weight_avg = weighted_sum / weighted_total\n",
    "    return weight_avg\n",
    "\n"
   ]
  },
  {
   "cell_type": "code",
   "execution_count": 11,
   "metadata": {},
   "outputs": [
    {
     "name": "stdout",
     "output_type": "stream",
     "text": [
      "Predicted price: 2.200000019999992\n"
     ]
    }
   ],
   "source": [
    "X_train = [[100], [150], [200], [250], [300]]\n",
    "y_train = [1.0, 1.5, 2.0, 2.5, 3.0]\n",
    "x_test = [220]\n",
    "\n",
    "print(\"Predicted price:\", knn_weighted(X_train, y_train, x_test, k=2))"
   ]
  }
 ],
 "metadata": {
  "kernelspec": {
   "display_name": "base",
   "language": "python",
   "name": "python3"
  },
  "language_info": {
   "codemirror_mode": {
    "name": "ipython",
    "version": 3
   },
   "file_extension": ".py",
   "mimetype": "text/x-python",
   "name": "python",
   "nbconvert_exporter": "python",
   "pygments_lexer": "ipython3",
   "version": "3.12.7"
  }
 },
 "nbformat": 4,
 "nbformat_minor": 2
}
