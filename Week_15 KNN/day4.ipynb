{
 "cells": [
  {
   "cell_type": "code",
   "execution_count": 8,
   "metadata": {},
   "outputs": [],
   "source": [
    "import pandas as pd\n",
    "import math"
   ]
  },
  {
   "cell_type": "code",
   "execution_count": 10,
   "metadata": {},
   "outputs": [],
   "source": [
    "X_train = [\n",
    "    [1, 1, 0, 0],   # Cold\n",
    "    [1, 1, 1, 0],   # Flu\n",
    "    [1, 1, 1, 1],   # COVID-19\n",
    "    [0, 0, 0, 0],   # Healthy\n",
    "    [0, 1, 0, 0],   # Cold\n",
    "    [1, 0, 1, 1]    # COVID-19\n",
    "]\n",
    "\n",
    "y_train = [\n",
    "    \"Cold\",\n",
    "    \"Flu\",\n",
    "    \"COVID-19\",\n",
    "    \"Healthy\",\n",
    "    \"Cold\",\n",
    "    \"COVID-19\"\n",
    "]"
   ]
  },
  {
   "cell_type": "code",
   "execution_count": 12,
   "metadata": {},
   "outputs": [],
   "source": [
    "\n",
    "\n",
    "def euclid_distance(x,y):\n",
    "    return math.sqrt(sum((a-b)**2 for a,b in zip(x,y)))\n",
    "\n",
    "def knn_predict(x_train, y_train , x_test , k):\n",
    "    distance =[]\n",
    "    for  a , label in zip(x_train,y_train):\n",
    "        dist = euclid_distance(a,x_test)\n",
    "        distance.append((dist,label))\n",
    "    distance.sort(key=lambda x:x[0])\n",
    "    k_nearest = distance[:k]\n",
    "    return k_nearest\n",
    "\n",
    "def vote_distance(arr):\n",
    "    labels = set(arr)\n",
    "    result = \"\"\n",
    "    max_occurs = 0\n",
    "    for _,label in labels:\n",
    "        num = arr.count(label)\n",
    "        if (num>max_occurs):\n",
    "            max_occurs = num\n",
    "            result = label\n",
    "    return result\n",
    "\n",
    "\n",
    "\n"
   ]
  },
  {
   "cell_type": "code",
   "execution_count": 19,
   "metadata": {},
   "outputs": [
    {
     "name": "stdout",
     "output_type": "stream",
     "text": [
      "Predicted label: Flu\n"
     ]
    }
   ],
   "source": [
    "x_test = [1, 1, 1, 0]\n",
    "k = 3\n",
    "prediction = knn_predict(X_train, y_train, x_test, k)\n",
    "print(\"Predicted label:\", prediction)"
   ]
  }
 ],
 "metadata": {
  "kernelspec": {
   "display_name": "base",
   "language": "python",
   "name": "python3"
  },
  "language_info": {
   "codemirror_mode": {
    "name": "ipython",
    "version": 3
   },
   "file_extension": ".py",
   "mimetype": "text/x-python",
   "name": "python",
   "nbconvert_exporter": "python",
   "pygments_lexer": "ipython3",
   "version": "3.12.7"
  }
 },
 "nbformat": 4,
 "nbformat_minor": 2
}
