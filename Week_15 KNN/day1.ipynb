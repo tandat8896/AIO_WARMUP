{
 "cells": [
  {
   "cell_type": "code",
   "execution_count": 1,
   "metadata": {},
   "outputs": [],
   "source": [
    "import math \n",
    "import numpy as np \n",
    "import pandas as pd"
   ]
  },
  {
   "cell_type": "code",
   "execution_count": 18,
   "metadata": {},
   "outputs": [],
   "source": [
    "x = [3,4]\n",
    "y = [0,0]"
   ]
  },
  {
   "cell_type": "code",
   "execution_count": 19,
   "metadata": {},
   "outputs": [
    {
     "name": "stdout",
     "output_type": "stream",
     "text": [
      "5.0\n"
     ]
    }
   ],
   "source": [
    "def Euclidean_distance(x,y):\n",
    "    return math.sqrt(sum((a-b)**2 for a,b in zip(x,y)))\n",
    "result = Euclidean_distance(x,y)\n",
    "print(result)"
   ]
  },
  {
   "cell_type": "code",
   "execution_count": 20,
   "metadata": {},
   "outputs": [
    {
     "name": "stdout",
     "output_type": "stream",
     "text": [
      "7\n"
     ]
    }
   ],
   "source": [
    "def Manhattan_distance(x,y):\n",
    "    return sum(abs(a-b) for a ,b in zip(x,y))\n",
    "result = Manhattan_distance(x,y)\n",
    "print(result)"
   ]
  },
  {
   "cell_type": "code",
   "execution_count": 28,
   "metadata": {},
   "outputs": [
    {
     "name": "stdout",
     "output_type": "stream",
     "text": [
      "0.9999999999999998\n"
     ]
    }
   ],
   "source": [
    "def Cosine_Similarity_distance(x,y):\n",
    "    dot = sum(a*b for a ,b in zip(x,y))\n",
    "    norm_x = math.sqrt(sum(a**2 for a in x))\n",
    "    norm_y = math.sqrt(sum(b**2 for b in y))\n",
    "    if norm_x == 0 or norm_y == 0 :\n",
    "        return 0\n",
    "    cosine_similarity = dot/(norm_x * norm_y)\n",
    "    cosine_distance = 1- cosine_similarity\n",
    "    return cosine_similarity\n",
    "x=[1,2] \n",
    "y=[2,4]\n",
    "result = Cosine_Similarity_distance(x,y)\n",
    "print(result)"
   ]
  },
  {
   "cell_type": "code",
   "execution_count": 32,
   "metadata": {},
   "outputs": [],
   "source": [
    "def Chebyshev_distance(x,y):\n",
    "    return max(abs(a-b) for a,b in zip(x,y))\n",
    "x =[5,8,2]\n",
    "y =[3,5,4] \n",
    "Euclidean_result = Euclidean_distance(x,y)\n",
    "Manhattan_result = Manhattan_distance(x,y)\n",
    "Chebyshev_result = Chebyshev_distance(x,y)"
   ]
  },
  {
   "cell_type": "code",
   "execution_count": 33,
   "metadata": {},
   "outputs": [
    {
     "name": "stdout",
     "output_type": "stream",
     "text": [
      "4.123105625617661\n",
      "7\n",
      "3\n"
     ]
    }
   ],
   "source": [
    "print(Euclidean_result)\n",
    "print(Manhattan_result)\n",
    "print(Chebyshev_result)"
   ]
  },
  {
   "cell_type": "markdown",
   "metadata": {},
   "source": [
    "Euclidean distance đo khoảng cách “đường thẳng” trong không gian nhiều chiều, phản ánh sự chênh lệch tổng thể, phù hợp khi bạn quan tâm đến khoảng cách thực tế gần đúng như đo đạc vật lý.\n",
    "\n",
    "Manhattan distance tính tổng khoảng cách từng chiều riêng biệt (giống đi trong thành phố theo đường lưới), thường dùng khi di chuyển chỉ theo các trục cố định, hoặc trong các bài toán mà bạn muốn đánh giá sự khác biệt từng chiều một cách tách biệt.\n",
    "\n",
    "Chebyshev distance đo khoảng cách theo chiều lớn nhất giữa các thành phần, tức là khoảng cách quyết định bởi chiều có chênh lệch lớn nhất, thường dùng trong các bài toán mà bước di chuyển bị giới hạn bởi thành phần có sự khác biệt lớn nhất."
   ]
  },
  {
   "cell_type": "code",
   "execution_count": null,
   "metadata": {},
   "outputs": [],
   "source": []
  }
 ],
 "metadata": {
  "kernelspec": {
   "display_name": "base",
   "language": "python",
   "name": "python3"
  },
  "language_info": {
   "codemirror_mode": {
    "name": "ipython",
    "version": 3
   },
   "file_extension": ".py",
   "mimetype": "text/x-python",
   "name": "python",
   "nbconvert_exporter": "python",
   "pygments_lexer": "ipython3",
   "version": "3.12.7"
  }
 },
 "nbformat": 4,
 "nbformat_minor": 2
}
