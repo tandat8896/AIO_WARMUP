{
 "cells": [
  {
   "cell_type": "code",
   "execution_count": 2,
   "metadata": {},
   "outputs": [],
   "source": [
    "import numpy as np\n",
    "import mysql.connector as mysql \n",
    "import pandas as pd\n",
    "from mysql.connector import errorcode"
   ]
  },
  {
   "cell_type": "code",
   "execution_count": 3,
   "metadata": {},
   "outputs": [
    {
     "name": "stdout",
     "output_type": "stream",
     "text": [
      "Da tao DB miniproject\n",
      "da ket noi toi db\n"
     ]
    }
   ],
   "source": [
    "try:\n",
    "    conn = mysql.connect(\n",
    "        host = \"localhost\",\n",
    "        user = \"root\",\n",
    "        password = \"qiwoqqwu\"\n",
    "    )\n",
    "    cursor = conn.cursor()\n",
    "    cursor.execute(\"CREATE DATABASE IF NOT EXISTS miniproject\")\n",
    "    print(\"Da tao DB miniproject\")\n",
    "    conn.database=\"miniproject\"\n",
    "    print(\"da ket noi toi db\")\n",
    "except mysql.Error as err:\n",
    "    print(\"lỗi\")"
   ]
  },
  {
   "cell_type": "code",
   "execution_count": 1,
   "metadata": {},
   "outputs": [
    {
     "ename": "NameError",
     "evalue": "name 'cursor' is not defined",
     "output_type": "error",
     "traceback": [
      "\u001b[1;31m---------------------------------------------------------------------------\u001b[0m",
      "\u001b[1;31mNameError\u001b[0m                                 Traceback (most recent call last)",
      "Cell \u001b[1;32mIn[1], line 1\u001b[0m\n\u001b[1;32m----> 1\u001b[0m cursor\u001b[38;5;241m.\u001b[39mexecute(\u001b[38;5;124m\"\"\"\u001b[39m\n\u001b[0;32m      2\u001b[0m \u001b[38;5;124mCREATE TABLE IF NOT EXISTS emr_patients(\u001b[39m\n\u001b[0;32m      3\u001b[0m \u001b[38;5;124m                                            patient_id INT PRIMARY KEY,\u001b[39m\n\u001b[0;32m      4\u001b[0m \u001b[38;5;124m                                            medical_id VARCHAR(50),\u001b[39m\n\u001b[0;32m      5\u001b[0m \u001b[38;5;124m                                            first_name VARCHAR(50),\u001b[39m\n\u001b[0;32m      6\u001b[0m \u001b[38;5;124m                                            last_name VARCHAR(50),\u001b[39m\n\u001b[0;32m      7\u001b[0m \u001b[38;5;124m                                            date_of_birth DATE,\u001b[39m\n\u001b[0;32m      8\u001b[0m \u001b[38;5;124m                                            gender VARCHAR(10),\u001b[39m\n\u001b[0;32m      9\u001b[0m \u001b[38;5;124m                                            address TEXT,\u001b[39m\n\u001b[0;32m     10\u001b[0m \u001b[38;5;124m                                            phone_number VARCHAR(20),\u001b[39m\n\u001b[0;32m     11\u001b[0m \u001b[38;5;124m                                            email VARCHAR(100),\u001b[39m\n\u001b[0;32m     12\u001b[0m \u001b[38;5;124m                                            created_at DATETIME,\u001b[39m\n\u001b[0;32m     13\u001b[0m \u001b[38;5;124m                                            updated_at DATETIME )\u001b[39m\u001b[38;5;124m\"\"\"\u001b[39m)\n\u001b[0;32m     14\u001b[0m conn\u001b[38;5;241m.\u001b[39mcommit()\n",
      "\u001b[1;31mNameError\u001b[0m: name 'cursor' is not defined"
     ]
    }
   ],
   "source": [
    "cursor.execute(\"\"\"\n",
    "CREATE TABLE IF NOT EXISTS emr_patients(\n",
    "                                            patient_id INT PRIMARY KEY,\n",
    "                                            medical_id VARCHAR(50),\n",
    "                                            first_name VARCHAR(50),\n",
    "                                            last_name VARCHAR(50),\n",
    "                                            date_of_birth DATE,\n",
    "                                            gender VARCHAR(10),\n",
    "                                            address TEXT,\n",
    "                                            phone_number VARCHAR(20),\n",
    "                                            email VARCHAR(100),\n",
    "                                            created_at DATETIME,\n",
    "                                            updated_at DATETIME )\"\"\")\n",
    "conn.commit()"
   ]
  },
  {
   "cell_type": "code",
   "execution_count": 16,
   "metadata": {},
   "outputs": [],
   "source": [
    "cursor.execute(\"\"\"\n",
    "                CREATE TABLE IF NOT EXISTS emr_visits (\n",
    "                    visit_id INT PRIMARY KEY,\n",
    "                    patient_id INT,\n",
    "                    doctor_id INT,\n",
    "                    department_id INT,\n",
    "                    facility_id INT,\n",
    "                    visit_date DATE,\n",
    "                    symptoms TEXT,\n",
    "                    diagnosis TEXT,\n",
    "                    notes TEXT,\n",
    "                    status VARCHAR(20),\n",
    "                    created_at DATETIME,\n",
    "                    updated_at DATETIME,\n",
    "                    FOREIGN KEY (patient_id) REFERENCES emr_patients(patient_id)\n",
    "                                                                );\n",
    "               \"\"\")\n",
    "conn.commit()"
   ]
  },
  {
   "cell_type": "code",
   "execution_count": 5,
   "metadata": {},
   "outputs": [],
   "source": [
    "cursor.execute(\"\"\"\n",
    "                CREATE TABLE emr_tests (\n",
    "                    test_id INT PRIMARY KEY,\n",
    "                    visit_id INT,\n",
    "                    test_name VARCHAR(100),\n",
    "                    test_type VARCHAR(50),\n",
    "                    ordered_by INT,\n",
    "                    ordered_date DATE,\n",
    "                    performed_date DATE,\n",
    "                    results TEXT,\n",
    "                    status VARCHAR(20),\n",
    "                    created_at DATETIME,\n",
    "                    updated_at DATETIME,\n",
    "                    FOREIGN KEY (visit_id) REFERENCES emr_visits(visit_id)\n",
    "                );\"\"\")\n",
    "\n",
    "conn.commit()"
   ]
  },
  {
   "cell_type": "code",
   "execution_count": 1,
   "metadata": {},
   "outputs": [
    {
     "ename": "NameError",
     "evalue": "name 'cursor' is not defined",
     "output_type": "error",
     "traceback": [
      "\u001b[1;31m---------------------------------------------------------------------------\u001b[0m",
      "\u001b[1;31mNameError\u001b[0m                                 Traceback (most recent call last)",
      "Cell \u001b[1;32mIn[1], line 1\u001b[0m\n\u001b[1;32m----> 1\u001b[0m cursor\u001b[38;5;241m.\u001b[39mexecute(\u001b[38;5;124m\"\"\"\u001b[39m\n\u001b[0;32m      2\u001b[0m \u001b[38;5;124m                    CREATE TABLE emr_prescriptions (\u001b[39m\n\u001b[0;32m      3\u001b[0m \u001b[38;5;124m                            prescription_id INT PRIMARY KEY,\u001b[39m\n\u001b[0;32m      4\u001b[0m \u001b[38;5;124m                            visit_id INT,\u001b[39m\n\u001b[0;32m      5\u001b[0m \u001b[38;5;124m                            medication_name VARCHAR(100),\u001b[39m\n\u001b[0;32m      6\u001b[0m \u001b[38;5;124m                            dosage VARCHAR(50),\u001b[39m\n\u001b[0;32m      7\u001b[0m \u001b[38;5;124m                            frequency VARCHAR(50),\u001b[39m\n\u001b[0;32m      8\u001b[0m \u001b[38;5;124m                            duration VARCHAR(50),\u001b[39m\n\u001b[0;32m      9\u001b[0m \u001b[38;5;124m                            instructions TEXT,\u001b[39m\n\u001b[0;32m     10\u001b[0m \u001b[38;5;124m                            prescribed_by INT,\u001b[39m\n\u001b[0;32m     11\u001b[0m \u001b[38;5;124m                            prescribed_date DATE,\u001b[39m\n\u001b[0;32m     12\u001b[0m \u001b[38;5;124m                            status VARCHAR(20),\u001b[39m\n\u001b[0;32m     13\u001b[0m \u001b[38;5;124m                            created_at DATETIME,\u001b[39m\n\u001b[0;32m     14\u001b[0m \u001b[38;5;124m                            updated_at DATETIME,\u001b[39m\n\u001b[0;32m     15\u001b[0m \u001b[38;5;124m                            FOREIGN KEY (visit_id) REFERENCES emr_visits(visit_id)\u001b[39m\n\u001b[0;32m     16\u001b[0m \u001b[38;5;124m                        );\u001b[39m\u001b[38;5;124m\"\"\"\u001b[39m)\n\u001b[0;32m     17\u001b[0m conn\u001b[38;5;241m.\u001b[39mcommit()\n",
      "\u001b[1;31mNameError\u001b[0m: name 'cursor' is not defined"
     ]
    }
   ],
   "source": [
    "cursor.execute(\"\"\"\n",
    "                    CREATE TABLE emr_prescriptions (\n",
    "                            prescription_id INT PRIMARY KEY,\n",
    "                            visit_id INT,\n",
    "                            medication_name VARCHAR(100),\n",
    "                            dosage VARCHAR(50),\n",
    "                            frequency VARCHAR(50),\n",
    "                            duration VARCHAR(50),\n",
    "                            instructions TEXT,\n",
    "                            prescribed_by INT,\n",
    "                            prescribed_date DATE,\n",
    "                            status VARCHAR(20),\n",
    "                            created_at DATETIME,\n",
    "                            updated_at DATETIME,\n",
    "                            FOREIGN KEY (visit_id) REFERENCES emr_visits(visit_id)\n",
    "                        );\"\"\")\n",
    "conn.commit()"
   ]
  },
  {
   "cell_type": "code",
   "execution_count": 4,
   "metadata": {},
   "outputs": [
    {
     "name": "stdout",
     "output_type": "stream",
     "text": [
      "Đã tạo các INDEX thành công.\n"
     ]
    }
   ],
   "source": [
    "index_queries = [\n",
    "    \"CREATE INDEX idx_patient_medical_id ON emr_patients(medical_id)\",\n",
    "    \"CREATE INDEX idx_visit_patient_id ON emr_visits(patient_id)\",\n",
    "    \"CREATE INDEX idx_visit_date ON emr_visits(visit_date)\",\n",
    "    \"CREATE INDEX idx_prescription_visit_id ON emr_prescriptions(visit_id)\",\n",
    "    \"CREATE INDEX idx_test_visit_id ON emr_tests(visit_id)\"\n",
    "]\n",
    "\n",
    "for query in index_queries:\n",
    "    cursor.execute(query)\n",
    "\n",
    "conn.commit()\n",
    "print(\"Đã tạo các INDEX thành công.\")\n"
   ]
  }
 ],
 "metadata": {
  "kernelspec": {
   "display_name": "base",
   "language": "python",
   "name": "python3"
  },
  "language_info": {
   "codemirror_mode": {
    "name": "ipython",
    "version": 3
   },
   "file_extension": ".py",
   "mimetype": "text/x-python",
   "name": "python",
   "nbconvert_exporter": "python",
   "pygments_lexer": "ipython3",
   "version": "3.12.7"
  }
 },
 "nbformat": 4,
 "nbformat_minor": 2
}
