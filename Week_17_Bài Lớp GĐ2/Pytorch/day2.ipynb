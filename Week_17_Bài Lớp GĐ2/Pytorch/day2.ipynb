{
 "cells": [
  {
   "cell_type": "code",
   "execution_count": 1,
   "metadata": {},
   "outputs": [],
   "source": [
    "import torch\n",
    "device = torch.device(\"cuda\" if torch.cuda.is_available() else\"cpu\")\n"
   ]
  },
  {
   "cell_type": "code",
   "execution_count": 24,
   "metadata": {},
   "outputs": [
    {
     "data": {
      "text/plain": [
       "tensor([[ 0.,  1.,  2.,  3.],\n",
       "        [ 4.,  5.,  6.,  7.],\n",
       "        [ 8.,  9., 10., 11.]], device='cuda:0')"
      ]
     },
     "execution_count": 24,
     "metadata": {},
     "output_type": "execute_result"
    }
   ],
   "source": [
    "A= torch.arange(12,device=device).reshape(3,4).float()\n",
    "A"
   ]
  },
  {
   "cell_type": "code",
   "execution_count": 25,
   "metadata": {},
   "outputs": [
    {
     "data": {
      "text/plain": [
       "tensor([[ 5.,  6.,  7.,  8.],\n",
       "        [ 9., 10., 11., 12.],\n",
       "        [13., 14., 15., 16.]], device='cuda:0')"
      ]
     },
     "execution_count": 25,
     "metadata": {},
     "output_type": "execute_result"
    }
   ],
   "source": [
    "A.add(5) #broadcasting cộng thêm các phần tử thêm 5 "
   ]
  },
  {
   "cell_type": "code",
   "execution_count": 26,
   "metadata": {},
   "outputs": [
    {
     "data": {
      "text/plain": [
       "tensor([[ 0.,  2.,  4.,  6.],\n",
       "        [ 8., 10., 12., 14.],\n",
       "        [16., 18., 20., 22.]], device='cuda:0')"
      ]
     },
     "execution_count": 26,
     "metadata": {},
     "output_type": "execute_result"
    }
   ],
   "source": [
    "A.mul_(2) # nhân đôi các phần tử "
   ]
  },
  {
   "cell_type": "code",
   "execution_count": 28,
   "metadata": {},
   "outputs": [
    {
     "name": "stdout",
     "output_type": "stream",
     "text": [
      "tensor([12., 44., 76.], device='cuda:0')\n"
     ]
    }
   ],
   "source": [
    "print(A.sum(dim=1))\n"
   ]
  },
  {
   "cell_type": "code",
   "execution_count": 15,
   "metadata": {},
   "outputs": [
    {
     "name": "stdout",
     "output_type": "stream",
     "text": [
      "torch.return_types.max(\n",
      "values=tensor([[16., 18., 20., 22.]], device='cuda:0'),\n",
      "indices=tensor([[2, 2, 2, 2]], device='cuda:0'))\n"
     ]
    }
   ],
   "source": [
    "print(A.max(dim=0,keepdim=True))"
   ]
  },
  {
   "cell_type": "code",
   "execution_count": 16,
   "metadata": {},
   "outputs": [
    {
     "name": "stdout",
     "output_type": "stream",
     "text": [
      "tensor([5, 7, 9])\n",
      "tensor([4, 5, 6])\n",
      "tensor([ 6, 15])\n",
      "tensor([3, 6])\n"
     ]
    }
   ],
   "source": [
    "#A = torch.tensor([[1,2,3],[4,5,6]])\n",
    "#print(A.sum(dim=0))  # tensor([5,7,9]) — tổng theo từng cột\n",
    "#print(A.max(dim=0).values)  # tensor([4,5,6]) — max theo từng cột\n",
    "\n",
    "#print(A.sum(dim=1))  # tensor([6,15]) — tổng theo từng hàng\n",
    "#print(A.max(dim=1).values)  # tensor([3,6]) — max theo từng hàng\n"
   ]
  },
  {
   "cell_type": "code",
   "execution_count": 2,
   "metadata": {},
   "outputs": [
    {
     "data": {
      "text/plain": [
       "tensor([[0.5033, 0.7675, 0.8691, 0.7647, 0.9539],\n",
       "        [0.0690, 0.9999, 0.4515, 0.8832, 0.3912],\n",
       "        [0.7601, 0.1352, 0.8095, 0.7713, 0.0753],\n",
       "        [0.9444, 0.3688, 0.6565, 0.5891, 0.3419],\n",
       "        [0.9227, 0.8344, 0.9613, 0.3703, 0.9702]], device='cuda:0')"
      ]
     },
     "execution_count": 2,
     "metadata": {},
     "output_type": "execute_result"
    }
   ],
   "source": [
    "G=torch.rand((5,5),device=device)\n",
    "G"
   ]
  },
  {
   "cell_type": "code",
   "execution_count": 33,
   "metadata": {},
   "outputs": [
    {
     "name": "stdout",
     "output_type": "stream",
     "text": [
      "tensor([[ True, False,  True, False,  True],\n",
      "        [ True,  True, False,  True,  True],\n",
      "        [False,  True, False, False,  True],\n",
      "        [ True, False,  True,  True, False],\n",
      "        [False,  True,  True, False,  True]], device='cuda:0')\n",
      "tensor([0.5186, 0.8716, 0.9514, 0.7488, 0.6929, 0.7738, 0.7263, 0.8170, 0.9350,\n",
      "        0.6947, 0.6761, 0.8823, 0.9483, 0.8785, 0.9404], device='cuda:0')\n"
     ]
    }
   ],
   "source": [
    "mask = G>0.5\n",
    "print(mask)\n",
    "print(G[mask])"
   ]
  },
  {
   "cell_type": "code",
   "execution_count": 2,
   "metadata": {},
   "outputs": [
    {
     "data": {
      "text/plain": [
       "tensor([[0.0000, 0.9722, 0.0000, 0.0000, 0.0000],\n",
       "        [0.0000, 0.0000, 0.0000, 0.8709, 0.7453],\n",
       "        [0.6575, 0.5138, 0.0000, 0.5660, 0.5583],\n",
       "        [0.0000, 0.0000, 0.0000, 0.8643, 0.0000],\n",
       "        [0.5488, 0.5185, 0.5983, 0.8257, 0.6935]])"
      ]
     },
     "execution_count": 2,
     "metadata": {},
     "output_type": "execute_result"
    }
   ],
   "source": [
    "G = torch.rand((5,5))\n",
    "result = torch.where(G > 0.5, G, torch.zeros_like(G))\n",
    "result\n"
   ]
  },
  {
   "cell_type": "code",
   "execution_count": 3,
   "metadata": {},
   "outputs": [],
   "source": [
    "result = torch.where(G>0,G,torch.zeros_like(G))\n",
    "result1 = torch.where(G<0 , G , torch.ones_like(G))"
   ]
  },
  {
   "cell_type": "code",
   "execution_count": 4,
   "metadata": {},
   "outputs": [
    {
     "data": {
      "text/plain": [
       "tensor([[0.5033, 0.7675, 0.8691, 0.7647, 0.9539],\n",
       "        [0.0690, 0.9999, 0.4515, 0.8832, 0.3912],\n",
       "        [0.7601, 0.1352, 0.8095, 0.7713, 0.0753],\n",
       "        [0.9444, 0.3688, 0.6565, 0.5891, 0.3419],\n",
       "        [0.9227, 0.8344, 0.9613, 0.3703, 0.9702]], device='cuda:0')"
      ]
     },
     "execution_count": 4,
     "metadata": {},
     "output_type": "execute_result"
    }
   ],
   "source": [
    "result"
   ]
  },
  {
   "cell_type": "code",
   "execution_count": 8,
   "metadata": {},
   "outputs": [
    {
     "data": {
      "text/plain": [
       "tensor([[1., 1., 1., 1., 1.],\n",
       "        [1., 1., 1., 1., 1.],\n",
       "        [1., 1., 1., 1., 1.],\n",
       "        [1., 1., 1., 1., 1.],\n",
       "        [1., 1., 1., 1., 1.]], device='cuda:0')"
      ]
     },
     "execution_count": 8,
     "metadata": {},
     "output_type": "execute_result"
    }
   ],
   "source": [
    "result1"
   ]
  },
  {
   "cell_type": "code",
   "execution_count": 4,
   "metadata": {},
   "outputs": [],
   "source": [
    "Index = torch.tensor((0,1,2,3,4),device=device)\n",
    "#result = torch.gather(input=G,dim=0,index=Index)"
   ]
  },
  {
   "cell_type": "code",
   "execution_count": 13,
   "metadata": {},
   "outputs": [
    {
     "name": "stdout",
     "output_type": "stream",
     "text": [
      "torch.Size([5, 5])\n"
     ]
    }
   ],
   "source": [
    "data = G.view(1,5,5)"
   ]
  },
  {
   "cell_type": "code",
   "execution_count": 18,
   "metadata": {},
   "outputs": [
    {
     "name": "stdout",
     "output_type": "stream",
     "text": [
      "torch.Size([5])\n"
     ]
    }
   ],
   "source": [
    "print(Index.shape)"
   ]
  },
  {
   "cell_type": "code",
   "execution_count": 20,
   "metadata": {},
   "outputs": [
    {
     "name": "stdout",
     "output_type": "stream",
     "text": [
      "tensor([[0.8070, 0.8423, 0.5213, 0.9339, 0.6564],\n",
      "        [0.0478, 0.7200, 0.8971, 0.4940, 0.1073],\n",
      "        [0.6347, 0.0592, 0.1178, 0.4894, 0.0511],\n",
      "        [0.9146, 0.9934, 0.2037, 0.8570, 0.1141],\n",
      "        [0.6272, 0.0866, 0.1914, 0.6328, 0.1711]])\n",
      "tensor([[4],\n",
      "        [3],\n",
      "        [2],\n",
      "        [1],\n",
      "        [0]])\n",
      "Shape của result: torch.Size([5, 1])\n",
      "tensor([[0.6564],\n",
      "        [0.4940],\n",
      "        [0.1178],\n",
      "        [0.9934],\n",
      "        [0.6272]])\n",
      "Lấy G[0, indices4] (indices = 4) = 0.6563822627067566\n",
      "Lấy G[1, indices3] (indices = 3) = 0.49398642778396606\n",
      "Lấy G[2, indices2] (indices = 2) = 0.1178242564201355\n",
      "Lấy G[3, indices1] (indices = 1) = 0.9933950304985046\n",
      "Lấy G[4, indices0] (indices = 0) = 0.6271790862083435\n"
     ]
    }
   ],
   "source": [
    "G = torch.rand((5,5))\n",
    "print(G)\n",
    "col_indices = torch.tensor([4,3,2,1,0])       # shape (5,)\n",
    "col_indices = col_indices.unsqueeze(1)  \n",
    "print(col_indices)      # shape (5,1)\n",
    "\n",
    "result = torch.gather(G, dim=1, index=col_indices)\n",
    "\n",
    "print(\"Shape của result:\", result.shape)      # (5,1)\n",
    "print(result)\n",
    "for i in range(G.shape[0]):\n",
    "    row = i\n",
    "    col = col_indices[i,0].item()\n",
    "    val = G[row, col].item()\n",
    "    print(f\"Lấy G[{row}, indices{col}] (indices = {col}) = {val}\")\n"
   ]
  },
  {
   "cell_type": "code",
   "execution_count": 28,
   "metadata": {},
   "outputs": [
    {
     "name": "stdout",
     "output_type": "stream",
     "text": [
      "Tensor G:\n",
      " tensor([[0.1000, 0.2000, 0.3000, 0.4000, 0.5000],\n",
      "        [1.1000, 1.2000, 1.3000, 1.4000, 1.5000],\n",
      "        [2.1000, 2.2000, 2.3000, 2.4000, 2.5000],\n",
      "        [3.1000, 3.2000, 3.3000, 3.4000, 3.5000],\n",
      "        [4.1000, 4.2000, 4.3000, 4.4000, 4.5000]])\n",
      "Index lấy phần tử theo hàng (dim=0):\n",
      " tensor([[0, 1, 2, 3, 4],\n",
      "        [0, 1, 2, 3, 4],\n",
      "        [0, 1, 2, 3, 4],\n",
      "        [0, 1, 2, 3, 4],\n",
      "        [0, 1, 2, 3, 4]])\n",
      "Kết quả gather:\n",
      " tensor([[0.1000, 1.2000, 2.3000, 3.4000, 4.5000],\n",
      "        [0.1000, 1.2000, 2.3000, 3.4000, 4.5000],\n",
      "        [0.1000, 1.2000, 2.3000, 3.4000, 4.5000],\n",
      "        [0.1000, 1.2000, 2.3000, 3.4000, 4.5000],\n",
      "        [0.1000, 1.2000, 2.3000, 3.4000, 4.5000]])\n",
      "Lấy G[0,0] = 0.10000000149011612 vào vị trí result[0,0]\n",
      "Lấy G[1,1] = 1.2000000476837158 vào vị trí result[0,1]\n",
      "Lấy G[2,2] = 2.299999952316284 vào vị trí result[0,2]\n",
      "Lấy G[3,3] = 3.4000000953674316 vào vị trí result[0,3]\n",
      "Lấy G[4,4] = 4.5 vào vị trí result[0,4]\n",
      "Lấy G[0,0] = 0.10000000149011612 vào vị trí result[1,0]\n",
      "Lấy G[1,1] = 1.2000000476837158 vào vị trí result[1,1]\n",
      "Lấy G[2,2] = 2.299999952316284 vào vị trí result[1,2]\n",
      "Lấy G[3,3] = 3.4000000953674316 vào vị trí result[1,3]\n",
      "Lấy G[4,4] = 4.5 vào vị trí result[1,4]\n",
      "Lấy G[0,0] = 0.10000000149011612 vào vị trí result[2,0]\n",
      "Lấy G[1,1] = 1.2000000476837158 vào vị trí result[2,1]\n",
      "Lấy G[2,2] = 2.299999952316284 vào vị trí result[2,2]\n",
      "Lấy G[3,3] = 3.4000000953674316 vào vị trí result[2,3]\n",
      "Lấy G[4,4] = 4.5 vào vị trí result[2,4]\n",
      "Lấy G[0,0] = 0.10000000149011612 vào vị trí result[3,0]\n",
      "Lấy G[1,1] = 1.2000000476837158 vào vị trí result[3,1]\n",
      "Lấy G[2,2] = 2.299999952316284 vào vị trí result[3,2]\n",
      "Lấy G[3,3] = 3.4000000953674316 vào vị trí result[3,3]\n",
      "Lấy G[4,4] = 4.5 vào vị trí result[3,4]\n",
      "Lấy G[0,0] = 0.10000000149011612 vào vị trí result[4,0]\n",
      "Lấy G[1,1] = 1.2000000476837158 vào vị trí result[4,1]\n",
      "Lấy G[2,2] = 2.299999952316284 vào vị trí result[4,2]\n",
      "Lấy G[3,3] = 3.4000000953674316 vào vị trí result[4,3]\n",
      "Lấy G[4,4] = 4.5 vào vị trí result[4,4]\n"
     ]
    }
   ],
   "source": [
    "\n",
    "\n",
    "G = torch.tensor([\n",
    "    [0.1, 0.2, 0.3, 0.4, 0.5],\n",
    "    [1.1, 1.2, 1.3, 1.4, 1.5],\n",
    "    [2.1, 2.2, 2.3, 2.4, 2.5],\n",
    "    [3.1, 3.2, 3.3, 3.4, 3.5],\n",
    "    [4.1, 4.2, 4.3, 4.4, 4.5]\n",
    "])  # shape (5,5)\n",
    "\n",
    "# Chỉ số hàng muốn lấy tại từng cột:\n",
    "# Ví dụ cột 0 lấy hàng 0, cột 1 lấy hàng 1, ...\n",
    "row_indices = torch.tensor([0, 1, 2, 3, 4])  # shape (5,)\n",
    "\n",
    "# Tạo index tensor shape (5,5), mỗi cột đều lấy đúng chỉ số hàng mình cần:\n",
    "# Mỗi cột lặp lại 5 lần cho đủ shape (5,5)\n",
    "index = row_indices.unsqueeze(0).repeat(5, 1)  # shape (5,5)\n",
    "\n",
    "# Thực hiện gather theo chiều 0 (hàng)\n",
    "result = torch.gather(G, dim=0, index=index)\n",
    "\n",
    "print(\"Tensor G:\\n\", G)\n",
    "print(\"Index lấy phần tử theo hàng (dim=0):\\n\", index)\n",
    "print(\"Kết quả gather:\\n\", result)\n",
    "\n",
    "# Debug từng phần tử:\n",
    "for i in range(result.shape[0]):  # 5 hàng của kết quả\n",
    "    for j in range(result.shape[1]):  # 5 cột\n",
    "        r = index[i, j].item()  # chỉ số hàng lấy\n",
    "        val = G[r, j].item()\n",
    "        print(f\"Lấy G[{r},{j}] = {val} vào vị trí result[{i},{j}]\")\n"
   ]
  },
  {
   "cell_type": "code",
   "execution_count": 25,
   "metadata": {},
   "outputs": [
    {
     "name": "stdout",
     "output_type": "stream",
     "text": [
      "Original x: tensor([1, 2, 3, 4, 5])\n",
      "Shape: torch.Size([5])\n",
      "\n",
      "After unsqueeze(0):\n",
      "tensor([[1, 2, 3, 4, 5]])\n",
      "Shape: torch.Size([1, 5])\n",
      "x_unsq0[0,0] = 1\n",
      "x_unsq0[0,1] = 2\n",
      "x_unsq0[0,2] = 3\n",
      "x_unsq0[0,3] = 4\n",
      "x_unsq0[0,4] = 5\n"
     ]
    }
   ],
   "source": [
    "\n",
    "\n",
    "x = torch.tensor([1, 2, 3, 4, 5])\n",
    "print(\"Original x:\", x)\n",
    "print(\"Shape:\", x.shape)  # (5,)\n",
    "\n",
    "x_unsq0 = x.unsqueeze(0)\n",
    "print(\"\\nAfter unsqueeze(0):\")\n",
    "print(x_unsq0)\n",
    "print(\"Shape:\", x_unsq0.shape)  # (1,5)\n",
    "\n",
    "# Debug từng phần tử\n",
    "for i in range(x_unsq0.shape[0]):\n",
    "    for j in range(x_unsq0.shape[1]):\n",
    "        print(f\"x_unsq0[{i},{j}] = {x_unsq0[i,j]}\")\n"
   ]
  },
  {
   "cell_type": "code",
   "execution_count": 26,
   "metadata": {},
   "outputs": [
    {
     "name": "stdout",
     "output_type": "stream",
     "text": [
      "Original x: tensor([1, 2, 3, 4, 5])\n",
      "Shape: torch.Size([5])\n",
      "\n",
      "After unsqueeze(1):\n",
      "tensor([[1],\n",
      "        [2],\n",
      "        [3],\n",
      "        [4],\n",
      "        [5]])\n",
      "Shape: torch.Size([5, 1])\n",
      "x_unsq1[0,0] = 1\n",
      "x_unsq1[1,0] = 2\n",
      "x_unsq1[2,0] = 3\n",
      "x_unsq1[3,0] = 4\n",
      "x_unsq1[4,0] = 5\n"
     ]
    }
   ],
   "source": [
    "\n",
    "x = torch.tensor([1, 2, 3, 4, 5])\n",
    "print(\"Original x:\", x)\n",
    "print(\"Shape:\", x.shape)  # (5,)\n",
    "\n",
    "x_unsq1 = x.unsqueeze(1)\n",
    "print(\"\\nAfter unsqueeze(1):\")\n",
    "print(x_unsq1)\n",
    "print(\"Shape:\", x_unsq1.shape)  # (5,1)\n",
    "\n",
    "# Debug từng phần tử\n",
    "for i in range(x_unsq1.shape[0]):\n",
    "    for j in range(x_unsq1.shape[1]):\n",
    "        print(f\"x_unsq1[{i},{j}] = {x_unsq1[i,j]}\")\n"
   ]
  },
  {
   "cell_type": "code",
   "execution_count": 23,
   "metadata": {},
   "outputs": [
    {
     "name": "stdout",
     "output_type": "stream",
     "text": [
      "x_unsq1: tensor([[1],\n",
      "        [2],\n",
      "        [3],\n",
      "        [4],\n",
      "        [5]])\n",
      "Shape: torch.Size([5, 1])\n",
      "\n",
      "After squeeze(1):\n",
      "tensor([1, 2, 3, 4, 5])\n",
      "Shape: torch.Size([5])\n",
      "x_sq[0] = 1\n",
      "x_sq[1] = 2\n",
      "x_sq[2] = 3\n",
      "x_sq[3] = 4\n",
      "x_sq[4] = 5\n"
     ]
    }
   ],
   "source": [
    "\n",
    "\n",
    "x = torch.tensor([1, 2, 3, 4, 5])\n",
    "x_unsq1 = x.unsqueeze(1)\n",
    "print(\"x_unsq1:\", x_unsq1)\n",
    "print(\"Shape:\", x_unsq1.shape)  # (5,1)\n",
    "\n",
    "x_sq = x_unsq1.squeeze(1)\n",
    "print(\"\\nAfter squeeze(1):\")\n",
    "print(x_sq)\n",
    "print(\"Shape:\", x_sq.shape)  # (5,)\n",
    "\n",
    "# Debug từng phần tử\n",
    "for i in range(x_sq.shape[0]):\n",
    "    print(f\"x_sq[{i}] = {x_sq[i]}\")\n"
   ]
  },
  {
   "cell_type": "code",
   "execution_count": 24,
   "metadata": {},
   "outputs": [
    {
     "name": "stdout",
     "output_type": "stream",
     "text": [
      "Original x2: tensor([ 0,  1,  2,  3,  4,  5,  6,  7,  8,  9, 10, 11])\n",
      "Shape: torch.Size([12])\n",
      "\n",
      "After view(3,4):\n",
      "tensor([[ 0,  1,  2,  3],\n",
      "        [ 4,  5,  6,  7],\n",
      "        [ 8,  9, 10, 11]])\n",
      "Shape: torch.Size([3, 4])\n",
      "x2_view[0,0] = 0\n",
      "x2_view[0,1] = 1\n",
      "x2_view[0,2] = 2\n",
      "x2_view[0,3] = 3\n",
      "x2_view[1,0] = 4\n",
      "x2_view[1,1] = 5\n",
      "x2_view[1,2] = 6\n",
      "x2_view[1,3] = 7\n",
      "x2_view[2,0] = 8\n",
      "x2_view[2,1] = 9\n",
      "x2_view[2,2] = 10\n",
      "x2_view[2,3] = 11\n"
     ]
    }
   ],
   "source": [
    "\n",
    "\n",
    "x2 = torch.arange(12)\n",
    "print(\"Original x2:\", x2)\n",
    "print(\"Shape:\", x2.shape)  # (12,)\n",
    "\n",
    "x2_view = x2.view(3,4)\n",
    "print(\"\\nAfter view(3,4):\")\n",
    "print(x2_view)\n",
    "print(\"Shape:\", x2_view.shape)  # (3,4)\n",
    "\n",
    "# Debug từng phần tử\n",
    "for i in range(x2_view.shape[0]):\n",
    "    for j in range(x2_view.shape[1]):\n",
    "        print(f\"x2_view[{i},{j}] = {x2_view[i,j]}\")\n"
   ]
  },
  {
   "cell_type": "code",
   "execution_count": 29,
   "metadata": {},
   "outputs": [
    {
     "name": "stdout",
     "output_type": "stream",
     "text": [
      "[[0.1 1.2 2.3 3.4 4.5]\n",
      " [0.1 1.2 2.3 3.4 4.5]\n",
      " [0.1 1.2 2.3 3.4 4.5]\n",
      " [0.1 1.2 2.3 3.4 4.5]\n",
      " [0.1 1.2 2.3 3.4 4.5]]\n"
     ]
    }
   ],
   "source": [
    "import numpy as np\n",
    "\n",
    "G = np.array([\n",
    "    [0.1, 0.2, 0.3, 0.4, 0.5],\n",
    "    [1.1, 1.2, 1.3, 1.4, 1.5],\n",
    "    [2.1, 2.2, 2.3, 2.4, 2.5],\n",
    "    [3.1, 3.2, 3.3, 3.4, 3.5],\n",
    "    [4.1, 4.2, 4.3, 4.4, 4.5]\n",
    "])  # shape (5,5)\n",
    "\n",
    "row_indices = np.array([0, 1, 2, 3, 4])  # chỉ số hàng theo từng cột\n",
    "index = np.tile(row_indices, (5,1))      # shape (5,5)\n",
    "\n",
    "# Lấy phần tử theo hàng (axis=0)\n",
    "result = np.take_along_axis(G, index, axis=0)\n",
    "\n",
    "print(result)\n"
   ]
  },
  {
   "cell_type": "code",
   "execution_count": 32,
   "metadata": {},
   "outputs": [
    {
     "name": "stdout",
     "output_type": "stream",
     "text": [
      "tensor([[[-0.6180, -0.6220],\n",
      "         [ 1.8813,  2.2434]],\n",
      "\n",
      "        [[-0.7582, -1.3416],\n",
      "         [ 0.7986,  0.5521]],\n",
      "\n",
      "        [[ 1.7307,  0.5397],\n",
      "         [-1.2095, -1.6158]]])\n",
      "tensor([[[-0.9713, -0.6848],\n",
      "         [ 1.0216,  1.0604]],\n",
      "\n",
      "        [[-0.6393, -0.1079],\n",
      "         [-0.0938, -0.2658]],\n",
      "\n",
      "        [[ 0.4425,  2.9501],\n",
      "         [ 1.6762,  0.5799]]])\n",
      "tensor([[[-0.0352, -0.2364],\n",
      "         [ 0.4645,  1.0907]],\n",
      "\n",
      "        [[ 0.6106,  0.4383],\n",
      "         [-0.5624, -0.2329]],\n",
      "\n",
      "        [[ 1.6705,  5.4185],\n",
      "         [-3.2436, -4.5051]]])\n"
     ]
    }
   ],
   "source": [
    "X = torch.randn(3,2,2)\n",
    "print(X)\n",
    "Y = torch.randn(3,2,2)\n",
    "print(Y)\n",
    "Z=torch.bmm(X,Y)\n",
    "print(Z)"
   ]
  },
  {
   "cell_type": "code",
   "execution_count": 36,
   "metadata": {},
   "outputs": [
    {
     "data": {
      "text/plain": [
       "tensor([[ 2.2459,  5.6205],\n",
       "        [-3.3415, -3.6473]])"
      ]
     },
     "execution_count": 36,
     "metadata": {},
     "output_type": "execute_result"
    }
   ],
   "source": [
    "sum_Z = Z.sum(dim=0)\n",
    "sum_Z"
   ]
  },
  {
   "cell_type": "code",
   "execution_count": 37,
   "metadata": {},
   "outputs": [
    {
     "name": "stdout",
     "output_type": "stream",
     "text": [
      "True\n"
     ]
    }
   ],
   "source": [
    "print(X.is_contiguous())\n"
   ]
  },
  {
   "cell_type": "code",
   "execution_count": 38,
   "metadata": {},
   "outputs": [],
   "source": [
    "X_contig = X.contiguous()\n"
   ]
  },
  {
   "cell_type": "code",
   "execution_count": 41,
   "metadata": {},
   "outputs": [
    {
     "name": "stdout",
     "output_type": "stream",
     "text": [
      "X =\n",
      "tensor([[1, 2, 3],\n",
      "        [4, 5, 6]])\n",
      "Is X contiguous? True\n",
      "X shape: torch.Size([2, 3])\n",
      "X strides: (3, 1)\n",
      "==================================================\n",
      "X.T =\n",
      "tensor([[1, 4],\n",
      "        [2, 5],\n",
      "        [3, 6]])\n",
      "Is X_T contiguous? False\n",
      "X_T shape: torch.Size([3, 2])\n",
      "X_T strides: (1, 3)\n",
      "==================================================\n",
      "X_T_contig =\n",
      "tensor([[1, 4],\n",
      "        [2, 5],\n",
      "        [3, 6]])\n",
      "Is X_T_contig contiguous? True\n",
      "X_T_contig shape: torch.Size([3, 2])\n",
      "X_T_contig strides: (2, 1)\n"
     ]
    }
   ],
   "source": [
    "\n",
    "\n",
    "# 1. Tạo tensor ban đầu\n",
    "X = torch.tensor([[1, 2, 3],\n",
    "                  [4, 5, 6]])\n",
    "print(\"X =\")\n",
    "print(X)\n",
    "print(\"Is X contiguous?\", X.is_contiguous())\n",
    "print(\"X shape:\", X.shape)\n",
    "print(\"X strides:\", X.stride())\n",
    "print(\"=\"*50)\n",
    "\n",
    "# 2. Transpose (không thay dữ liệu, chỉ thay cách nhìn)\n",
    "X_T = X.t()\n",
    "print(\"X.T =\")\n",
    "print(X_T)\n",
    "print(\"Is X_T contiguous?\", X_T.is_contiguous())\n",
    "print(\"X_T shape:\", X_T.shape)\n",
    "print(\"X_T strides:\", X_T.stride())  # bước nhảy khác với X\n",
    "print(\"=\"*50)\n",
    "\n",
    "# 3. Làm cho X_T thành contiguous (copy lại dữ liệu theo chiều mới)\n",
    "X_T_contig = X_T.contiguous()\n",
    "print(\"X_T_contig =\")\n",
    "print(X_T_contig)\n",
    "print(\"Is X_T_contig contiguous?\", X_T_contig.is_contiguous())\n",
    "print(\"X_T_contig shape:\", X_T_contig.shape)\n",
    "print(\"X_T_contig strides:\", X_T_contig.stride())\n"
   ]
  }
 ],
 "metadata": {
  "kernelspec": {
   "display_name": "base",
   "language": "python",
   "name": "python3"
  },
  "language_info": {
   "codemirror_mode": {
    "name": "ipython",
    "version": 3
   },
   "file_extension": ".py",
   "mimetype": "text/x-python",
   "name": "python",
   "nbconvert_exporter": "python",
   "pygments_lexer": "ipython3",
   "version": "3.12.7"
  }
 },
 "nbformat": 4,
 "nbformat_minor": 2
}
