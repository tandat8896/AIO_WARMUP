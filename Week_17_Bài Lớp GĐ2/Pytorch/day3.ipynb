{
 "cells": [
  {
   "cell_type": "code",
   "execution_count": 1,
   "metadata": {},
   "outputs": [],
   "source": [
    "import torch"
   ]
  },
  {
   "cell_type": "code",
   "execution_count": 2,
   "metadata": {},
   "outputs": [],
   "source": [
    "x = torch.tensor(3.0, requires_grad=True)\n",
    "y = x**2 +3*x +1 \n",
    "y.backward()"
   ]
  },
  {
   "cell_type": "code",
   "execution_count": 3,
   "metadata": {},
   "outputs": [
    {
     "name": "stdout",
     "output_type": "stream",
     "text": [
      "tensor(9.)\n"
     ]
    }
   ],
   "source": [
    "print(x.grad)"
   ]
  },
  {
   "cell_type": "code",
   "execution_count": 4,
   "metadata": {},
   "outputs": [
    {
     "name": "stdout",
     "output_type": "stream",
     "text": [
      "dy/dx = tensor(19.0955)\n"
     ]
    }
   ],
   "source": [
    "x = torch.tensor(3.0, requires_grad=True)\n",
    "y = torch.sin(x) + torch.exp(x)\n",
    "y.backward()\n",
    "print(\"dy/dx =\", x.grad)  # ra khoảng 19.1"
   ]
  },
  {
   "cell_type": "code",
   "execution_count": 9,
   "metadata": {},
   "outputs": [
    {
     "name": "stdout",
     "output_type": "stream",
     "text": [
      "x.grad = 16.0\n",
      "y.grad = 52.0\n"
     ]
    }
   ],
   "source": [
    "x = torch.tensor(2.0 , requires_grad=True)\n",
    "y = torch.tensor(4.0 , requires_grad= True)\n",
    "z = x**2 * y + y**3\n",
    "z.backward()\n",
    "\n",
    "print(f\"x.grad = {x.grad}\")\n",
    "print(f\"y.grad = {y.grad}\")"
   ]
  },
  {
   "cell_type": "markdown",
   "metadata": {},
   "source": [
    "đạo hàm theo z theo x  thì 2xy\n",
    "đạo hàm z theo y =x**2 + 3y**2\n",
    "thay vào tính ra \n"
   ]
  },
  {
   "cell_type": "code",
   "execution_count": 10,
   "metadata": {},
   "outputs": [
    {
     "name": "stdout",
     "output_type": "stream",
     "text": [
      "df/dx = 1.6666667461395264\n",
      "df/dg = 0.3333333432674408\n",
      "dg/dx = 5.0\n",
      "df/dx (theo chain rule) = 1.6666667461395264\n"
     ]
    }
   ],
   "source": [
    "\n",
    "\n",
    "# Khởi tạo x với requires_grad=True để tự động tính gradient\n",
    "x = torch.tensor(1.0, requires_grad=True)\n",
    "\n",
    "# Tính g(x) = x^3 + 2x\n",
    "g = x**3 + 2*x\n",
    "\n",
    "# Tính f(g) = ln(g)\n",
    "f = torch.log(g)\n",
    "\n",
    "# Tính đạo hàm df/dx\n",
    "f.backward()\n",
    "\n",
    "print(\"df/dx =\", x.grad.item())\n",
    "\n",
    "# Tính đạo hàm riêng từng phần để kiểm tra chain rule\n",
    "# df/dg = 1/g\n",
    "df_dg = 1 / g.detach()\n",
    "# dg/dx = 3x^2 + 2\n",
    "dg_dx = 3 * x.detach()**2 + 2\n",
    "\n",
    "print(\"df/dg =\", df_dg.item())\n",
    "print(\"dg/dx =\", dg_dx.item())\n",
    "print(\"df/dx (theo chain rule) =\", (df_dg * dg_dx).item())\n",
    "\n"
   ]
  }
 ],
 "metadata": {
  "kernelspec": {
   "display_name": "base",
   "language": "python",
   "name": "python3"
  },
  "language_info": {
   "codemirror_mode": {
    "name": "ipython",
    "version": 3
   },
   "file_extension": ".py",
   "mimetype": "text/x-python",
   "name": "python",
   "nbconvert_exporter": "python",
   "pygments_lexer": "ipython3",
   "version": "3.12.7"
  }
 },
 "nbformat": 4,
 "nbformat_minor": 2
}
