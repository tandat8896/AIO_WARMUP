{
 "cells": [
  {
   "cell_type": "markdown",
   "metadata": {},
   "source": [
    "scaler $x$ , \n",
    "vector $\\mathbf{x}\\\n",
    "matrix\n",
    "tensor\n",
    "\n",
    "xác định số chiều đếm từ ngoài vào trong \n"
   ]
  },
  {
   "cell_type": "code",
   "execution_count": 2,
   "metadata": {},
   "outputs": [],
   "source": [
    "import numpy as np \n"
   ]
  },
  {
   "cell_type": "markdown",
   "metadata": {},
   "source": [
    "type casting --> ép kiểu "
   ]
  },
  {
   "cell_type": "code",
   "execution_count": 5,
   "metadata": {},
   "outputs": [
    {
     "data": {
      "text/plain": [
       "int"
      ]
     },
     "execution_count": 5,
     "metadata": {},
     "output_type": "execute_result"
    }
   ],
   "source": [
    "a = 2 \n",
    "type(a)"
   ]
  },
  {
   "cell_type": "code",
   "execution_count": 6,
   "metadata": {},
   "outputs": [
    {
     "data": {
      "text/plain": [
       "2"
      ]
     },
     "execution_count": 6,
     "metadata": {},
     "output_type": "execute_result"
    }
   ],
   "source": [
    "int(\"2\")"
   ]
  },
  {
   "cell_type": "markdown",
   "metadata": {},
   "source": [
    "torch value , dtype và device những torch kiểu object giống dictionary chứa rất nhiều thông tin \n",
    "muốn đổi type thì tensor.type(torch.float16)\n",
    "exponential - windown  , mantissa - offset\n",
    "8bit lưu trử thông tin của cái cửa sổ exponential từ 2-4[2, 2.2 , 2.4 , 2.6 , 2.8,3.0,3.2...4.0] offset vị trí thực sự của số đó là bao nhiêu vd sô 3.14 thì lưu ỡ vị trí 7 [3.2] \n",
    "\n",
    "exponential 1. * 2 còn bias là 2^   (số bit exponentail - 1)"
   ]
  },
  {
   "cell_type": "markdown",
   "metadata": {},
   "source": [
    "Uniform distribution Phân bố đều trên một khoảng (tất cả giá trị trong khoảng có xác suất như nhau)\n",
    "Normal distribution - Gaussian Distribution Phân bố theo dạng chuông, tập trung quanh giá trị trung bình\n",
    "sampling là lấy ngẫu nhiên ví dụ (100,100) là sampling 10.000 lần "
   ]
  },
  {
   "cell_type": "code",
   "execution_count": 5,
   "metadata": {},
   "outputs": [],
   "source": [
    "import torch\n",
    "import matplotlib.pyplot as plt "
   ]
  },
  {
   "cell_type": "code",
   "execution_count": 3,
   "metadata": {},
   "outputs": [
    {
     "name": "stdout",
     "output_type": "stream",
     "text": [
      "2.5.1\n"
     ]
    }
   ],
   "source": [
    "print(torch.__version__)"
   ]
  },
  {
   "cell_type": "code",
   "execution_count": 8,
   "metadata": {},
   "outputs": [],
   "source": [
    "x = torch.FloatTensor(2, 3).uniform_(-1, -1)"
   ]
  },
  {
   "cell_type": "code",
   "execution_count": 9,
   "metadata": {},
   "outputs": [
    {
     "name": "stdout",
     "output_type": "stream",
     "text": [
      "tensor([[-1., -1., -1.],\n",
      "        [-1., -1., -1.]])\n"
     ]
    }
   ],
   "source": [
    "print(x)"
   ]
  },
  {
   "cell_type": "code",
   "execution_count": 6,
   "metadata": {},
   "outputs": [],
   "source": [
    "A = torch.randn(2,3,4)"
   ]
  },
  {
   "cell_type": "code",
   "execution_count": 9,
   "metadata": {},
   "outputs": [
    {
     "data": {
      "text/plain": [
       "tensor([[[ 1.9466,  0.5201, -1.1046,  0.8111],\n",
       "         [-1.7989,  0.6046,  0.4935, -0.5972],\n",
       "         [-1.1408,  0.5975, -0.4469, -1.6607]],\n",
       "\n",
       "        [[ 2.0157,  1.1340,  0.9417,  0.8353],\n",
       "         [-0.8929, -0.2156, -0.3469, -0.8762],\n",
       "         [-0.9052, -0.1748, -0.6385, -1.5511]]])"
      ]
     },
     "execution_count": 9,
     "metadata": {},
     "output_type": "execute_result"
    }
   ],
   "source": [
    "A"
   ]
  },
  {
   "cell_type": "code",
   "execution_count": 7,
   "metadata": {},
   "outputs": [
    {
     "data": {
      "text/plain": [
       "tensor([[[ 1.9466],\n",
       "         [-1.7989]]])"
      ]
     },
     "execution_count": 7,
     "metadata": {},
     "output_type": "execute_result"
    }
   ],
   "source": [
    "A[:1,:2,:1]"
   ]
  },
  {
   "cell_type": "code",
   "execution_count": 8,
   "metadata": {},
   "outputs": [
    {
     "data": {
      "text/plain": [
       "tensor([[[ 1.9466,  0.5201, -1.1046,  0.8111],\n",
       "         [-1.7989,  0.6046,  0.4935, -0.5972],\n",
       "         [-1.1408,  0.5975, -0.4469, -1.6607]]])"
      ]
     },
     "execution_count": 8,
     "metadata": {},
     "output_type": "execute_result"
    }
   ],
   "source": [
    "A[:1][:2][:1]"
   ]
  },
  {
   "cell_type": "code",
   "execution_count": null,
   "metadata": {},
   "outputs": [],
   "source": []
  }
 ],
 "metadata": {
  "kernelspec": {
   "display_name": "base",
   "language": "python",
   "name": "python3"
  },
  "language_info": {
   "codemirror_mode": {
    "name": "ipython",
    "version": 3
   },
   "file_extension": ".py",
   "mimetype": "text/x-python",
   "name": "python",
   "nbconvert_exporter": "python",
   "pygments_lexer": "ipython3",
   "version": "3.12.7"
  }
 },
 "nbformat": 4,
 "nbformat_minor": 2
}
