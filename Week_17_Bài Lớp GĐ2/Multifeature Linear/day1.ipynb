{
 "cells": [
  {
   "cell_type": "code",
   "execution_count": 17,
   "metadata": {},
   "outputs": [],
   "source": [
    "import numpy as np \n",
    "import pandas as pd\n",
    "import matplotlib.pyplot as plt "
   ]
  },
  {
   "cell_type": "code",
   "execution_count": 2,
   "metadata": {},
   "outputs": [],
   "source": [
    "df = pd.read_csv('used_cars.csv')"
   ]
  },
  {
   "cell_type": "code",
   "execution_count": 4,
   "metadata": {},
   "outputs": [
    {
     "data": {
      "text/plain": [
       "Index(['brand', 'model', 'model_year', 'milage', 'fuel_type', 'engine',\n",
       "       'transmission', 'ext_col', 'int_col', 'accident', 'clean_title',\n",
       "       'price'],\n",
       "      dtype='object')"
      ]
     },
     "execution_count": 4,
     "metadata": {},
     "output_type": "execute_result"
    }
   ],
   "source": [
    "df.columns"
   ]
  },
  {
   "cell_type": "code",
   "execution_count": 9,
   "metadata": {},
   "outputs": [],
   "source": [
    "X=df[\"model_year\"]\n",
    "y=df[\"price\"]\n"
   ]
  },
  {
   "cell_type": "code",
   "execution_count": 15,
   "metadata": {},
   "outputs": [
    {
     "data": {
      "text/html": [
       "<div>\n",
       "<style scoped>\n",
       "    .dataframe tbody tr th:only-of-type {\n",
       "        vertical-align: middle;\n",
       "    }\n",
       "\n",
       "    .dataframe tbody tr th {\n",
       "        vertical-align: top;\n",
       "    }\n",
       "\n",
       "    .dataframe thead th {\n",
       "        text-align: right;\n",
       "    }\n",
       "</style>\n",
       "<table border=\"1\" class=\"dataframe\">\n",
       "  <thead>\n",
       "    <tr style=\"text-align: right;\">\n",
       "      <th></th>\n",
       "      <th>brand</th>\n",
       "      <th>model</th>\n",
       "      <th>model_year</th>\n",
       "      <th>milage</th>\n",
       "      <th>fuel_type</th>\n",
       "      <th>engine</th>\n",
       "      <th>transmission</th>\n",
       "      <th>ext_col</th>\n",
       "      <th>int_col</th>\n",
       "      <th>accident</th>\n",
       "      <th>clean_title</th>\n",
       "      <th>price</th>\n",
       "    </tr>\n",
       "  </thead>\n",
       "  <tbody>\n",
       "    <tr>\n",
       "      <th>0</th>\n",
       "      <td>Ford</td>\n",
       "      <td>Utility Police Interceptor Base</td>\n",
       "      <td>2013</td>\n",
       "      <td>51,000 mi.</td>\n",
       "      <td>E85 Flex Fuel</td>\n",
       "      <td>300.0HP 3.7L V6 Cylinder Engine Flex Fuel Capa...</td>\n",
       "      <td>6-Speed A/T</td>\n",
       "      <td>Black</td>\n",
       "      <td>Black</td>\n",
       "      <td>At least 1 accident or damage reported</td>\n",
       "      <td>Yes</td>\n",
       "      <td>$10,300</td>\n",
       "    </tr>\n",
       "    <tr>\n",
       "      <th>1</th>\n",
       "      <td>Hyundai</td>\n",
       "      <td>Palisade SEL</td>\n",
       "      <td>2021</td>\n",
       "      <td>34,742 mi.</td>\n",
       "      <td>Gasoline</td>\n",
       "      <td>3.8L V6 24V GDI DOHC</td>\n",
       "      <td>8-Speed Automatic</td>\n",
       "      <td>Moonlight Cloud</td>\n",
       "      <td>Gray</td>\n",
       "      <td>At least 1 accident or damage reported</td>\n",
       "      <td>Yes</td>\n",
       "      <td>$38,005</td>\n",
       "    </tr>\n",
       "    <tr>\n",
       "      <th>2</th>\n",
       "      <td>Lexus</td>\n",
       "      <td>RX 350 RX 350</td>\n",
       "      <td>2022</td>\n",
       "      <td>22,372 mi.</td>\n",
       "      <td>Gasoline</td>\n",
       "      <td>3.5 Liter DOHC</td>\n",
       "      <td>Automatic</td>\n",
       "      <td>Blue</td>\n",
       "      <td>Black</td>\n",
       "      <td>None reported</td>\n",
       "      <td>NaN</td>\n",
       "      <td>$54,598</td>\n",
       "    </tr>\n",
       "    <tr>\n",
       "      <th>3</th>\n",
       "      <td>INFINITI</td>\n",
       "      <td>Q50 Hybrid Sport</td>\n",
       "      <td>2015</td>\n",
       "      <td>88,900 mi.</td>\n",
       "      <td>Hybrid</td>\n",
       "      <td>354.0HP 3.5L V6 Cylinder Engine Gas/Electric H...</td>\n",
       "      <td>7-Speed A/T</td>\n",
       "      <td>Black</td>\n",
       "      <td>Black</td>\n",
       "      <td>None reported</td>\n",
       "      <td>Yes</td>\n",
       "      <td>$15,500</td>\n",
       "    </tr>\n",
       "    <tr>\n",
       "      <th>4</th>\n",
       "      <td>Audi</td>\n",
       "      <td>Q3 45 S line Premium Plus</td>\n",
       "      <td>2021</td>\n",
       "      <td>9,835 mi.</td>\n",
       "      <td>Gasoline</td>\n",
       "      <td>2.0L I4 16V GDI DOHC Turbo</td>\n",
       "      <td>8-Speed Automatic</td>\n",
       "      <td>Glacier White Metallic</td>\n",
       "      <td>Black</td>\n",
       "      <td>None reported</td>\n",
       "      <td>NaN</td>\n",
       "      <td>$34,999</td>\n",
       "    </tr>\n",
       "    <tr>\n",
       "      <th>...</th>\n",
       "      <td>...</td>\n",
       "      <td>...</td>\n",
       "      <td>...</td>\n",
       "      <td>...</td>\n",
       "      <td>...</td>\n",
       "      <td>...</td>\n",
       "      <td>...</td>\n",
       "      <td>...</td>\n",
       "      <td>...</td>\n",
       "      <td>...</td>\n",
       "      <td>...</td>\n",
       "      <td>...</td>\n",
       "    </tr>\n",
       "    <tr>\n",
       "      <th>4004</th>\n",
       "      <td>Bentley</td>\n",
       "      <td>Continental GT Speed</td>\n",
       "      <td>2023</td>\n",
       "      <td>714 mi.</td>\n",
       "      <td>Gasoline</td>\n",
       "      <td>6.0L W12 48V PDI DOHC Twin Turbo</td>\n",
       "      <td>8-Speed Automatic with Auto-Shift</td>\n",
       "      <td>C / C</td>\n",
       "      <td>Hotspur</td>\n",
       "      <td>None reported</td>\n",
       "      <td>Yes</td>\n",
       "      <td>$349,950</td>\n",
       "    </tr>\n",
       "    <tr>\n",
       "      <th>4005</th>\n",
       "      <td>Audi</td>\n",
       "      <td>S4 3.0T Premium Plus</td>\n",
       "      <td>2022</td>\n",
       "      <td>10,900 mi.</td>\n",
       "      <td>Gasoline</td>\n",
       "      <td>349.0HP 3.0L V6 Cylinder Engine Gasoline Fuel</td>\n",
       "      <td>Transmission w/Dual Shift Mode</td>\n",
       "      <td>Black</td>\n",
       "      <td>Black</td>\n",
       "      <td>None reported</td>\n",
       "      <td>Yes</td>\n",
       "      <td>$53,900</td>\n",
       "    </tr>\n",
       "    <tr>\n",
       "      <th>4006</th>\n",
       "      <td>Porsche</td>\n",
       "      <td>Taycan</td>\n",
       "      <td>2022</td>\n",
       "      <td>2,116 mi.</td>\n",
       "      <td>NaN</td>\n",
       "      <td>Electric</td>\n",
       "      <td>Automatic</td>\n",
       "      <td>Black</td>\n",
       "      <td>Black</td>\n",
       "      <td>None reported</td>\n",
       "      <td>NaN</td>\n",
       "      <td>$90,998</td>\n",
       "    </tr>\n",
       "    <tr>\n",
       "      <th>4007</th>\n",
       "      <td>Ford</td>\n",
       "      <td>F-150 Raptor</td>\n",
       "      <td>2020</td>\n",
       "      <td>33,000 mi.</td>\n",
       "      <td>Gasoline</td>\n",
       "      <td>450.0HP 3.5L V6 Cylinder Engine Gasoline Fuel</td>\n",
       "      <td>A/T</td>\n",
       "      <td>Blue</td>\n",
       "      <td>Black</td>\n",
       "      <td>None reported</td>\n",
       "      <td>Yes</td>\n",
       "      <td>$62,999</td>\n",
       "    </tr>\n",
       "    <tr>\n",
       "      <th>4008</th>\n",
       "      <td>BMW</td>\n",
       "      <td>X3 xDrive30i</td>\n",
       "      <td>2020</td>\n",
       "      <td>43,000 mi.</td>\n",
       "      <td>Gasoline</td>\n",
       "      <td>248.0HP 2.0L 4 Cylinder Engine Gasoline Fuel</td>\n",
       "      <td>A/T</td>\n",
       "      <td>Gray</td>\n",
       "      <td>Brown</td>\n",
       "      <td>At least 1 accident or damage reported</td>\n",
       "      <td>Yes</td>\n",
       "      <td>$40,000</td>\n",
       "    </tr>\n",
       "  </tbody>\n",
       "</table>\n",
       "<p>4009 rows × 12 columns</p>\n",
       "</div>"
      ],
      "text/plain": [
       "         brand                            model  model_year      milage  \\\n",
       "0         Ford  Utility Police Interceptor Base        2013  51,000 mi.   \n",
       "1      Hyundai                     Palisade SEL        2021  34,742 mi.   \n",
       "2        Lexus                    RX 350 RX 350        2022  22,372 mi.   \n",
       "3     INFINITI                 Q50 Hybrid Sport        2015  88,900 mi.   \n",
       "4         Audi        Q3 45 S line Premium Plus        2021   9,835 mi.   \n",
       "...        ...                              ...         ...         ...   \n",
       "4004   Bentley             Continental GT Speed        2023     714 mi.   \n",
       "4005      Audi             S4 3.0T Premium Plus        2022  10,900 mi.   \n",
       "4006   Porsche                           Taycan        2022   2,116 mi.   \n",
       "4007      Ford                     F-150 Raptor        2020  33,000 mi.   \n",
       "4008       BMW                     X3 xDrive30i        2020  43,000 mi.   \n",
       "\n",
       "          fuel_type                                             engine  \\\n",
       "0     E85 Flex Fuel  300.0HP 3.7L V6 Cylinder Engine Flex Fuel Capa...   \n",
       "1          Gasoline                               3.8L V6 24V GDI DOHC   \n",
       "2          Gasoline                                     3.5 Liter DOHC   \n",
       "3            Hybrid  354.0HP 3.5L V6 Cylinder Engine Gas/Electric H...   \n",
       "4          Gasoline                         2.0L I4 16V GDI DOHC Turbo   \n",
       "...             ...                                                ...   \n",
       "4004       Gasoline                   6.0L W12 48V PDI DOHC Twin Turbo   \n",
       "4005       Gasoline      349.0HP 3.0L V6 Cylinder Engine Gasoline Fuel   \n",
       "4006            NaN                                           Electric   \n",
       "4007       Gasoline      450.0HP 3.5L V6 Cylinder Engine Gasoline Fuel   \n",
       "4008       Gasoline       248.0HP 2.0L 4 Cylinder Engine Gasoline Fuel   \n",
       "\n",
       "                           transmission                 ext_col  int_col  \\\n",
       "0                           6-Speed A/T                   Black    Black   \n",
       "1                     8-Speed Automatic         Moonlight Cloud     Gray   \n",
       "2                             Automatic                    Blue    Black   \n",
       "3                           7-Speed A/T                   Black    Black   \n",
       "4                     8-Speed Automatic  Glacier White Metallic    Black   \n",
       "...                                 ...                     ...      ...   \n",
       "4004  8-Speed Automatic with Auto-Shift                   C / C  Hotspur   \n",
       "4005     Transmission w/Dual Shift Mode                   Black    Black   \n",
       "4006                          Automatic                   Black    Black   \n",
       "4007                                A/T                    Blue    Black   \n",
       "4008                                A/T                    Gray    Brown   \n",
       "\n",
       "                                    accident clean_title     price  \n",
       "0     At least 1 accident or damage reported         Yes   $10,300  \n",
       "1     At least 1 accident or damage reported         Yes   $38,005  \n",
       "2                              None reported         NaN   $54,598  \n",
       "3                              None reported         Yes   $15,500  \n",
       "4                              None reported         NaN   $34,999  \n",
       "...                                      ...         ...       ...  \n",
       "4004                           None reported         Yes  $349,950  \n",
       "4005                           None reported         Yes   $53,900  \n",
       "4006                           None reported         NaN   $90,998  \n",
       "4007                           None reported         Yes   $62,999  \n",
       "4008  At least 1 accident or damage reported         Yes   $40,000  \n",
       "\n",
       "[4009 rows x 12 columns]"
      ]
     },
     "execution_count": 15,
     "metadata": {},
     "output_type": "execute_result"
    }
   ],
   "source": [
    "df"
   ]
  },
  {
   "cell_type": "code",
   "execution_count": 12,
   "metadata": {},
   "outputs": [
    {
     "data": {
      "text/plain": [
       "0    2013\n",
       "1    2021\n",
       "2    2022\n",
       "3    2015\n",
       "4    2021\n",
       "Name: model_year, dtype: int64"
      ]
     },
     "execution_count": 12,
     "metadata": {},
     "output_type": "execute_result"
    }
   ],
   "source": [
    "X.head(5)"
   ]
  },
  {
   "cell_type": "code",
   "execution_count": 13,
   "metadata": {},
   "outputs": [],
   "source": [
    "y= y.str[1:]\n",
    "y= y.str.replace(\",\", \"\").astype(int)"
   ]
  },
  {
   "cell_type": "code",
   "execution_count": 16,
   "metadata": {},
   "outputs": [
    {
     "data": {
      "text/plain": [
       "0        10300\n",
       "1        38005\n",
       "2        54598\n",
       "3        15500\n",
       "4        34999\n",
       "         ...  \n",
       "4004    349950\n",
       "4005     53900\n",
       "4006     90998\n",
       "4007     62999\n",
       "4008     40000\n",
       "Name: price, Length: 4009, dtype: int32"
      ]
     },
     "execution_count": 16,
     "metadata": {},
     "output_type": "execute_result"
    }
   ],
   "source": [
    "y"
   ]
  },
  {
   "cell_type": "code",
   "execution_count": 18,
   "metadata": {},
   "outputs": [
    {
     "data": {
      "text/plain": [
       "<matplotlib.collections.PathCollection at 0x1965d6c8f80>"
      ]
     },
     "execution_count": 18,
     "metadata": {},
     "output_type": "execute_result"
    },
    {
     "data": {
      "image/png": "[encoded data removed]",
      "text/plain": [
       "<Figure size 640x480 with 1 Axes>"
      ]
     },
     "metadata": {},
     "output_type": "display_data"
    }
   ],
   "source": [
    "plt.scatter(X,y)"
   ]
  },
  {
   "cell_type": "code",
   "execution_count": 19,
   "metadata": {},
   "outputs": [],
   "source": [
    "TRAIN_RATIO = 0.8\n",
    "TEST_RATIO = 0.2"
   ]
  },
  {
   "cell_type": "code",
   "execution_count": 20,
   "metadata": {},
   "outputs": [],
   "source": [
    "X_Normalized = (X-X.min())/(X.max()-X.min())\n",
    "y_Normalized = (y-y.min())/(y.max()-y.min())"
   ]
  },
  {
   "cell_type": "code",
   "execution_count": 27,
   "metadata": {},
   "outputs": [],
   "source": [
    "X_train = X_Normalized[:int(TRAIN_RATIO * len(X_Normalized))]\n",
    "X_test = X_Normalized[int(TRAIN_RATIO * len(X_Normalized)):]\n",
    "y_train = y_Normalized[:int(TRAIN_RATIO * len(y_Normalized))]\n",
    "y_test = y_Normalized[int(TRAIN_RATIO * len(y_Normalized)):]"
   ]
  },
  {
   "cell_type": "code",
   "execution_count": 28,
   "metadata": {},
   "outputs": [
    {
     "data": {
      "text/plain": [
       "0       0.78\n",
       "1       0.94\n",
       "2       0.96\n",
       "3       0.82\n",
       "4       0.94\n",
       "        ... \n",
       "3202    0.62\n",
       "3203    0.92\n",
       "3204    0.92\n",
       "3205    0.92\n",
       "3206    0.92\n",
       "Name: model_year, Length: 3207, dtype: float64"
      ]
     },
     "execution_count": 28,
     "metadata": {},
     "output_type": "execute_result"
    }
   ],
   "source": [
    "X_train"
   ]
  },
  {
   "cell_type": "code",
   "execution_count": 29,
   "metadata": {},
   "outputs": [
    {
     "data": {
      "text/plain": [
       "3207    0.96\n",
       "3208    0.96\n",
       "3209    0.96\n",
       "3210    0.92\n",
       "3211    0.94\n",
       "        ... \n",
       "4004    0.98\n",
       "4005    0.96\n",
       "4006    0.96\n",
       "4007    0.92\n",
       "4008    0.92\n",
       "Name: model_year, Length: 802, dtype: float64"
      ]
     },
     "execution_count": 29,
     "metadata": {},
     "output_type": "execute_result"
    }
   ],
   "source": [
    "X_test"
   ]
  },
  {
   "cell_type": "code",
   "execution_count": 24,
   "metadata": {},
   "outputs": [
    {
     "data": {
      "text/plain": [
       "0       0.002812\n",
       "1       0.012196\n",
       "2       0.017817\n",
       "3       0.004573\n",
       "4       0.011178\n",
       "          ...   \n",
       "3202    0.001592\n",
       "3203    0.008706\n",
       "3204    0.013719\n",
       "3205    0.015074\n",
       "3206    0.013414\n",
       "Name: price, Length: 3207, dtype: float64"
      ]
     },
     "execution_count": 24,
     "metadata": {},
     "output_type": "execute_result"
    }
   ],
   "source": [
    "y_train"
   ]
  },
  {
   "cell_type": "code",
   "execution_count": 25,
   "metadata": {},
   "outputs": [
    {
     "data": {
      "text/plain": [
       "801     0.009146\n",
       "802     0.006775\n",
       "803     0.001693\n",
       "804     0.006090\n",
       "805     0.006433\n",
       "          ...   \n",
       "4004    0.117866\n",
       "4005    0.017581\n",
       "4006    0.030148\n",
       "4007    0.020663\n",
       "4008    0.012872\n",
       "Name: price, Length: 3208, dtype: float64"
      ]
     },
     "execution_count": 25,
     "metadata": {},
     "output_type": "execute_result"
    }
   ],
   "source": [
    "y_test"
   ]
  },
  {
   "cell_type": "code",
   "execution_count": 30,
   "metadata": {},
   "outputs": [],
   "source": [
    "train_examples = list(zip(X_train.values ,y_train.values))\n",
    "test_examples = list(zip(X_test.values , y_test.values))"
   ]
  },
  {
   "cell_type": "code",
   "execution_count": 32,
   "metadata": {},
   "outputs": [],
   "source": [
    "def phi(x):\n",
    "    return np.array([x,1])  #feature vector [0,0].T @ [x,1] dùng để * với w transpose \n",
    "\n",
    "\n",
    "def initialWeightVector():\n",
    "    return np.ones(2) #w = [0,0]\n",
    "\n",
    "def trainloss(w):\n",
    "    return (1.0 / len(train_examples)) * sum((w.dot(phi(x_i))-y_i)**2 for x_i , y_i in train_examples)\n",
    "\n",
    "def gradientTrainloss(w):\n",
    "    return (1.0 / len(train_examples)) * sum(2*(w.dot(phi(x_i))-y_i)* phi(x_i) for x_i , y_i in train_examples)\n",
    "\n",
    "def gradientDescent(L, gradientL , initialWeightVector,lr=0.01 , max_iters = 2000 , step =2):\n",
    "    w= initialWeightVector()\n",
    "    history = []\n",
    "    for i in range(max_iters):\n",
    "        value = L(w)\n",
    "        gradient = gradientL(w)\n",
    "        w_new = w- lr * gradient\n",
    "        history.append(value)\n",
    "        if i % step == 0:\n",
    "            grad_norm = np.linalg.norm(gradient)\n",
    "            print(f\"Epoch {i}: Weight Vector = {w} , Trainloss = {value:.6f},Gradient_norm = {grad_norm:.6f}\")\n",
    "        w = w_new\n",
    "    return w,history"
   ]
  },
  {
   "cell_type": "code",
   "execution_count": 33,
   "metadata": {},
   "outputs": [
    {
     "name": "stdout",
     "output_type": "stream",
     "text": [
      "Epoch 0: Weight Vector = [1. 1.] , Trainloss = 3.314159,Gradient_norm = 4.742534\n",
      "Epoch 100: Weight Vector = [0.74111773 0.69150598] , Trainloss = 1.679460,Gradient_norm = 3.375626\n",
      "Epoch 200: Weight Vector = [0.55682101 0.47195252] , Trainloss = 0.851279,Gradient_norm = 2.402692\n",
      "Epoch 300: Weight Vector = [0.4256126  0.31570485] , Trainloss = 0.431701,Gradient_norm = 1.710181\n",
      "Epoch 400: Weight Vector = [0.33219127 0.20451672] , Trainloss = 0.219131,Gradient_norm = 1.217267\n",
      "Epoch 500: Weight Vector = [0.26566597 0.12540089] , Trainloss = 0.111438,Gradient_norm = 0.866423\n",
      "Epoch 600: Weight Vector = [0.21828469 0.06911333] , Trainloss = 0.056877,Gradient_norm = 0.616701\n",
      "Epoch 700: Weight Vector = [0.18452973 0.02907436] , Trainloss = 0.029235,Gradient_norm = 0.438954\n",
      "Epoch 800: Weight Vector = [0.16047372 0.00060072] , Trainloss = 0.015231,Gradient_norm = 0.312439\n",
      "Epoch 900: Weight Vector = [ 0.14332126 -0.01964104] , Trainloss = 0.008136,Gradient_norm = 0.222389\n",
      "Epoch 1000: Weight Vector = [ 0.13108263 -0.03402358] , Trainloss = 0.004542,Gradient_norm = 0.158294\n",
      "Epoch 1100: Weight Vector = [ 0.1223416 -0.0442357] , Trainloss = 0.002720,Gradient_norm = 0.112674\n",
      "Epoch 1200: Weight Vector = [ 0.11609014 -0.05147946] , Trainloss = 0.001798,Gradient_norm = 0.080204\n",
      "Epoch 1300: Weight Vector = [ 0.11161075 -0.05661046] , Trainloss = 0.001330,Gradient_norm = 0.057096\n",
      "Epoch 1400: Weight Vector = [ 0.10839273 -0.06023768] , Trainloss = 0.001093,Gradient_norm = 0.040650\n",
      "Epoch 1500: Weight Vector = [ 0.10607258 -0.06279459] , Trainloss = 0.000973,Gradient_norm = 0.028949\n",
      "Epoch 1600: Weight Vector = [ 0.10439155 -0.06458973] , Trainloss = 0.000912,Gradient_norm = 0.020627\n",
      "Epoch 1700: Weight Vector = [ 0.1031655 -0.0658427] , Trainloss = 0.000881,Gradient_norm = 0.014712\n",
      "Epoch 1800: Weight Vector = [ 0.10226334 -0.0667098 ] , Trainloss = 0.000865,Gradient_norm = 0.010514\n",
      "Epoch 1900: Weight Vector = [ 0.10159176 -0.0673023 ] , Trainloss = 0.000857,Gradient_norm = 0.007542\n"
     ]
    }
   ],
   "source": [
    "w,history = gradientDescent(trainloss,gradientTrainloss,initialWeightVector, lr=0.001 , max_iters= 2000,step=100)"
   ]
  },
  {
   "cell_type": "code",
   "execution_count": 38,
   "metadata": {},
   "outputs": [
    {
     "data": {
      "image/png": "[encoded data removed]",
      "text/plain": [
       "<Figure size 640x480 with 1 Axes>"
      ]
     },
     "metadata": {},
     "output_type": "display_data"
    }
   ],
   "source": [
    "plt.scatter(X_test,y_test, color = 'blue',label= 'Data points',alpha=   0.5)\n",
    "y_predict = w[0] * X_test +w[1]\n",
    "plt.plot(X_test,y_predict,color= 'red',label =f'Fitted line:y={w[0]:.2f}x + {w[1]:.2f}')\n",
    "plt.xlabel('X')\n",
    "plt.ylabel('y')\n",
    "plt.legend()\n",
    "plt.grid(True)\n",
    "plt.show()         "
   ]
  },
  {
   "cell_type": "code",
   "execution_count": 39,
   "metadata": {},
   "outputs": [
    {
     "data": {
      "image/png": "[encoded data removed]",
      "text/plain": [
       "<Figure size 640x480 with 1 Axes>"
      ]
     },
     "metadata": {},
     "output_type": "display_data"
    }
   ],
   "source": [
    "plt.plot(history,color='green')\n",
    "plt.xlabel('Iteration')\n",
    "plt.ylabel('Train Loss')\n",
    "plt.title('Training Loss Over Iterations')\n",
    "plt.grid(True)\n",
    "plt.show()"
   ]
  },
  {
   "cell_type": "code",
   "execution_count": null,
   "metadata": {},
   "outputs": [],
   "source": []
  }
 ],
 "metadata": {
  "kernelspec": {
   "display_name": "base",
   "language": "python",
   "name": "python3"
  },
  "language_info": {
   "codemirror_mode": {
    "name": "ipython",
    "version": 3
   },
   "file_extension": ".py",
   "mimetype": "text/x-python",
   "name": "python",
   "nbconvert_exporter": "python",
   "pygments_lexer": "ipython3",
   "version": "3.12.7"
  }
 },
 "nbformat": 4,
 "nbformat_minor": 2
}
