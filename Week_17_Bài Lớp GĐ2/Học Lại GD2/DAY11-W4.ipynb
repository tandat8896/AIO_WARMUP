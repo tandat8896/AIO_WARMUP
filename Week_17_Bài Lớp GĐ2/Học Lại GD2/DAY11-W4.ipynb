{
 "cells": [
  {
   "cell_type": "code",
   "execution_count": 2,
   "metadata": {},
   "outputs": [],
   "source": [
    "nums = [1,2,3,1]"
   ]
  },
  {
   "cell_type": "code",
   "execution_count": 3,
   "metadata": {},
   "outputs": [
    {
     "data": {
      "text/plain": [
       "[1, 2, 3, 1]"
      ]
     },
     "execution_count": 3,
     "metadata": {},
     "output_type": "execute_result"
    }
   ],
   "source": [
    "nums"
   ]
  },
  {
   "cell_type": "code",
   "execution_count": 4,
   "metadata": {},
   "outputs": [],
   "source": [
    "def containsDuplicate(nums):\n",
    "    count_dict = {}\n",
    "    for num in nums:\n",
    "        if num in count_dict:\n",
    "            return True\n",
    "        count_dict[num]=1\n",
    "    return False"
   ]
  },
  {
   "cell_type": "code",
   "execution_count": 6,
   "metadata": {},
   "outputs": [],
   "source": [
    "# Cách 2: List + set\n",
    "def containsDuplicate2(nums):\n",
    "    return len(nums) != len(set(nums))  # So sánh độ dài của mảng với độ dài của tập hợp\n"
   ]
  },
  {
   "cell_type": "code",
   "execution_count": 7,
   "metadata": {},
   "outputs": [
    {
     "data": {
      "text/plain": [
       "True"
      ]
     },
     "execution_count": 7,
     "metadata": {},
     "output_type": "execute_result"
    }
   ],
   "source": [
    "containsDuplicate(nums)"
   ]
  },
  {
   "cell_type": "code",
   "execution_count": 8,
   "metadata": {},
   "outputs": [
    {
     "data": {
      "text/plain": [
       "True"
      ]
     },
     "execution_count": 8,
     "metadata": {},
     "output_type": "execute_result"
    }
   ],
   "source": [
    "containsDuplicate2(nums)"
   ]
  },
  {
   "cell_type": "code",
   "execution_count": 9,
   "metadata": {},
   "outputs": [
    {
     "data": {
      "text/plain": [
       "['eats', 'tea', 'tan', 'ate', 'nat', 'hat']"
      ]
     },
     "execution_count": 9,
     "metadata": {},
     "output_type": "execute_result"
    }
   ],
   "source": [
    "strs = [\"eats\",\"tea\",\"tan\",\"ate\",\"nat\",\"hat\"]\n",
    "strs"
   ]
  },
  {
   "cell_type": "code",
   "execution_count": 13,
   "metadata": {},
   "outputs": [
    {
     "data": {
      "text/plain": [
       "[['eats'], ['tea', 'ate'], ['tan', 'nat'], ['hat']]"
      ]
     },
     "execution_count": 13,
     "metadata": {},
     "output_type": "execute_result"
    }
   ],
   "source": [
    "def groupAnagrams(strs):\n",
    "    anagram_dict = {}  # Khởi tạo từ điển để nhóm anagram\n",
    "    for s in strs:\n",
    "        sorted_str = ''.join(sorted(s))  # Sắp xếp chuỗi để tạo dấu ấn\n",
    "        if sorted_str not in anagram_dict:\n",
    "            anagram_dict[sorted_str] = []  # Nếu chưa có nhóm, tạo nhóm mới\n",
    "        anagram_dict[sorted_str].append(s)  # Thêm chuỗi vào nhóm tương ứng\n",
    "    \n",
    "    return list(anagram_dict.values())  # Trả về tất cả các nhóm anagram\n",
    "groupAnagrams(strs)"
   ]
  },
  {
   "cell_type": "code",
   "execution_count": 11,
   "metadata": {},
   "outputs": [
    {
     "name": "stdout",
     "output_type": "stream",
     "text": [
      "[['eats'], ['tea', 'ate'], ['tan', 'nat'], ['hat']]\n"
     ]
    }
   ],
   "source": [
    "from collections import defaultdict\n",
    "import numpy as np\n",
    "\n",
    "def groupAnagrams(strs):\n",
    "    anagram_dict = defaultdict(list)  # Dùng defaultdict để tự động khởi tạo danh sách\n",
    "    strs_array = np.array(strs)\n",
    "    sorted_strs = [''.join(np.sort(list(s))) for s in strs_array]\n",
    "\n",
    "    # Nhóm các chuỗi theo dấu ấn đã sắp xếp\n",
    "    for i, sorted_str in enumerate(sorted_strs):\n",
    "        anagram_dict[sorted_str].append(strs[i])\n",
    "\n",
    "    return list(anagram_dict.values())\n",
    "\n",
    "# Kết quả nhóm anagram\n",
    "result = groupAnagrams([\"eats\", \"tea\", \"tan\", \"ate\", \"nat\", \"hat\"])\n",
    "print(result)\n"
   ]
  },
  {
   "cell_type": "code",
   "execution_count": 14,
   "metadata": {},
   "outputs": [],
   "source": [
    "def twoSum(nums, target):\n",
    "    num_dict = {}  # Tạo từ điển lưu số đã duyệt và chỉ số của nó\n",
    "    for i, num in enumerate(nums):\n",
    "        complement = target - num\n",
    "        if complement in num_dict:\n",
    "            return [num_dict[complement], i]  # Trả về chỉ số của 2 số\n",
    "        num_dict[num] = i  # Nếu chưa có thì lưu lại số hiện tại vào từ điển\n",
    "    return []  # Nếu không tìm thấy (theo đề thường thì luôn có kết quả)\n"
   ]
  },
  {
   "cell_type": "code",
   "execution_count": 17,
   "metadata": {},
   "outputs": [
    {
     "data": {
      "text/plain": [
       "[0, 1]"
      ]
     },
     "execution_count": 17,
     "metadata": {},
     "output_type": "execute_result"
    }
   ],
   "source": [
    "nums = [2, 7, 11, 15]\n",
    "target = 9\n",
    "twoSum(nums, target)\n"
   ]
  }
 ],
 "metadata": {
  "kernelspec": {
   "display_name": "base",
   "language": "python",
   "name": "python3"
  },
  "language_info": {
   "codemirror_mode": {
    "name": "ipython",
    "version": 3
   },
   "file_extension": ".py",
   "mimetype": "text/x-python",
   "name": "python",
   "nbconvert_exporter": "python",
   "pygments_lexer": "ipython3",
   "version": "3.12.3"
  }
 },
 "nbformat": 4,
 "nbformat_minor": 2
}
