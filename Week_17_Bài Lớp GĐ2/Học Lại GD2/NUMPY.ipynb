{
 "cells": [
  {
   "cell_type": "code",
   "execution_count": 1,
   "metadata": {},
   "outputs": [],
   "source": [
    "import numpy as np\n",
    "import pandas as pd\n"
   ]
  },
  {
   "cell_type": "code",
   "execution_count": 7,
   "metadata": {},
   "outputs": [
    {
     "data": {
      "text/plain": [
       "[2, 3, 5, 7, 7]"
      ]
     },
     "execution_count": 7,
     "metadata": {},
     "output_type": "execute_result"
    }
   ],
   "source": [
    "data = np.array([2,3,5,7,7])\n",
    "data\n"
   ]
  },
  {
   "cell_type": "markdown",
   "metadata": {},
   "source": [
    "list dynamic"
   ]
  },
  {
   "cell_type": "code",
   "execution_count": 21,
   "metadata": {},
   "outputs": [
    {
     "data": {
      "text/plain": [
       "array([0.  , 0.25, 0.5 , 0.75, 1.  ])"
      ]
     },
     "execution_count": 21,
     "metadata": {},
     "output_type": "execute_result"
    }
   ],
   "source": [
    "array2 = np.zeros((2,3))\n",
    "array3 = np.ones((2,3))\n",
    "\n",
    "array4 = np.full((2, 3), fill_value=7)  # Tạo mảng có kích thước (7,2,3) với giá trị 0\n",
    "array4\n",
    "array5=np.linspace(0,1,5)\n",
    "array5"
   ]
  },
  {
   "cell_type": "code",
   "execution_count": 23,
   "metadata": {},
   "outputs": [
    {
     "name": "stdout",
     "output_type": "stream",
     "text": [
      "[0 2 4 6 8]\n"
     ]
    }
   ],
   "source": [
    "array6 = np.arange(0, 10, 2)  # Dùng np.arange thay vì np.range\n",
    "print(array6)\n"
   ]
  },
  {
   "cell_type": "code",
   "execution_count": 1,
   "metadata": {},
   "outputs": [
    {
     "name": "stdout",
     "output_type": "stream",
     "text": [
      "10.000000000000002\n"
     ]
    }
   ],
   "source": [
    "import numpy as np\n",
    "A = np.array([[3, 2], [1, 4]])  # Đúng cú pháp\n",
    "det_A = np.linalg.det(A)  # Tính định thức\n",
    "print(det_A)\n"
   ]
  },
  {
   "cell_type": "code",
   "execution_count": 3,
   "metadata": {},
   "outputs": [
    {
     "name": "stdout",
     "output_type": "stream",
     "text": [
      "[[ 0.4 -0.2]\n",
      " [-0.1  0.3]]\n"
     ]
    }
   ],
   "source": [
    "A_inv = np.linalg.inv(A)\n",
    "print(A_inv)\n"
   ]
  },
  {
   "cell_type": "code",
   "execution_count": 4,
   "metadata": {},
   "outputs": [
    {
     "name": "stdout",
     "output_type": "stream",
     "text": [
      "[2.2 3.6]\n"
     ]
    }
   ],
   "source": [
    "A = np.array([[2, 1], [1, 3]])\n",
    "b = np.array([8, 13])\n",
    "x = np.linalg.solve(A, b)\n",
    "print(x)  # Kết quả: [3. 4.]\n"
   ]
  },
  {
   "cell_type": "code",
   "execution_count": 5,
   "metadata": {},
   "outputs": [
    {
     "name": "stdout",
     "output_type": "stream",
     "text": [
      "5.0\n"
     ]
    }
   ],
   "source": [
    "v = np.array([3, 4])\n",
    "norm_v = np.linalg.norm(v)\n",
    "print(norm_v)  # Kết quả: 5.0 (Vì 3-4-5 là tam giác vuông)\n"
   ]
  },
  {
   "cell_type": "code",
   "execution_count": 7,
   "metadata": {},
   "outputs": [
    {
     "data": {
      "text/plain": [
       "array([[5.39845192e+242, 5.98129679e-154, 3.44210253e+175],\n",
       "       [1.15938461e-012, 1.13901975e-094, 8.65022201e-013]])"
      ]
     },
     "execution_count": 7,
     "metadata": {},
     "output_type": "execute_result"
    }
   ],
   "source": [
    "i=np.empty((2,3))\n",
    "i"
   ]
  },
  {
   "cell_type": "code",
   "execution_count": 37,
   "metadata": {},
   "outputs": [
    {
     "data": {
      "text/plain": [
       "array([[1., 0., 0.],\n",
       "       [0., 1., 0.],\n",
       "       [0., 0., 1.]])"
      ]
     },
     "execution_count": 37,
     "metadata": {},
     "output_type": "execute_result"
    }
   ],
   "source": [
    "h= np.eye(3)\n",
    "h"
   ]
  },
  {
   "cell_type": "code",
   "execution_count": 12,
   "metadata": {},
   "outputs": [
    {
     "name": "stdout",
     "output_type": "stream",
     "text": [
      "<class 'str'> <class 'float'> <class 'NoneType'> <class 'float'> <class 'bool'> "
     ]
    }
   ],
   "source": [
    "arr = np.array([\"hello\",1.0,None,5.0,True])\n",
    "for x in arr:\n",
    "    print(type(x),end=\" \")"
   ]
  },
  {
   "cell_type": "code",
   "execution_count": 13,
   "metadata": {},
   "outputs": [
    {
     "name": "stdout",
     "output_type": "stream",
     "text": [
      "<class 'numpy.float64'> <class 'numpy.float64'> <class 'numpy.float64'> <class 'numpy.float64'> <class 'numpy.float64'> "
     ]
    }
   ],
   "source": [
    "arr = np.array([3,1.0,2,5.0,4])\n",
    "for x in arr:\n",
    "    print(type(x),end=\" \")"
   ]
  },
  {
   "cell_type": "markdown",
   "metadata": {},
   "source": [
    "dictionary là một kiểu object \n",
    "float 8 - 32- 64 để tránh ý nghĩa của số thập phân có ý nghĩa \n"
   ]
  },
  {
   "cell_type": "code",
   "execution_count": 15,
   "metadata": {},
   "outputs": [
    {
     "data": {
      "text/plain": [
       "array([3, 1, 2, 5, 4, 9, 9])"
      ]
     },
     "execution_count": 15,
     "metadata": {},
     "output_type": "execute_result"
    }
   ],
   "source": [
    "arr = np.array([3,1,2,5,4])\n",
    "#adding elenemtn \n",
    "arr_add = np.append(arr, [9,9])\n",
    "arr_add"
   ]
  },
  {
   "cell_type": "code",
   "execution_count": 16,
   "metadata": {},
   "outputs": [
    {
     "data": {
      "text/plain": [
       "array([3, 1, 5, 4])"
      ]
     },
     "execution_count": 16,
     "metadata": {},
     "output_type": "execute_result"
    }
   ],
   "source": [
    "arr_del=np.delete(arr,2)\n",
    "arr_del"
   ]
  },
  {
   "cell_type": "code",
   "execution_count": 17,
   "metadata": {},
   "outputs": [
    {
     "data": {
      "text/plain": [
       "array([1, 2, 3, 4, 5])"
      ]
     },
     "execution_count": 17,
     "metadata": {},
     "output_type": "execute_result"
    }
   ],
   "source": [
    "arr_sort = np.sort(arr)\n",
    "arr_sort"
   ]
  },
  {
   "cell_type": "code",
   "execution_count": 18,
   "metadata": {},
   "outputs": [
    {
     "data": {
      "text/plain": [
       "array([1, 2, 0, 4, 3], dtype=int64)"
      ]
     },
     "execution_count": 18,
     "metadata": {},
     "output_type": "execute_result"
    }
   ],
   "source": [
    "# trả về danh sách index dựa vào ds này để sắp xếp mãng \n",
    "arr_argsort = np.argsort(arr)\n",
    "arr_argsort"
   ]
  },
  {
   "cell_type": "code",
   "execution_count": 19,
   "metadata": {},
   "outputs": [
    {
     "data": {
      "text/plain": [
       "array([[2, 4],\n",
       "       [1, 3]])"
      ]
     },
     "execution_count": 19,
     "metadata": {},
     "output_type": "execute_result"
    }
   ],
   "source": [
    "arr2d = np.array([[4,2],[3,1]])\n",
    "arr2d_sort = np.sort(arr2d)\n",
    "arr2d_sort"
   ]
  },
  {
   "cell_type": "code",
   "execution_count": 20,
   "metadata": {},
   "outputs": [
    {
     "data": {
      "text/plain": [
       "array([[3, 1],\n",
       "       [4, 2]])"
      ]
     },
     "execution_count": 20,
     "metadata": {},
     "output_type": "execute_result"
    }
   ],
   "source": [
    "arr2d_sort_dim0 = np.sort(arr2d,axis=0) #argument chiều axis = 0 \n",
    "arr2d_sort_dim0"
   ]
  },
  {
   "cell_type": "code",
   "execution_count": 21,
   "metadata": {},
   "outputs": [
    {
     "data": {
      "text/plain": [
       "array([1, 3], dtype=int64)"
      ]
     },
     "execution_count": 21,
     "metadata": {},
     "output_type": "execute_result"
    }
   ],
   "source": [
    "sorted_arr = np.array([1,3,5,7,9])\n",
    "values = [2,6]\n",
    "indices = np.searchsorted(sorted_arr,values)\n",
    "indices"
   ]
  },
  {
   "cell_type": "code",
   "execution_count": 23,
   "metadata": {},
   "outputs": [
    {
     "data": {
      "text/plain": [
       "array([1, 2, 3, 5, 6, 7, 9])"
      ]
     },
     "execution_count": 23,
     "metadata": {},
     "output_type": "execute_result"
    }
   ],
   "source": [
    "np.insert(sorted_arr,indices,values)"
   ]
  },
  {
   "cell_type": "code",
   "execution_count": 24,
   "metadata": {},
   "outputs": [
    {
     "name": "stdout",
     "output_type": "stream",
     "text": [
      "[1 0 3 2]\n"
     ]
    }
   ],
   "source": [
    "#lexsort\n",
    "#trả về index cái thứ 2 tuân theo cái đầu tiên \n",
    "names =np.array(['bob','alice','charlie','bob'])\n",
    "ages = np.array([25,30,35,26])\n",
    "lex_indices = np.lexsort((ages,names))\n",
    "print(lex_indices)"
   ]
  },
  {
   "cell_type": "code",
   "execution_count": 25,
   "metadata": {},
   "outputs": [
    {
     "name": "stdout",
     "output_type": "stream",
     "text": [
      "lexsor result: ['alice' 'bob' 'bob' 'charlie']\n"
     ]
    },
    {
     "data": {
      "text/plain": [
       "array([30, 25, 26, 35])"
      ]
     },
     "execution_count": 25,
     "metadata": {},
     "output_type": "execute_result"
    }
   ],
   "source": [
    "print(\"lexsor result:\",(names[lex_indices]))\n",
    "ages[lex_indices]"
   ]
  },
  {
   "cell_type": "code",
   "execution_count": 36,
   "metadata": {},
   "outputs": [
    {
     "name": "stdout",
     "output_type": "stream",
     "text": [
      "[44, 33, 55, 11, 22]\n"
     ]
    }
   ],
   "source": [
    "ds = [11, 22, 33, 44, 55]\n",
    "indices = [3, 2, 4, 0, 1]\n",
    "\n",
    "# Sử dụng list comprehension để duyệt qua các chỉ số trong indices\n",
    "print([ds[i] for i in indices])\n"
   ]
  },
  {
   "cell_type": "code",
   "execution_count": 35,
   "metadata": {},
   "outputs": [
    {
     "name": "stdout",
     "output_type": "stream",
     "text": [
      "[44 33 55 11 22]\n"
     ]
    }
   ],
   "source": [
    "import numpy as np\n",
    "\n",
    "ds = np.array([11, 22, 33, 44, 55])\n",
    "indices = [3, 2, 4, 0, 1]\n",
    "print(ds[indices])\n"
   ]
  },
  {
   "cell_type": "markdown",
   "metadata": {},
   "source": [
    "latex $x$ viết công thức toán học  ký hiệu của scalar\n",
    "1vector sẽ chứa nhiều scalar\n",
    "$\\mathbf{x}$\n",
    "1D(x,)\n",
    "2D(x,y)\n",
    "3D(c,x,y) đếm ngoặc vuông xác định số chiều \n",
    "X,y X đại diện cho ma trix y đại diện cho vector\n",
    "$\\mathcal{x}$ 3D trong latex"
   ]
  },
  {
   "cell_type": "code",
   "execution_count": 38,
   "metadata": {},
   "outputs": [
    {
     "data": {
      "text/plain": [
       "array([3, 1, 2, 5, 4])"
      ]
     },
     "execution_count": 38,
     "metadata": {},
     "output_type": "execute_result"
    }
   ],
   "source": [
    "arr"
   ]
  },
  {
   "cell_type": "code",
   "execution_count": 43,
   "metadata": {},
   "outputs": [
    {
     "name": "stdout",
     "output_type": "stream",
     "text": [
      "2\n",
      "(2, 2)\n",
      "4\n"
     ]
    }
   ],
   "source": [
    "print(arr2d.ndim)\n",
    "print(arr2d.shape)\n",
    "print(arr2d.size)"
   ]
  },
  {
   "cell_type": "code",
   "execution_count": 44,
   "metadata": {},
   "outputs": [
    {
     "name": "stdout",
     "output_type": "stream",
     "text": [
      "Scalar:\n",
      "Shape: ()\n",
      "ndim: 0\n",
      "Size: 1\n",
      "\n",
      "1D Vector:\n",
      "Shape: (3,)\n",
      "ndim: 1\n",
      "Size: 3\n",
      "\n",
      "2D Matrix:\n",
      "Shape: (3, 2)\n",
      "ndim: 2\n",
      "Size: 6\n"
     ]
    }
   ],
   "source": [
    "import numpy as np\n",
    "\n",
    "# 1. Scalar (số vô hướng)\n",
    "scalar = np.array(5)\n",
    "print(\"Scalar:\")\n",
    "print(\"Shape:\", scalar.shape)\n",
    "print(\"ndim:\", scalar.ndim)\n",
    "print(\"Size:\", scalar.size)\n",
    "print()\n",
    "\n",
    "# 2. 1D Vector\n",
    "vector_1d = np.array([1, 2, 3])\n",
    "print(\"1D Vector:\")\n",
    "print(\"Shape:\", vector_1d.shape)\n",
    "print(\"ndim:\", vector_1d.ndim)\n",
    "print(\"Size:\", vector_1d.size)\n",
    "print()\n",
    "\n",
    "# 3. 2D Matrix\n",
    "matrix_2d = np.array([[1, 2], [3, 4], [5, 6]])\n",
    "print(\"2D Matrix:\")\n",
    "print(\"Shape:\", matrix_2d.shape)\n",
    "print(\"ndim:\", matrix_2d.ndim)\n",
    "print(\"Size:\", matrix_2d.size)\n"
   ]
  },
  {
   "cell_type": "code",
   "execution_count": 49,
   "metadata": {},
   "outputs": [
    {
     "data": {
      "text/plain": [
       "(3,)"
      ]
     },
     "execution_count": 49,
     "metadata": {},
     "output_type": "execute_result"
    }
   ],
   "source": [
    "vector_1d.shape"
   ]
  },
  {
   "cell_type": "code",
   "execution_count": 59,
   "metadata": {},
   "outputs": [
    {
     "name": "stdout",
     "output_type": "stream",
     "text": [
      "Shape của mảng 1D: (6,)\n",
      "Shape của mảng 2D: (2, 3)\n",
      "Reshape 1D thành 2D (2x3):\n",
      "[[1 2 3]\n",
      " [4 5 6]]\n"
     ]
    },
    {
     "data": {
      "text/plain": [
       "array([1, 2, 3])"
      ]
     },
     "execution_count": 59,
     "metadata": {},
     "output_type": "execute_result"
    }
   ],
   "source": [
    "#length mới và length sau = nhau \n",
    "# Mảng 1D\n",
    "arr_1d = np.array([1, 2, 3, 4, 5, 6])\n",
    "\n",
    "# In shape của mảng 1D\n",
    "print(\"Shape của mảng 1D:\", arr_1d.shape)\n",
    "\n",
    "# Reshape thành 2D (2x3)\n",
    "arr_2d = arr_1d.reshape(2, 3)\n",
    "\n",
    "# In shape của mảng 2D\n",
    "print(\"Shape của mảng 2D:\", arr_2d.shape)\n",
    "\n",
    "# In kết quả\n",
    "print(\"Reshape 1D thành 2D (2x3):\")\n",
    "print(arr_2d)\n",
    "arr_2d[0]\n"
   ]
  },
  {
   "cell_type": "code",
   "execution_count": 60,
   "metadata": {},
   "outputs": [
    {
     "name": "stdout",
     "output_type": "stream",
     "text": [
      "Shape của mảng 2D: (2, 3)\n",
      "Shape của mảng 3D: (2, 3, 1)\n",
      "Reshape 2D thành 3D (2x3x1):\n",
      "[[[1]\n",
      "  [2]\n",
      "  [3]]\n",
      "\n",
      " [[4]\n",
      "  [5]\n",
      "  [6]]]\n"
     ]
    }
   ],
   "source": [
    "\n",
    "\n",
    "# Mảng 2D\n",
    "arr_2d = np.array([[1, 2, 3], [4, 5, 6]])\n",
    "\n",
    "# In shape của mảng 2D\n",
    "print(\"Shape của mảng 2D:\", arr_2d.shape)\n",
    "\n",
    "# Reshape thành 3D (2x3x1)\n",
    "arr_3d = arr_2d.reshape(2, 3, 1)\n",
    "\n",
    "# In shape của mảng 3D\n",
    "print(\"Shape của mảng 3D:\", arr_3d.shape)\n",
    "\n",
    "# In kết quả\n",
    "print(\"Reshape 2D thành 3D (2x3x1):\")\n",
    "print(arr_3d)\n"
   ]
  },
  {
   "cell_type": "code",
   "execution_count": 64,
   "metadata": {},
   "outputs": [
    {
     "name": "stdout",
     "output_type": "stream",
     "text": [
      "[[4 3]\n",
      " [2 1]]\n"
     ]
    }
   ],
   "source": [
    "X = np.array ([[4,2],\n",
    "               [3,1]])\n",
    "X_tranpose = X.T\n",
    "#X_tranpose = np.transpose(X)\n",
    "print(X_tranpose)\n"
   ]
  },
  {
   "cell_type": "code",
   "execution_count": 66,
   "metadata": {},
   "outputs": [
    {
     "data": {
      "text/plain": [
       "array([[4, 3],\n",
       "       [2, 1]])"
      ]
     },
     "execution_count": 66,
     "metadata": {},
     "output_type": "execute_result"
    }
   ],
   "source": [
    "X1 = np.array ([[4,2],\n",
    "               [3,1]])\n",
    "X1_tranpose = X1.T\n",
    "X1_tranpose"
   ]
  },
  {
   "cell_type": "code",
   "execution_count": 68,
   "metadata": {},
   "outputs": [
    {
     "data": {
      "text/plain": [
       "array([[1, 3],\n",
       "       [2, 4]])"
      ]
     },
     "execution_count": 68,
     "metadata": {},
     "output_type": "execute_result"
    }
   ],
   "source": [
    "X_flip= np.flip(X)\n",
    "X_flip"
   ]
  },
  {
   "cell_type": "code",
   "execution_count": 71,
   "metadata": {},
   "outputs": [
    {
     "name": "stdout",
     "output_type": "stream",
     "text": [
      "[4 2 3 1]\n"
     ]
    }
   ],
   "source": [
    "X_flatten=X.flatten()\n",
    "print(X_flatten)"
   ]
  },
  {
   "cell_type": "markdown",
   "metadata": {},
   "source": [
    "1 số là idexing data [0] \n",
    "2 số là slicing data [2:1]"
   ]
  },
  {
   "cell_type": "code",
   "execution_count": 72,
   "metadata": {},
   "outputs": [
    {
     "name": "stdout",
     "output_type": "stream",
     "text": [
      "Mảng 3D ban đầu:\n",
      "[[[10 20 30]\n",
      "  [40 50 60]\n",
      "  [70 80 90]]\n",
      "\n",
      " [[15 25 35]\n",
      "  [45 55 65]\n",
      "  [75 85 95]]\n",
      "\n",
      " [[18 28 38]\n",
      "  [48 58 68]\n",
      "  [78 88 98]]]\n",
      "\n",
      "Phần tử lớn hơn 50:\n",
      "[60 70 80 90 55 65 75 85 95 58 68 78 88 98]\n"
     ]
    }
   ],
   "source": [
    "#conditional Slicing\n",
    "# Tạo mảng 3D với kích thước (3, 3, 3)\n",
    "arr_3d = np.array([[[10, 20, 30], [40, 50, 60], [70, 80, 90]],\n",
    "                   [[15, 25, 35], [45, 55, 65], [75, 85, 95]],\n",
    "                   [[18, 28, 38], [48, 58, 68], [78, 88, 98]]])\n",
    "\n",
    "# Lọc các phần tử lớn hơn 50\n",
    "filtered_arr_3d = arr_3d[arr_3d > 50]\n",
    "\n",
    "print(\"Mảng 3D ban đầu:\")\n",
    "print(arr_3d)\n",
    "print(\"\\nPhần tử lớn hơn 50:\")\n",
    "print(filtered_arr_3d)\n"
   ]
  },
  {
   "cell_type": "code",
   "execution_count": 73,
   "metadata": {},
   "outputs": [
    {
     "name": "stdout",
     "output_type": "stream",
     "text": [
      "Mảng 2D:\n",
      "[[1 2]\n",
      " [3 4]\n",
      " [5 6]]\n",
      "\n",
      "Mảng 1D:\n",
      "[7 8 9]\n",
      "\n",
      "Kết quả sau khi kết hợp:\n",
      "[[1 2 7]\n",
      " [3 4 8]\n",
      " [5 6 9]]\n"
     ]
    }
   ],
   "source": [
    "\n",
    "\n",
    "# Mảng 2D có kích thước (3, 2)\n",
    "arr_2d = np.array([[1, 2], [3, 4], [5, 6]])\n",
    "\n",
    "# Mảng 1D có kích thước (3,)\n",
    "arr_1d = np.array([7, 8, 9])\n",
    "\n",
    "# Kết hợp theo chiều ngang (axis=1)\n",
    "result = np.column_stack((arr_2d, arr_1d))\n",
    "\n",
    "print(\"Mảng 2D:\")\n",
    "print(arr_2d)\n",
    "print(\"\\nMảng 1D:\")\n",
    "print(arr_1d)\n",
    "print(\"\\nKết quả sau khi kết hợp:\")\n",
    "print(result)\n"
   ]
  },
  {
   "cell_type": "code",
   "execution_count": 74,
   "metadata": {},
   "outputs": [
    {
     "name": "stdout",
     "output_type": "stream",
     "text": [
      "Mảng 2D:\n",
      "[[1 2]\n",
      " [3 4]\n",
      " [5 6]]\n",
      "\n",
      "Mảng 1D:\n",
      "[7 8 9]\n",
      "\n",
      "Kết quả sau khi kết hợp theo chiều ngang:\n",
      "[[1 2 7]\n",
      " [3 4 8]\n",
      " [5 6 9]]\n"
     ]
    }
   ],
   "source": [
    "import numpy as np\n",
    "# Mảng 2D với kích thước (3, 2)\n",
    "arr_2d = np.array([[1, 2], [3, 4], [5, 6]])\n",
    "\n",
    "# Mảng 1D với kích thước (3,)\n",
    "arr_1d = np.array([7, 8, 9])\n",
    "\n",
    "# Kết hợp theo chiều ngang (axis=1) sử dụng np.concatenate\n",
    "result = np.concatenate((arr_2d, arr_1d.reshape(-1, 1)), axis=1)\n",
    "\n",
    "print(\"Mảng 2D:\")\n",
    "print(arr_2d)\n",
    "print(\"\\nMảng 1D:\")\n",
    "print(arr_1d)\n",
    "print(\"\\nKết quả sau khi kết hợp theo chiều ngang:\")\n",
    "print(result)\n",
    "\n",
    "#axis = 1 concat hàng , hoặc là vector\n"
   ]
  },
  {
   "cell_type": "code",
   "execution_count": 77,
   "metadata": {},
   "outputs": [
    {
     "name": "stdout",
     "output_type": "stream",
     "text": [
      "[[1 2 3]\n",
      " [4 5 6]]\n"
     ]
    }
   ],
   "source": [
    "import numpy as np\n",
    "\n",
    "# Mảng 1D với 6 phần tử\n",
    "arr_1d = np.array([1, 2, 3, 4, 5, 6])\n",
    "\n",
    "# Reshape thành mảng 2D với số cột là 3\n",
    "arr_2d = arr_1d.reshape(-1, 3)\n",
    "\n",
    "print(arr_2d)\n"
   ]
  },
  {
   "cell_type": "code",
   "execution_count": 75,
   "metadata": {},
   "outputs": [
    {
     "name": "stdout",
     "output_type": "stream",
     "text": [
      "Mảng 2D:\n",
      "[[1 2 3]\n",
      " [4 5 6]]\n",
      "\n",
      "Mảng 1D:\n",
      "[7 8 9]\n",
      "\n",
      "Kết quả sau khi kết hợp theo chiều dọc:\n",
      "[[1 2 3]\n",
      " [4 5 6]\n",
      " [7 8 9]]\n"
     ]
    }
   ],
   "source": [
    "\n",
    "\n",
    "# Mảng 2D với kích thước (2, 3)\n",
    "arr_2d = np.array([[1, 2, 3], [4, 5, 6]])\n",
    "\n",
    "# Mảng 1D với kích thước (3,)\n",
    "arr_1d = np.array([7, 8, 9])\n",
    "\n",
    "# Chuyển mảng 1D thành mảng 2D với kích thước (1, 3)\n",
    "arr_1d_2d = arr_1d.reshape(1, -1)\n",
    "\n",
    "# Kết hợp theo chiều dọc (axis=0) sử dụng np.concatenate\n",
    "result = np.concatenate((arr_2d, arr_1d_2d), axis=0)\n",
    "\n",
    "print(\"Mảng 2D:\")\n",
    "print(arr_2d)\n",
    "print(\"\\nMảng 1D:\")\n",
    "print(arr_1d)\n",
    "print(\"\\nKết quả sau khi kết hợp theo chiều dọc:\")\n",
    "print(result)\n"
   ]
  },
  {
   "cell_type": "markdown",
   "metadata": {},
   "source": [
    "OPEN CV"
   ]
  },
  {
   "cell_type": "code",
   "execution_count": 80,
   "metadata": {},
   "outputs": [
    {
     "name": "stdout",
     "output_type": "stream",
     "text": [
      "Requirement already satisfied: opencv-python in c:\\users\\lenovo\\anaconda3\\lib\\site-packages (4.10.0.84)\n",
      "Requirement already satisfied: numpy>=1.21.2 in c:\\users\\lenovo\\anaconda3\\lib\\site-packages (from opencv-python) (1.26.4)\n",
      "Note: you may need to restart the kernel to use updated packages.\n"
     ]
    }
   ],
   "source": [
    "%pip install opencv-python\n"
   ]
  },
  {
   "cell_type": "code",
   "execution_count": 78,
   "metadata": {},
   "outputs": [],
   "source": [
    "import cv2"
   ]
  },
  {
   "cell_type": "code",
   "execution_count": 82,
   "metadata": {},
   "outputs": [
    {
     "ename": "ModuleNotFoundError",
     "evalue": "No module named 'google'",
     "output_type": "error",
     "traceback": [
      "\u001b[1;31m---------------------------------------------------------------------------\u001b[0m",
      "\u001b[1;31mModuleNotFoundError\u001b[0m                       Traceback (most recent call last)",
      "Cell \u001b[1;32mIn[82], line 1\u001b[0m\n\u001b[1;32m----> 1\u001b[0m \u001b[38;5;28;01mfrom\u001b[39;00m \u001b[38;5;21;01mgoogle\u001b[39;00m\u001b[38;5;21;01m.\u001b[39;00m\u001b[38;5;21;01mcolab\u001b[39;00m \u001b[38;5;28;01mimport\u001b[39;00m files\n\u001b[0;32m      2\u001b[0m \u001b[38;5;28;01mimport\u001b[39;00m \u001b[38;5;21;01mcv2\u001b[39;00m\n\u001b[0;32m      4\u001b[0m \u001b[38;5;66;03m# Tải tệp lên\u001b[39;00m\n",
      "\u001b[1;31mModuleNotFoundError\u001b[0m: No module named 'google'"
     ]
    }
   ],
   "source": [
    "from google.colab import files\n",
    "import cv2\n",
    "\n",
    "# Tải tệp lên\n",
    "upload = files.upload()\n",
    "\n",
    "# Lấy tên tệp từ dictionary\n",
    "path = list(upload.keys())[0]\n",
    "print(upload.keys())  # In ra danh sách các tệp đã tải lên\n",
    "\n",
    "# Đọc hình ảnh với cv2\n",
    "image = cv2.imread(path)\n",
    "\n",
    "# Kiểm tra hình ảnh đã được tải chưa\n",
    "if image is not None:\n",
    "    # Hiển thị hình ảnh\n",
    "    cv2.imshow(\"Uploaded Image\", image)\n",
    "    cv2.waitKey(0)\n",
    "    cv2.destroyAllWindows()\n",
    "else:\n",
    "    print(\"Không thể tải hình ảnh.\")\n"
   ]
  }
 ],
 "metadata": {
  "kernelspec": {
   "display_name": "base",
   "language": "python",
   "name": "python3"
  },
  "language_info": {
   "codemirror_mode": {
    "name": "ipython",
    "version": 3
   },
   "file_extension": ".py",
   "mimetype": "text/x-python",
   "name": "python",
   "nbconvert_exporter": "python",
   "pygments_lexer": "ipython3",
   "version": "3.12.3"
  }
 },
 "nbformat": 4,
 "nbformat_minor": 2
}
