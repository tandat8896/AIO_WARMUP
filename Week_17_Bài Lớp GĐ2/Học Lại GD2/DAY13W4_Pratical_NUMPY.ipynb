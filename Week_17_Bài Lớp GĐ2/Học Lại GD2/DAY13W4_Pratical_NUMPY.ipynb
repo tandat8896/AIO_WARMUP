{
 "cells": [
  {
   "cell_type": "code",
   "execution_count": 1,
   "metadata": {},
   "outputs": [],
   "source": [
    "import numpy as np"
   ]
  },
  {
   "cell_type": "code",
   "execution_count": 7,
   "metadata": {},
   "outputs": [
    {
     "data": {
      "text/plain": [
       "array([1, 0, 3, 0, 5, 0])"
      ]
     },
     "execution_count": 7,
     "metadata": {},
     "output_type": "execute_result"
    }
   ],
   "source": [
    "#maskbooling\n",
    "arr = np.array([1,-2,3,-4,5,-6])\n",
    "arr[arr < 0]=0\n",
    "arr"
   ]
  },
  {
   "cell_type": "code",
   "execution_count": 10,
   "metadata": {},
   "outputs": [
    {
     "data": {
      "text/plain": [
       "array([1, 2, 4, 0, 0, 0])"
      ]
     },
     "execution_count": 10,
     "metadata": {},
     "output_type": "execute_result"
    }
   ],
   "source": [
    "arr2 = np.array([1,2,4,-4,-3,-2])\n",
    "arr2 = np.where( arr2 < 0 , 0 , arr2)\n",
    "arr2"
   ]
  },
  {
   "cell_type": "code",
   "execution_count": 13,
   "metadata": {},
   "outputs": [
    {
     "data": {
      "text/plain": [
       "array(['even', 'odd', 'odd', 'odd', 'odd', 'odd'], dtype='<U4')"
      ]
     },
     "execution_count": 13,
     "metadata": {},
     "output_type": "execute_result"
    }
   ],
   "source": [
    "arr3 = np.array([1,2,4,-4,-3,-2])\n",
    "arr3 = np.where(arr2 % 2 ,\"even\",\"odd\")\n",
    "arr3"
   ]
  },
  {
   "cell_type": "code",
   "execution_count": 14,
   "metadata": {},
   "outputs": [
    {
     "data": {
      "text/plain": [
       "(array([2], dtype=int64),)"
      ]
     },
     "execution_count": 14,
     "metadata": {},
     "output_type": "execute_result"
    }
   ],
   "source": [
    "# Tìm vị trí các phần tử lớn hơn 2\n",
    "positions = np.where(arr2 > 2)\n",
    "\n",
    "positions\n"
   ]
  },
  {
   "cell_type": "code",
   "execution_count": 15,
   "metadata": {},
   "outputs": [],
   "source": [
    "temps = np.array([25,28,30,22,35,18,20])\n"
   ]
  },
  {
   "cell_type": "code",
   "execution_count": 18,
   "metadata": {},
   "outputs": [
    {
     "data": {
      "text/plain": [
       "array(['Mild', 'Mild', 'Hot', 'Mild', 'Hot', 'Cold', 'Mild'], dtype='<U7')"
      ]
     },
     "execution_count": 18,
     "metadata": {},
     "output_type": "execute_result"
    }
   ],
   "source": [
    "conditions =[\n",
    "    temps < 20 ,\n",
    "    (temps >=20) & (temps<30),\n",
    "    temps >=30\n",
    "]\n",
    "choices = ['Cold','Mild', 'Hot']\n",
    "categories = np.select(conditions, choices, default='Unknown')\n",
    "categories"
   ]
  },
  {
   "cell_type": "code",
   "execution_count": 20,
   "metadata": {},
   "outputs": [
    {
     "data": {
      "text/plain": [
       "array([[17, 13, 64, 16, 40],\n",
       "       [86, 20, 86, 71, 79],\n",
       "       [98, 34,  3, 38, 26],\n",
       "       [22, 42,  4, 24, 45],\n",
       "       [41, 55, 38, 11, 39]])"
      ]
     },
     "execution_count": 20,
     "metadata": {},
     "output_type": "execute_result"
    }
   ],
   "source": [
    "mat = np.random.randint(1,100,(5,5))\n",
    "mat"
   ]
  },
  {
   "cell_type": "code",
   "execution_count": 21,
   "metadata": {},
   "outputs": [
    {
     "data": {
      "text/plain": [
       "array([[0.07843137, 0.        , 1.        , 0.05882353, 0.52941176],\n",
       "       [1.        , 0.        , 1.        , 0.77272727, 0.89393939],\n",
       "       [1.        , 0.32631579, 0.        , 0.36842105, 0.24210526],\n",
       "       [0.43902439, 0.92682927, 0.        , 0.48780488, 1.        ],\n",
       "       [0.68181818, 1.        , 0.61363636, 0.        , 0.63636364]])"
      ]
     },
     "execution_count": 21,
     "metadata": {},
     "output_type": "execute_result"
    }
   ],
   "source": [
    "row_min = mat.min(axis=1, keepdims= True)\n",
    "row_max = mat.max(axis=1, keepdims= True)\n",
    "normalizaed_mat = (mat - row_min) / (row_max - row_min)\n",
    "normalizaed_mat"
   ]
  },
  {
   "cell_type": "code",
   "execution_count": 23,
   "metadata": {},
   "outputs": [
    {
     "data": {
      "text/plain": [
       "array([[[0.35764788, 0.08293857, 0.36017291, 0.76463393],\n",
       "        [0.31743705, 0.80709733, 0.79980125, 0.48956439],\n",
       "        [0.12029413, 0.9793139 , 0.69974135, 0.991093  ]],\n",
       "\n",
       "       [[0.63855874, 0.35678136, 0.74849889, 0.21793483],\n",
       "        [0.06417996, 0.34193374, 0.22054058, 0.05057884],\n",
       "        [0.70973093, 0.20160373, 0.40639123, 0.17776848]]])"
      ]
     },
     "execution_count": 23,
     "metadata": {},
     "output_type": "execute_result"
    }
   ],
   "source": [
    "arr = np.random.rand(2,3,4)\n",
    "arr"
   ]
  },
  {
   "cell_type": "code",
   "execution_count": 36,
   "metadata": {},
   "outputs": [
    {
     "data": {
      "text/plain": [
       "3"
      ]
     },
     "execution_count": 36,
     "metadata": {},
     "output_type": "execute_result"
    }
   ],
   "source": [
    "arr.shape[1]"
   ]
  },
  {
   "cell_type": "code",
   "execution_count": 35,
   "metadata": {},
   "outputs": [
    {
     "data": {
      "text/plain": [
       "2"
      ]
     },
     "execution_count": 35,
     "metadata": {},
     "output_type": "execute_result"
    }
   ],
   "source": [
    "arr.shape[0]"
   ]
  },
  {
   "cell_type": "code",
   "execution_count": 37,
   "metadata": {},
   "outputs": [
    {
     "data": {
      "text/plain": [
       "4"
      ]
     },
     "execution_count": 37,
     "metadata": {},
     "output_type": "execute_result"
    }
   ],
   "source": [
    "arr.shape[2]"
   ]
  },
  {
   "cell_type": "code",
   "execution_count": 38,
   "metadata": {},
   "outputs": [],
   "source": [
    "mat = np.random.randint(1,100,(5,5))\n",
    "e_x = np.exp(mat)\n",
    "softmax_col = e_x / e_x.sum(axis=0, keepdims= True\n",
    "                            )\n"
   ]
  },
  {
   "cell_type": "code",
   "execution_count": 40,
   "metadata": {},
   "outputs": [
    {
     "name": "stdout",
     "output_type": "stream",
     "text": [
      "[[28 30 38 13 22]\n",
      " [75 41 56 50 69]\n",
      " [54 51 22 50 70]\n",
      " [ 6 82 60 48 68]\n",
      " [19 19 72 40 65]]\n"
     ]
    }
   ],
   "source": [
    "print(mat)"
   ]
  },
  {
   "cell_type": "code",
   "execution_count": 41,
   "metadata": {},
   "outputs": [
    {
     "name": "stdout",
     "output_type": "stream",
     "text": [
      "[[3.87399763e-21 2.61027907e-23 1.71389771e-15 3.99603110e-17\n",
      "  9.43846857e-22]\n",
      " [9.99999999e-01 1.56288219e-18 1.12534471e-07 4.68300574e-01\n",
      "  2.43636405e-01]\n",
      " [7.58256042e-10 3.44247711e-14 1.92873778e-22 4.68300574e-01\n",
      "  6.62272414e-01]\n",
      " [1.08063928e-30 1.00000000e+00 6.14417391e-06 6.33775908e-02\n",
      "  8.96288247e-02]\n",
      " [4.78089288e-25 4.35961000e-28 9.99993743e-01 2.12608132e-05\n",
      "  4.46235642e-03]]\n"
     ]
    }
   ],
   "source": [
    "print(softmax_col)"
   ]
  },
  {
   "cell_type": "code",
   "execution_count": 42,
   "metadata": {},
   "outputs": [
    {
     "data": {
      "text/plain": [
       "array([[ 96, 119,  57,   6],\n",
       "       [ 26, 230,  88, 202],\n",
       "       [ 14, 241, 142,  55],\n",
       "       [106, 255,  81,   8]])"
      ]
     },
     "execution_count": 42,
     "metadata": {},
     "output_type": "execute_result"
    }
   ],
   "source": [
    "pixel = np.random.randint(0,256,(4,4))\n",
    "pixel"
   ]
  },
  {
   "cell_type": "code",
   "execution_count": 48,
   "metadata": {},
   "outputs": [],
   "source": [
    "def adjust_constrast(chanel):\n",
    "    return np.clip(chanel * 1.5,0,255)\n",
    "enhanced = np.apply_along_axis(adjust_constrast,1,pixel)\n",
    "#axist=1"
   ]
  },
  {
   "cell_type": "code",
   "execution_count": 49,
   "metadata": {},
   "outputs": [
    {
     "data": {
      "text/plain": [
       "array([[144. , 178.5,  85.5,   9. ],\n",
       "       [ 39. , 255. , 132. , 255. ],\n",
       "       [ 21. , 255. , 213. ,  82.5],\n",
       "       [159. , 255. , 121.5,  12. ]])"
      ]
     },
     "execution_count": 49,
     "metadata": {},
     "output_type": "execute_result"
    }
   ],
   "source": [
    "enhanced"
   ]
  },
  {
   "cell_type": "code",
   "execution_count": 50,
   "metadata": {},
   "outputs": [
    {
     "data": {
      "text/plain": [
       "array([[ 1.,  2., nan],\n",
       "       [ 4., nan,  6.],\n",
       "       [ 7.,  8.,  9.]])"
      ]
     },
     "execution_count": 50,
     "metadata": {},
     "output_type": "execute_result"
    }
   ],
   "source": [
    "data = np.array([\n",
    "    [1,2,np.nan],\n",
    "    [4,np.nan,6],\n",
    "    [7,8,9]\n",
    "])\n",
    "data"
   ]
  },
  {
   "cell_type": "code",
   "execution_count": 55,
   "metadata": {},
   "outputs": [],
   "source": [
    "filtered = np.where(np.isnan(data[:,0]),np.nanmean(data[:,0]),data[:,0])"
   ]
  },
  {
   "cell_type": "code",
   "execution_count": 56,
   "metadata": {},
   "outputs": [
    {
     "data": {
      "text/plain": [
       "array([1., 4., 7.])"
      ]
     },
     "execution_count": 56,
     "metadata": {},
     "output_type": "execute_result"
    }
   ],
   "source": [
    "filtered"
   ]
  },
  {
   "cell_type": "code",
   "execution_count": 57,
   "metadata": {},
   "outputs": [
    {
     "data": {
      "text/plain": [
       "array([[-0.14524856,  0.13607497, -0.62227542, -1.24607978],\n",
       "       [-1.00145062,  1.4937668 , -0.24310023,  1.15128598],\n",
       "       [-1.14822811,  1.62831284,  0.4173985 , -0.64673834],\n",
       "       [-0.02293398,  1.79955325, -0.32872043, -1.22161686]])"
      ]
     },
     "execution_count": 57,
     "metadata": {},
     "output_type": "execute_result"
    }
   ],
   "source": [
    "mean_pixel = np.mean(pixel)\n",
    "std_pixel = np.std(pixel)\n",
    "\n",
    "# Calculate Z-score for each element\n",
    "z_score = (pixel - mean_pixel) / std_pixel\n",
    "z_score"
   ]
  },
  {
   "cell_type": "code",
   "execution_count": 58,
   "metadata": {},
   "outputs": [
    {
     "data": {
      "text/plain": [
       "array([[0.36144578, 0.45381526, 0.20481928, 0.        ],\n",
       "       [0.08032129, 0.89959839, 0.32931727, 0.78714859],\n",
       "       [0.03212851, 0.9437751 , 0.54618474, 0.19678715],\n",
       "       [0.40160643, 1.        , 0.30120482, 0.00803213]])"
      ]
     },
     "execution_count": 58,
     "metadata": {},
     "output_type": "execute_result"
    }
   ],
   "source": [
    "pixel_min = np.min(pixel)\n",
    "pixel_max = np.max(pixel)\n",
    "scaled_pixel = (pixel - pixel_min) / (pixel_max - pixel_min)\n",
    "\n",
    "scaled_pixel"
   ]
  },
  {
   "cell_type": "code",
   "execution_count": 59,
   "metadata": {},
   "outputs": [
    {
     "name": "stdout",
     "output_type": "stream",
     "text": [
      "[ True False  True False False]\n"
     ]
    }
   ],
   "source": [
    "# Mảng các phần tử cần kiểm tra\n",
    "arr = np.array([1, 2, 3, 4, 5])\n",
    "\n",
    "# Mảng các phần tử kiểm tra sự tồn tại\n",
    "check = np.array([3, 6, 1])\n",
    "\n",
    "# Kiểm tra xem các phần tử của arr có tồn tại trong check không\n",
    "result = np.isin(arr, check)\n",
    "\n",
    "print(result)\n"
   ]
  }
 ],
 "metadata": {
  "kernelspec": {
   "display_name": "base",
   "language": "python",
   "name": "python3"
  },
  "language_info": {
   "codemirror_mode": {
    "name": "ipython",
    "version": 3
   },
   "file_extension": ".py",
   "mimetype": "text/x-python",
   "name": "python",
   "nbconvert_exporter": "python",
   "pygments_lexer": "ipython3",
   "version": "3.12.3"
  }
 },
 "nbformat": 4,
 "nbformat_minor": 2
}
