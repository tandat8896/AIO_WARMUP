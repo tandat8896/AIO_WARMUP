{
 "cells": [
  {
   "cell_type": "code",
   "execution_count": 3,
   "metadata": {},
   "outputs": [
    {
     "name": "stdout",
     "output_type": "stream",
     "text": [
      "{'B', 2, 'A'}\n"
     ]
    }
   ],
   "source": [
    "#set không có thứ tự và không lặp lại\n",
    "my_set = {'A','B',2}\n",
    "print(my_set)"
   ]
  },
  {
   "cell_type": "code",
   "execution_count": 5,
   "metadata": {},
   "outputs": [
    {
     "name": "stdout",
     "output_type": "stream",
     "text": [
      "Alice\n",
      "25\n"
     ]
    }
   ],
   "source": [
    "my_dict = {\n",
    "    'name': 'Alice',     # 'name' là key, 'Alice' là value\n",
    "    'age': 25,          # 'age' là key, 25 là value\n",
    "    'city': 'New York'  # 'city' là key, 'New York' là value\n",
    "}\n",
    "\n",
    "# Truy cập vào giá trị theo key\n",
    "print(my_dict['name'])  # 👉 'Alice'\n",
    "print(my_dict['age'])   # 👉 25\n"
   ]
  },
  {
   "cell_type": "code",
   "execution_count": 6,
   "metadata": {},
   "outputs": [
    {
     "name": "stdout",
     "output_type": "stream",
     "text": [
      "Math\n",
      "Science\n",
      "English\n"
     ]
    }
   ],
   "source": [
    "subjects = {'Math': 3, 'Science': 4, 'English': 2}\n",
    "\n",
    "for key in subjects.keys():\n",
    "    print(key)\n"
   ]
  },
  {
   "cell_type": "code",
   "execution_count": 7,
   "metadata": {},
   "outputs": [
    {
     "name": "stdout",
     "output_type": "stream",
     "text": [
      "Key: Math, Value: 3\n",
      "Key: Science, Value: 4\n",
      "Key: English, Value: 2\n"
     ]
    }
   ],
   "source": [
    "subjects = {'Math': 3, 'Science': 4, 'English': 2}\n",
    "\n",
    "# Duyệt qua các cặp key-value trong từ điển\n",
    "for key, value in subjects.items():\n",
    "    print(f\"Key: {key}, Value: {value}\")\n"
   ]
  },
  {
   "cell_type": "code",
   "execution_count": 31,
   "metadata": {},
   "outputs": [
    {
     "name": "stdout",
     "output_type": "stream",
     "text": [
      "1\n",
      "{3: 1}\n",
      "1\n",
      "{3: 1, 2: 1}\n",
      "2\n",
      "{3: 2, 2: 1}\n",
      "{3: 2, 2: 1}\n"
     ]
    }
   ],
   "source": [
    "subjects = [(\"Tom\",3,8.5),\n",
    "            (\"L\",2,7.0),\n",
    "            (\"Ha\",3,9.0)]\n",
    "\n",
    "credits_count={}\n",
    "average_scores = set()\n",
    "\n",
    "for name , credit , score in subjects:\n",
    "    if credit in credits_count:\n",
    "        credits_count[credit] += 1\n",
    "    else:\n",
    "        credits_count[credit] = 1 \n",
    "    print(credits_count[credit])\n",
    "    print(credits_count)\n",
    "    average_scores.add(score)\n",
    "\n",
    "print(credits_count)\n"
   ]
  },
  {
   "cell_type": "code",
   "execution_count": 33,
   "metadata": {},
   "outputs": [
    {
     "name": "stdout",
     "output_type": "stream",
     "text": [
      "{8.5, 9.0, 7.0}\n",
      "('Ha', 3, 9.0)\n"
     ]
    }
   ],
   "source": [
    "print(average_scores) #average score đang làm set \n",
    "max_score_subject = max(subjects , key= lambda x:x[2])\n",
    "print(max_score_subject)"
   ]
  },
  {
   "cell_type": "code",
   "execution_count": 49,
   "metadata": {},
   "outputs": [
    {
     "name": "stdout",
     "output_type": "stream",
     "text": [
      "{1: 2, 2: 2, 3: 1, 4: 1}\n",
      "{3, 4}\n"
     ]
    }
   ],
   "source": [
    "numbers = [1,2,2,3,1,4]\n",
    "frequency = {}\n",
    "for i in numbers:\n",
    "    if i in frequency:\n",
    "        frequency[i] +=1 \n",
    "    else:\n",
    "        frequency[i] = 1\n",
    "print(frequency) \n",
    "one_time_numbers = {key for key, value in frequency.items() if value == 1}\n",
    "sorted_frequency = sorted(frequency.items(), key=lambda x: x[1])\n",
    "print(one_time_numbers)"
   ]
  },
  {
   "cell_type": "code",
   "execution_count": 51,
   "metadata": {},
   "outputs": [
    {
     "name": "stdout",
     "output_type": "stream",
     "text": [
      "dict_items([(1, 2), (2, 2), (3, 1), (4, 1)])\n"
     ]
    }
   ],
   "source": [
    "print(frequency.items())"
   ]
  },
  {
   "cell_type": "code",
   "execution_count": 47,
   "metadata": {},
   "outputs": [
    {
     "name": "stdout",
     "output_type": "stream",
     "text": [
      "[3, 4]\n"
     ]
    }
   ],
   "source": [
    "one_time_numbers1 = []\n",
    "for key, value in frequency.items():\n",
    "    if value == 1:\n",
    "        one_time_numbers1.append(key)\n",
    "print(one_time_numbers1)"
   ]
  },
  {
   "cell_type": "code",
   "execution_count": 50,
   "metadata": {},
   "outputs": [
    {
     "name": "stdout",
     "output_type": "stream",
     "text": [
      "[(3, 1), (4, 1), (1, 2), (2, 2)]\n"
     ]
    }
   ],
   "source": [
    "print(sorted_frequency)"
   ]
  },
  {
   "cell_type": "code",
   "execution_count": 52,
   "metadata": {},
   "outputs": [
    {
     "name": "stdout",
     "output_type": "stream",
     "text": [
      "{0}\n",
      "{0, 1}\n"
     ]
    }
   ],
   "source": [
    "pair = [(10,0),\n",
    "        (15,1),\n",
    "        (13,2),\n",
    "        (12,3)]\n",
    "min_distance = set()\n",
    "\n",
    "for key,value in pair:\n",
    "    if value < 2:\n",
    "        min_distance.add(value)\n",
    "        print(min_distance)"
   ]
  },
  {
   "cell_type": "code",
   "execution_count": 54,
   "metadata": {},
   "outputs": [
    {
     "name": "stdout",
     "output_type": "stream",
     "text": [
      "((10, 0), (15, 1))\n"
     ]
    }
   ],
   "source": [
    "min_diff = float('inf')\n",
    "closest_pair = None \n",
    "for i in range(len(pair)):\n",
    "    for j in range(i+1,len(pair)):\n",
    "        diff = abs(pair[i][1]-pair[j][1])\n",
    "        if diff < min_diff:\n",
    "            min_diff = diff\n",
    "            closest_pair = (pair[i],pair[j])\n",
    "print(closest_pair)"
   ]
  },
  {
   "cell_type": "code",
   "execution_count": 67,
   "metadata": {},
   "outputs": [
    {
     "data": {
      "text/plain": [
       "((2, 3),\n",
       " {(0, 1): 5, (0, 2): 3, (0, 3): 2, (1, 2): 2, (1, 3): 3, (2, 3): 1},\n",
       " {10, 12, 13, 15})"
      ]
     },
     "execution_count": 67,
     "metadata": {},
     "output_type": "execute_result"
    }
   ],
   "source": [
    "pairs = [(10, 0), (15, 1), (13, 2), (12, 3)]\n",
    "\n",
    "# Biến lưu cặp có sự chênh lệch nhỏ nhất\n",
    "min_diff = float('inf')  # Khởi tạo min_diff với giá trị vô cùng lớn\n",
    "closest_pair = None\n",
    "differences = {}  \n",
    "unique_values = set() \n",
    "# Duyệt qua các cặp\n",
    "for i in range(len(pairs)):\n",
    "    for j in range(i + 1, len(pairs)):  # Bắt đầu từ i+1 để tránh tính lại cặp (i, i)\n",
    "        diff = abs(pairs[i][0] - pairs[j][0])  # Tính sự khác biệt giữa giá trị của 2 cặp\n",
    "        differences[(i, j)] = diff  # Lưu chênh lệch vào từ điển\n",
    "        if diff < min_diff:  # Nếu sự khác biệt nhỏ hơn min_diff hiện tại\n",
    "            min_diff = diff\n",
    "            closest_pair = (pairs[i][1], pairs[j][1])  # Lưu chỉ số của 2 cặp có sự chênh lệch nhỏ nhất\n",
    "\n",
    "        unique_values.add(pairs[i][0])\n",
    "        unique_values.add(pairs[j][0])\n",
    "\n",
    "# In ra kết quả\n",
    "closest_pair, differences,unique_values\n"
   ]
  },
  {
   "cell_type": "code",
   "execution_count": 53,
   "metadata": {},
   "outputs": [
    {
     "name": "stdout",
     "output_type": "stream",
     "text": [
      "Set: set()\n",
      "Tuple: ()\n"
     ]
    }
   ],
   "source": [
    "# Khởi tạo set và tuple\n",
    "min_distance = set()  # Set trống\n",
    "empty_tuple = ()  # Tuple trống\n",
    "\n",
    "print(\"Set:\", min_distance)  # In ra: set()\n",
    "print(\"Tuple:\", empty_tuple)  # In ra: ()\n"
   ]
  },
  {
   "cell_type": "code",
   "execution_count": null,
   "metadata": {},
   "outputs": [],
   "source": []
  }
 ],
 "metadata": {
  "kernelspec": {
   "display_name": "base",
   "language": "python",
   "name": "python3"
  },
  "language_info": {
   "codemirror_mode": {
    "name": "ipython",
    "version": 3
   },
   "file_extension": ".py",
   "mimetype": "text/x-python",
   "name": "python",
   "nbconvert_exporter": "python",
   "pygments_lexer": "ipython3",
   "version": "3.12.3"
  }
 },
 "nbformat": 4,
 "nbformat_minor": 2
}
