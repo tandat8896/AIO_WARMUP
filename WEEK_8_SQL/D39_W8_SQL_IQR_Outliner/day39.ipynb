{
 "cells": [
  {
   "cell_type": "code",
   "execution_count": 3,
   "metadata": {},
   "outputs": [
    {
     "name": "stdout",
     "output_type": "stream",
     "text": [
      "Q1 (25th percentile): 62.0\n",
      "Q3 (75th percentile): 90.75\n",
      "IQR (Interquartile Range): 28.75\n",
      "Ngưỡng dưới: 18.875\n",
      "Ngưỡng trên: 133.875\n",
      "Các giá trị ngoại lai:\n",
      "   score\n",
      "8    300\n",
      "DataFrame sau khi loại bỏ outliers:\n",
      "   score\n",
      "0     55\n",
      "1     61\n",
      "2     70\n",
      "3     65\n",
      "4     68\n",
      "5     90\n",
      "6     91\n",
      "7     94\n",
      "9     58\n"
     ]
    }
   ],
   "source": [
    "import pandas as pd\n",
    "import numpy as np\n",
    "\n",
    "# Dữ liệu\n",
    "df = pd.DataFrame({\n",
    "    'score': [55, 61, 70, 65, 68, 90, 91, 94, 300, 58]\n",
    "})\n",
    "\n",
    "# Tính Q1, Q3 và IQR\n",
    "Q1 = np.percentile(df['score'], 25)  # Phân vị 25%\n",
    "Q3 = np.percentile(df['score'], 75)  # Phân vị 75%\n",
    "IQR = Q3 - Q1  # IQR = Q3 - Q1\n",
    "\n",
    "# Xác định ngưỡng dưới và trên\n",
    "lower_bound = Q1 - 1.5 * IQR\n",
    "upper_bound = Q3 + 1.5 * IQR\n",
    "\n",
    "# Tìm các giá trị outlier\n",
    "outliers = df[(df['score'] < lower_bound) | (df['score'] > upper_bound)]\n",
    "\n",
    "# Tạo DataFrame mới không chứa các outlier\n",
    "df_no_outliers = df[(df['score'] >= lower_bound) & (df['score'] <= upper_bound)]\n",
    "\n",
    "# In kết quả ra màn hình\n",
    "print(f'Q1 (25th percentile): {Q1}')\n",
    "print(f'Q3 (75th percentile): {Q3}')\n",
    "print(f'IQR (Interquartile Range): {IQR}')\n",
    "print(f'Ngưỡng dưới: {lower_bound}')\n",
    "print(f'Ngưỡng trên: {upper_bound}')\n",
    "print(f'Các giá trị ngoại lai:\\n{outliers}')\n",
    "print(f'DataFrame sau khi loại bỏ outliers:\\n{df_no_outliers}')\n"
   ]
  }
 ],
 "metadata": {
  "kernelspec": {
   "display_name": "base",
   "language": "python",
   "name": "python3"
  },
  "language_info": {
   "codemirror_mode": {
    "name": "ipython",
    "version": 3
   },
   "file_extension": ".py",
   "mimetype": "text/x-python",
   "name": "python",
   "nbconvert_exporter": "python",
   "pygments_lexer": "ipython3",
   "version": "3.12.3"
  }
 },
 "nbformat": 4,
 "nbformat_minor": 2
}
