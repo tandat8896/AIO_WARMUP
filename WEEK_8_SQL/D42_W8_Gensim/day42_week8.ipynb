{
 "cells": [
  {
   "cell_type": "code",
   "execution_count": 8,
   "metadata": {},
   "outputs": [
    {
     "name": "stderr",
     "output_type": "stream",
     "text": [
      "[nltk_data] Downloading package punkt to\n",
      "[nltk_data]     C:\\Users\\LENOVO\\AppData\\Roaming\\nltk_data...\n",
      "[nltk_data]   Package punkt is already up-to-date!\n"
     ]
    },
    {
     "data": {
      "text/plain": [
       "True"
      ]
     },
     "execution_count": 8,
     "metadata": {},
     "output_type": "execute_result"
    }
   ],
   "source": [
    "import nltk\n",
    "nltk.download('punkt')\n"
   ]
  },
  {
   "cell_type": "code",
   "execution_count": 9,
   "metadata": {},
   "outputs": [
    {
     "name": "stdout",
     "output_type": "stream",
     "text": [
      "C:\\Users\\LENOVO\\AppData\\Roaming\\nltk_data\\tokenizers\\punkt\n"
     ]
    }
   ],
   "source": [
    "import nltk\n",
    "print(nltk.data.find('tokenizers/punkt'))\n"
   ]
  },
  {
   "cell_type": "code",
   "execution_count": 11,
   "metadata": {},
   "outputs": [
    {
     "name": "stderr",
     "output_type": "stream",
     "text": [
      "[nltk_data] Downloading package punkt_tab to\n",
      "[nltk_data]     C:\\Users\\LENOVO\\AppData\\Roaming\\nltk_data...\n",
      "[nltk_data]   Unzipping tokenizers\\punkt_tab.zip.\n"
     ]
    },
    {
     "data": {
      "text/plain": [
       "True"
      ]
     },
     "execution_count": 11,
     "metadata": {},
     "output_type": "execute_result"
    }
   ],
   "source": [
    "import nltk\n",
    "nltk.download('punkt_tab')\n"
   ]
  },
  {
   "cell_type": "code",
   "execution_count": 12,
   "metadata": {},
   "outputs": [
    {
     "name": "stdout",
     "output_type": "stream",
     "text": [
      "['Hôm', 'nay', 'trời', 'đẹp', 'quá', '!']\n"
     ]
    }
   ],
   "source": [
    "from nltk.tokenize import word_tokenize  \n",
    "\n",
    "text = \"Hôm nay trời đẹp quá!\"  \n",
    "tokens = word_tokenize(text)  \n",
    "print(tokens)\n"
   ]
  },
  {
   "cell_type": "code",
   "execution_count": 2,
   "metadata": {},
   "outputs": [
    {
     "name": "stdout",
     "output_type": "stream",
     "text": [
      "Collecting gensim\n",
      "  Using cached gensim-4.3.3-cp312-cp312-win_amd64.whl.metadata (8.2 kB)\n",
      "Requirement already satisfied: numpy<2.0,>=1.18.5 in c:\\users\\lenovo\\anaconda3\\lib\\site-packages (from gensim) (1.26.4)\n",
      "Requirement already satisfied: scipy<1.14.0,>=1.7.0 in c:\\users\\lenovo\\anaconda3\\lib\\site-packages (from gensim) (1.13.1)\n",
      "Collecting smart-open>=1.8.1 (from gensim)\n",
      "  Using cached smart_open-7.1.0-py3-none-any.whl.metadata (24 kB)\n",
      "Requirement already satisfied: wrapt in c:\\users\\lenovo\\anaconda3\\lib\\site-packages (from smart-open>=1.8.1->gensim) (1.17.2)\n",
      "Using cached gensim-4.3.3-cp312-cp312-win_amd64.whl (24.0 MB)\n",
      "Using cached smart_open-7.1.0-py3-none-any.whl (61 kB)\n",
      "Installing collected packages: smart-open, gensim\n",
      "Successfully installed gensim-4.3.3 smart-open-7.1.0\n",
      "Note: you may need to restart the kernel to use updated packages.\n"
     ]
    },
    {
     "name": "stdout",
     "output_type": "stream",
     "text": [
      "Collecting gensim\n",
      "  Downloading gensim-4.3.3-cp312-cp312-win_amd64.whl.metadata (8.2 kB)\n",
      "Requirement already satisfied: numpy<2.0,>=1.18.5 in c:\\users\\lenovo\\anaconda3\\lib\\site-packages (from gensim) (1.26.4)\n",
      "Collecting scipy<1.14.0,>=1.7.0 (from gensim)\n",
      "  Downloading scipy-1.13.1-cp312-cp312-win_amd64.whl.metadata (60 kB)\n",
      "Collecting smart-open>=1.8.1 (from gensim)\n",
      "  Downloading smart_open-7.1.0-py3-none-any.whl.metadata (24 kB)\n",
      "Collecting wrapt (from smart-open>=1.8.1->gensim)\n",
      "  Downloading wrapt-1.17.2-cp312-cp312-win_amd64.whl.metadata (6.5 kB)\n",
      "Downloading gensim-4.3.3-cp312-cp312-win_amd64.whl (24.0 MB)\n",
      "   ---------------------------------------- 0.0/24.0 MB ? eta -:--:--\n",
      "   ---- ----------------------------------- 2.6/24.0 MB 16.7 MB/s eta 0:00:02\n",
      "   ------------- -------------------------- 7.9/24.0 MB 21.2 MB/s eta 0:00:01\n",
      "   ------------------- -------------------- 11.5/24.0 MB 19.5 MB/s eta 0:00:01\n",
      "   -------------------------- ------------- 15.7/24.0 MB 19.8 MB/s eta 0:00:01\n",
      "   -------------------------------- ------- 19.4/24.0 MB 19.4 MB/s eta 0:00:01\n",
      "   ---------------------------------------  23.6/24.0 MB 19.6 MB/s eta 0:00:01\n",
      "   ---------------------------------------- 24.0/24.0 MB 18.1 MB/s eta 0:00:00\n",
      "Downloading scipy-1.13.1-cp312-cp312-win_amd64.whl (45.9 MB)\n",
      "   ---------------------------------------- 0.0/45.9 MB ? eta -:--:--\n",
      "   -- ------------------------------------- 3.1/45.9 MB 18.4 MB/s eta 0:00:03\n",
      "   ----- ---------------------------------- 6.6/45.9 MB 17.5 MB/s eta 0:00:03\n",
      "   --------- ------------------------------ 10.5/45.9 MB 18.2 MB/s eta 0:00:02\n",
      "   ------------- -------------------------- 15.5/45.9 MB 19.8 MB/s eta 0:00:02\n",
      "   ----------------- ---------------------- 19.7/45.9 MB 19.7 MB/s eta 0:00:02\n",
      "   --------------------- ------------------ 24.4/45.9 MB 20.6 MB/s eta 0:00:02\n",
      "   ------------------------ --------------- 28.6/45.9 MB 20.1 MB/s eta 0:00:01\n",
      "   ----------------------------- ---------- 33.3/45.9 MB 20.7 MB/s eta 0:00:01\n",
      "   ------------------------------- -------- 36.7/45.9 MB 20.3 MB/s eta 0:00:01\n",
      "   ----------------------------------- ---- 40.6/45.9 MB 20.0 MB/s eta 0:00:01\n",
      "   -------------------------------------- - 44.0/45.9 MB 19.6 MB/s eta 0:00:01\n",
      "   ---------------------------------------- 45.9/45.9 MB 18.7 MB/s eta 0:00:00\n",
      "Downloading smart_open-7.1.0-py3-none-any.whl (61 kB)\n",
      "Downloading wrapt-1.17.2-cp312-cp312-win_amd64.whl (38 kB)\n",
      "Installing collected packages: wrapt, scipy, smart-open, gensim\n",
      "Successfully installed gensim-4.3.3 scipy-1.13.1 smart-open-7.1.0 wrapt-1.17.2\n"
     ]
    },
    {
     "name": "stderr",
     "output_type": "stream",
     "text": [
      "ERROR: pip's dependency resolver does not currently take into account all the packages that are installed. This behaviour is the source of the following dependency conflicts.\n",
      "ultralytics 8.3.49 requires matplotlib>=3.3.0, which is not installed.\n",
      "ultralytics 8.3.49 requires pandas>=1.1.4, which is not installed.\n",
      "ultralytics 8.3.49 requires py-cpuinfo, which is not installed.\n",
      "ultralytics 8.3.49 requires seaborn>=0.11.0, which is not installed.\n"
     ]
    }
   ],
   "source": [
    "%pip install gensim"
   ]
  },
  {
   "cell_type": "code",
   "execution_count": 3,
   "metadata": {},
   "outputs": [],
   "source": [
    "from gensim import  corpora\n",
    "from nltk.tokenize import word_tokenize\n"
   ]
  },
  {
   "cell_type": "code",
   "execution_count": 7,
   "metadata": {},
   "outputs": [
    {
     "data": {
      "text/plain": [
       "['Robot của kỳ lân công nghệ Figure AI',\n",
       " 'Figure AI là startup mới thành lập năm 2022 tại Mỹ nhưng đã tạo ấn tượng mạnh với giới đầu tư']"
      ]
     },
     "execution_count": 7,
     "metadata": {},
     "output_type": "execute_result"
    }
   ],
   "source": [
    "sentences = [\"Robot của kỳ lân công nghệ Figure AI\",\n",
    "             \"Figure AI là startup mới thành lập năm 2022 tại Mỹ nhưng đã tạo ấn tượng mạnh với giới đầu tư\"]\n",
    "sentences\n"
   ]
  },
  {
   "cell_type": "code",
   "execution_count": 9,
   "metadata": {},
   "outputs": [
    {
     "data": {
      "text/plain": [
       "[['Robot', 'của', 'kỳ', 'lân', 'công', 'nghệ', 'Figure', 'AI'],\n",
       " ['Figure',\n",
       "  'AI',\n",
       "  'là',\n",
       "  'startup',\n",
       "  'mới',\n",
       "  'thành',\n",
       "  'lập',\n",
       "  'năm',\n",
       "  '2022',\n",
       "  'tại',\n",
       "  'Mỹ',\n",
       "  'nhưng',\n",
       "  'đã',\n",
       "  'tạo',\n",
       "  'ấn',\n",
       "  'tượng',\n",
       "  'mạnh',\n",
       "  'với',\n",
       "  'giới',\n",
       "  'đầu',\n",
       "  'tư']]"
      ]
     },
     "execution_count": 9,
     "metadata": {},
     "output_type": "execute_result"
    }
   ],
   "source": [
    "words = [word_tokenize(sentence) for sentence in sentences]\n",
    "words"
   ]
  },
  {
   "cell_type": "code",
   "execution_count": 10,
   "metadata": {},
   "outputs": [
    {
     "data": {
      "text/plain": [
       "<gensim.corpora.dictionary.Dictionary at 0x25d10c4ec30>"
      ]
     },
     "execution_count": 10,
     "metadata": {},
     "output_type": "execute_result"
    }
   ],
   "source": [
    "dictionary = corpora.Dictionary(words)\n",
    "dictionary"
   ]
  },
  {
   "cell_type": "code",
   "execution_count": 13,
   "metadata": {},
   "outputs": [
    {
     "name": "stdout",
     "output_type": "stream",
     "text": [
      "Corpus : [[(0, 1), (1, 1), (2, 1), (3, 1), (4, 1), (5, 1), (6, 1), (7, 1)], [(0, 1), (1, 1), (8, 1), (9, 1), (10, 1), (11, 1), (12, 1), (13, 1), (14, 1), (15, 1), (16, 1), (17, 1), (18, 1), (19, 1), (20, 1), (21, 1), (22, 1), (23, 1), (24, 1), (25, 1), (26, 1)]]\n",
      "câu 1 - vector:[(0, 1), (1, 1), (2, 1), (3, 1), (4, 1), (5, 1), (6, 1), (7, 1)]\n",
      "câu 2 - vector:[(0, 1), (1, 1), (8, 1), (9, 1), (10, 1), (11, 1), (12, 1), (13, 1), (14, 1), (15, 1), (16, 1), (17, 1), (18, 1), (19, 1), (20, 1), (21, 1), (22, 1), (23, 1), (24, 1), (25, 1), (26, 1)]\n"
     ]
    }
   ],
   "source": [
    "bow_corpus = [dictionary.doc2bow(sentence) for sentence in words]\n",
    "print(f'Corpus : {bow_corpus}')\n",
    "for index,vector in enumerate(bow_corpus,1):\n",
    "    print(f'câu {index} - vector:{vector}')"
   ]
  },
  {
   "cell_type": "code",
   "execution_count": 19,
   "metadata": {},
   "outputs": [
    {
     "name": "stdout",
     "output_type": "stream",
     "text": [
      "[('của', 0.2008291333913803), ('lân', 0.17751173675060272), ('giới', 0.11886847019195557), ('đã', 0.11025072634220123), ('mạnh', 0.10132686793804169), ('công', 0.09661100804805756), ('là', 0.08376448601484299), ('ấn', 0.08254541456699371), ('Mỹ', 0.07622208446264267), ('mới', 0.073150135576725)]\n"
     ]
    }
   ],
   "source": [
    "from gensim.models import Word2Vec\n",
    "model = Word2Vec(words, min_count=1)\n",
    "similar_words = model.wv.most_similar(\"Robot\")\n",
    "print(similar_words)"
   ]
  }
 ],
 "metadata": {
  "kernelspec": {
   "display_name": "base",
   "language": "python",
   "name": "python3"
  },
  "language_info": {
   "codemirror_mode": {
    "name": "ipython",
    "version": 3
   },
   "file_extension": ".py",
   "mimetype": "text/x-python",
   "name": "python",
   "nbconvert_exporter": "python",
   "pygments_lexer": "ipython3",
   "version": "3.12.3"
  }
 },
 "nbformat": 4,
 "nbformat_minor": 2
}
