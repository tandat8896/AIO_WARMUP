{
 "cells": [
  {
   "cell_type": "code",
   "execution_count": 1,
   "metadata": {},
   "outputs": [],
   "source": [
    "import numpy as np"
   ]
  },
  {
   "cell_type": "code",
   "execution_count": 5,
   "metadata": {},
   "outputs": [],
   "source": [
    "arr1 = np.array([2,3,4])\n",
    "arr2 = np.array([5,5,7])\n",
    "stacked_arr = np.stack((arr1,arr2),axis=0)"
   ]
  },
  {
   "cell_type": "code",
   "execution_count": 6,
   "metadata": {},
   "outputs": [
    {
     "name": "stdout",
     "output_type": "stream",
     "text": [
      "[[2 3 4]\n",
      " [5 5 7]]\n"
     ]
    }
   ],
   "source": [
    "print(stacked_arr)"
   ]
  },
  {
   "cell_type": "code",
   "execution_count": 7,
   "metadata": {},
   "outputs": [
    {
     "name": "stdout",
     "output_type": "stream",
     "text": [
      "[[ 6  8]\n",
      " [10 12]]\n"
     ]
    }
   ],
   "source": [
    "matrix1 = np.array([[1,2],[3,4]])\n",
    "matrix2 = np.array([[5,6],[7,8]])\n",
    "\n",
    "print(matrix1+matrix2)"
   ]
  },
  {
   "cell_type": "code",
   "execution_count": 8,
   "metadata": {},
   "outputs": [
    {
     "name": "stdout",
     "output_type": "stream",
     "text": [
      "[[1, 2], [3, 4], [5, 6], [7, 8]]\n"
     ]
    }
   ],
   "source": [
    "matrix1= [[1,2],[3,4]]\n",
    "matrix2 = [[5,6],[7,8]]\n",
    "print(matrix1+matrix2)"
   ]
  },
  {
   "cell_type": "code",
   "execution_count": 9,
   "metadata": {},
   "outputs": [
    {
     "name": "stdout",
     "output_type": "stream",
     "text": [
      "[[6, 8], [10, 12]]\n"
     ]
    }
   ],
   "source": [
    "matrix1 = [[1, 2], [3, 4]]\n",
    "matrix2 = [[5, 6], [7, 8]]\n",
    "\n",
    "result = [[matrix1[i][j] + matrix2[i][j] for j in range(len(matrix1[0]))]\n",
    "          for i in range(len(matrix1))]\n",
    "\n",
    "print(result)\n"
   ]
  },
  {
   "cell_type": "code",
   "execution_count": 11,
   "metadata": {},
   "outputs": [
    {
     "name": "stdout",
     "output_type": "stream",
     "text": [
      "row1: [1, 2]\n",
      "row2: [5, 6]\n",
      "  a: 1, b: 5, a + b = 6\n",
      "  a: 2, b: 6, a + b = 8\n",
      "row1: [3, 4]\n",
      "row2: [7, 8]\n",
      "  a: 3, b: 7, a + b = 10\n",
      "  a: 4, b: 8, a + b = 12\n",
      "Final result: [[6, 8], [10, 12]]\n"
     ]
    }
   ],
   "source": [
    "matrix1 = [[1, 2], [3, 4]]\n",
    "matrix2 = [[5, 6], [7, 8]]\n",
    "\n",
    "result = []\n",
    "for row1, row2 in zip(matrix1, matrix2):\n",
    "    print(\"row1:\", row1)\n",
    "    print(\"row2:\", row2)\n",
    "    row_result = []\n",
    "    for a, b in zip(row1, row2):\n",
    "        print(f\"  a: {a}, b: {b}, a + b = {a + b}\")\n",
    "        row_result.append(a + b)\n",
    "    result.append(row_result)\n",
    "\n",
    "print(\"Final result:\", result)\n"
   ]
  },
  {
   "cell_type": "code",
   "execution_count": 13,
   "metadata": {},
   "outputs": [
    {
     "name": "stdout",
     "output_type": "stream",
     "text": [
      "Index 0: 1 and a\n",
      "Index 1: 2 and b\n",
      "Index 2: 3 and c\n"
     ]
    }
   ],
   "source": [
    "list1 = [1, 2, 3]\n",
    "list2 = ['a', 'b', 'c']\n",
    "\n",
    "for index, (item1, item2) in enumerate(zip(list1, list2)):\n",
    "    print(f\"Index {index}: {item1} and {item2}\")\n"
   ]
  },
  {
   "cell_type": "code",
   "execution_count": 16,
   "metadata": {},
   "outputs": [
    {
     "name": "stdout",
     "output_type": "stream",
     "text": [
      "{'name': 'Alice', 'age': 25, 'city': 'New York'}\n",
      "name\n",
      "age\n",
      "city\n"
     ]
    }
   ],
   "source": [
    "my_dict = {'name': 'Alice', 'age': 25, 'city': 'New York'}\n",
    "print(my_dict)\n",
    "# Lặp qua keys\n",
    "for key in my_dict.keys():\n",
    "    print(key)\n"
   ]
  },
  {
   "cell_type": "code",
   "execution_count": 17,
   "metadata": {},
   "outputs": [
    {
     "name": "stdout",
     "output_type": "stream",
     "text": [
      "Key: name, Value: Alice\n",
      "Key: age, Value: 25\n",
      "Key: city, Value: New York\n"
     ]
    }
   ],
   "source": [
    "my_dict = {'name': 'Alice', 'age': 25, 'city': 'New York'}\n",
    "\n",
    "# Lặp qua key-value pairs\n",
    "for key, value in my_dict.items():\n",
    "    print(f\"Key: {key}, Value: {value}\")\n"
   ]
  },
  {
   "cell_type": "code",
   "execution_count": 23,
   "metadata": {},
   "outputs": [
    {
     "name": "stdout",
     "output_type": "stream",
     "text": [
      "1 -> 2 -> 3 -> 4 -> None\n",
      "0 -> 1 -> 2 -> 3 -> 4 -> None\n",
      "0 -> 1 -> 2 -> 4 -> None\n"
     ]
    }
   ],
   "source": [
    "# Định nghĩa Node\n",
    "class Node:\n",
    "    def __init__(self, data):\n",
    "        self.data = data  # Dữ liệu của node\n",
    "        self.next = None  # Con trỏ đến node tiếp theo\n",
    "\n",
    "# Định nghĩa LinkedList\n",
    "class LinkedList:\n",
    "    def __init__(self):\n",
    "        self.head = None  # Đầu danh sách (khởi tạo là None)\n",
    "\n",
    "    # Thêm node vào cuối linked list\n",
    "    def append(self, data):\n",
    "        new_node = Node(data)\n",
    "        if not self.head:  # Nếu danh sách rỗng\n",
    "            self.head = new_node  # Đặt node mới làm đầu danh sách\n",
    "        else:\n",
    "            current = self.head\n",
    "            while current.next:  # Duyệt đến node cuối\n",
    "                current = current.next\n",
    "            current.next = new_node  # Gắn node mới vào cuối danh sách\n",
    "\n",
    "    # In toàn bộ linked list\n",
    "    def print_list(self):\n",
    "        current = self.head\n",
    "        while current:  # Duyệt qua các node trong linked list\n",
    "            print(current.data, end=\" -> \")\n",
    "            current = current.next\n",
    "        print(\"None\")\n",
    "\n",
    "    # Thêm node vào đầu linked list\n",
    "    def prepend(self, data):\n",
    "        new_node = Node(data)\n",
    "        new_node.next = self.head\n",
    "        self.head = new_node\n",
    "\n",
    "    # Xóa node đầu tiên có giá trị cụ thể\n",
    "    def delete(self, key):\n",
    "        current = self.head\n",
    "        if current and current.data == key:\n",
    "            self.head = current.next\n",
    "            current = None\n",
    "            return\n",
    "\n",
    "        prev = None\n",
    "        while current and current.data != key:\n",
    "            prev = current\n",
    "            current = current.next\n",
    "\n",
    "        if current is None:\n",
    "            return  # Không tìm thấy key\n",
    "\n",
    "        prev.next = current.next\n",
    "        current = None\n",
    "\n",
    "# Sử dụng LinkedList\n",
    "ll = LinkedList()\n",
    "ll.append(1)\n",
    "ll.append(2)\n",
    "ll.append(3)\n",
    "ll.append(4)\n",
    "\n",
    "ll.print_list()  # In ra: 1 -> 2 -> 3 -> 4 -> None\n",
    "\n",
    "ll.prepend(0)  # Thêm 0 vào đầu danh sách\n",
    "ll.print_list()  # In ra: 0 -> 1 -> 2 -> 3 -> 4 -> None\n",
    "\n",
    "ll.delete(3)  # Xóa node có giá trị 3\n",
    "ll.print_list()  # In ra: 0 -> 1 -> 2 -> 4 -> None\n"
   ]
  },
  {
   "cell_type": "code",
   "execution_count": 25,
   "metadata": {},
   "outputs": [
    {
     "name": "stdout",
     "output_type": "stream",
     "text": [
      "['False' 'False' 'False' 'True' 'True' 'True']\n"
     ]
    }
   ],
   "source": [
    "array = np.array([1,2,3,4,5,6])\n",
    "result = np.where(array>3 , \"True\",\"False\")\n",
    "print(result)"
   ]
  },
  {
   "cell_type": "code",
   "execution_count": null,
   "metadata": {},
   "outputs": [],
   "source": [
    "bg_image = cv2.i"
   ]
  }
 ],
 "metadata": {
  "kernelspec": {
   "display_name": "base",
   "language": "python",
   "name": "python3"
  },
  "language_info": {
   "codemirror_mode": {
    "name": "ipython",
    "version": 3
   },
   "file_extension": ".py",
   "mimetype": "text/x-python",
   "name": "python",
   "nbconvert_exporter": "python",
   "pygments_lexer": "ipython3",
   "version": "3.12.7"
  }
 },
 "nbformat": 4,
 "nbformat_minor": 2
}
