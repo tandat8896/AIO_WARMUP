{
  "cells": [
    {
      "cell_type": "code",
      "execution_count": 2,
      "metadata": {
        "id": "vkZxhixQHvFz",
        "outputId": "0a31a7f9-771c-4995-d00b-b22259156751",
        "colab": {
          "base_uri": "https://localhost:8080/"
        }
      },
      "outputs": [
        {
          "output_type": "execute_result",
          "data": {
            "text/plain": [
              "True"
            ]
          },
          "metadata": {},
          "execution_count": 2
        }
      ],
      "source": [
        "import numpy as np\n",
        "import cv2\n",
        "\n",
        "bg = cv2.imread('background.png', 1)\n",
        "bg = cv2.resize(bg, (640, 480))\n",
        "\n",
        "img = cv2.imread('StillImage.png', 1)\n",
        "img = cv2.resize(img, (640, 480))\n",
        "\n",
        "difference = cv2.absdiff(bg, img)\n",
        "_, difference_binary = cv2.threshold(difference, 20, 255, cv2.THRESH_BINARY)\n",
        "\n",
        "new_bg = cv2.imread('FakeBackground.png')\n",
        "new_bg = cv2.resize(new_bg, (640, 480))\n",
        "\n",
        "output = np.where(difference_binary==0, new_bg, img)\n",
        "cv2.imwrite('output.png', output)"
      ]
    },
    {
      "cell_type": "code",
      "execution_count": null,
      "metadata": {
        "id": "9rDFMAktHvF2"
      },
      "outputs": [],
      "source": []
    },
    {
      "cell_type": "code",
      "execution_count": 3,
      "metadata": {
        "id": "p7LBvju_HvF2",
        "outputId": "54073d7d-9ca2-4d8e-f90e-cc38b0410530",
        "colab": {
          "base_uri": "https://localhost:8080/",
          "height": 35
        }
      },
      "outputs": [
        {
          "output_type": "execute_result",
          "data": {
            "text/plain": [
              "\"\\n\\n\\n\\n\\n\\n\\ncv2.imwrite('output.png', output)\\n\""
            ],
            "application/vnd.google.colaboratory.intrinsic+json": {
              "type": "string"
            }
          },
          "metadata": {},
          "execution_count": 3
        }
      ],
      "source": [
        "import numpy as np\n",
        "import cv2\n",
        "\n",
        "bg = cv2.imread('background.png', 1)\n",
        "bg = cv2.resize(bg, (640, 480))\n",
        "\n",
        "img = cv2.imread('StillImage.png', 1)\n",
        "img = cv2.resize(img, (640, 480))\n",
        "\n",
        "new_bg = cv2.imread('FakeBackground.png')\n",
        "new_bg = cv2.resize(new_bg, (640, 480))\n",
        "\n",
        "difference = np.abs(img-bg)\n",
        "difference_binary = np.where(difference<20, 0, 255)\n",
        "\n",
        "output = np.where(difference_binary==0, new_bg, img)\n",
        "\n",
        "'''\n",
        "\n",
        "\n",
        "\n",
        "\n",
        "\n",
        "\n",
        "cv2.imwrite('output.png', output)\n",
        "'''\n",
        "\n",
        "\n",
        "\n",
        "\n",
        "\n",
        "\n",
        "\n"
      ]
    },
    {
      "cell_type": "code",
      "execution_count": null,
      "metadata": {
        "id": "mTAIbytXHvF3"
      },
      "outputs": [],
      "source": []
    },
    {
      "cell_type": "code",
      "execution_count": null,
      "metadata": {
        "id": "xXUWz8P1HvF3"
      },
      "outputs": [],
      "source": []
    }
  ],
  "metadata": {
    "kernelspec": {
      "display_name": "Python 3 (ipykernel)",
      "language": "python",
      "name": "python3"
    },
    "language_info": {
      "codemirror_mode": {
        "name": "ipython",
        "version": 3
      },
      "file_extension": ".py",
      "mimetype": "text/x-python",
      "name": "python",
      "nbconvert_exporter": "python",
      "pygments_lexer": "ipython3",
      "version": "3.11.5"
    },
    "colab": {
      "provenance": []
    }
  },
  "nbformat": 4,
  "nbformat_minor": 0
}