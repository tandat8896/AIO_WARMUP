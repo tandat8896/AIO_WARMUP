{
 "cells": [
  {
   "cell_type": "code",
   "execution_count": 2,
   "metadata": {},
   "outputs": [
    {
     "name": "stdout",
     "output_type": "stream",
     "text": [
      "16\n",
      "True\n",
      "[2, 6, 10, 14]\n",
      "[2, 4, 6]\n",
      "[('John', 80), ('Dave', 90), ('Jane', 95)]\n",
      "7\n"
     ]
    }
   ],
   "source": [
    "\n",
    "# Bài 1: Tạo một hàm lambda tính bình phương một số.\n",
    "square = lambda x: x ** 2\n",
    "# Example usage:\n",
    "print(square(4))  # Output: 16\n",
    "\n",
    "# Bài 2: Tạo hàm lambda kiểm tra xem một số có lớn hơn 10 không.\n",
    "is_greater_than_10 = lambda x: x > 10\n",
    "# Example usage:\n",
    "print(is_greater_than_10(15))  # Output: True\n",
    "\n",
    "# Bài 3: Dùng map và lambda để nhân đôi từng phần tử trong list [1, 3, 5, 7].\n",
    "doubled_list = list(map(lambda x: x * 2, [1, 3, 5, 7]))\n",
    "# Example usage:\n",
    "print(doubled_list)  # Output: [2, 6, 10, 14]\n",
    "\n",
    "# Bài 4: Dùng filter và lambda để lọc các số chẵn từ list [1, 2, 3, 4, 5, 6].\n",
    "even_numbers = list(filter(lambda x: x % 2 == 0, [1, 2, 3, 4, 5, 6]))\n",
    "# Example usage:\n",
    "print(even_numbers)  # Output: [2, 4, 6]\n",
    "\n",
    "# Bài 5: Sắp xếp danh sách các tuple theo phần tử thứ hai dùng lambda.\n",
    "students = [('John', 80), ('Jane', 95), ('Dave', 90)]\n",
    "sorted_students = sorted(students, key=lambda x: x[1])\n",
    "# Example usage:\n",
    "print(sorted_students)  # Output: [('John', 80), ('Dave', 90), ('Jane', 95)]\n",
    "\n",
    "# Bài 6: Viết hàm calculator nhận vào một phép toán ('+', '-', '*', '/') và trả về một hàm lambda thực hiện phép toán đó.\n",
    "def calculator(operation):\n",
    "    return {\n",
    "        '+': lambda x, y: x + y,\n",
    "        '-': lambda x, y: x - y,\n",
    "        '*': lambda x, y: x * y,\n",
    "        '/': lambda x, y: x / y if y != 0 else 'Division by zero error'\n",
    "    }.get(operation, lambda x, y: 'Invalid operation')\n",
    "\n",
    "# Example usage:\n",
    "add = calculator('+')\n",
    "print(add(3, 4))  # Output: 7\n",
    "\n"
   ]
  }
 ],
 "metadata": {
  "kernelspec": {
   "display_name": "Python 3",
   "language": "python",
   "name": "python3"
  },
  "language_info": {
   "codemirror_mode": {
    "name": "ipython",
    "version": 3
   },
   "file_extension": ".py",
   "mimetype": "text/x-python",
   "name": "python",
   "nbconvert_exporter": "python",
   "pygments_lexer": "ipython3",
   "version": "3.12.0"
  }
 },
 "nbformat": 4,
 "nbformat_minor": 2
}
