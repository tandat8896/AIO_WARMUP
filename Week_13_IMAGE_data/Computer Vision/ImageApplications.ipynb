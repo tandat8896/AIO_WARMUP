{
 "cells": [
  {
   "cell_type": "markdown",
   "id": "8ad49341",
   "metadata": {},
   "source": [
    "### Increate brightness"
   ]
  },
  {
   "cell_type": "code",
   "execution_count": 12,
   "id": "6b913829",
   "metadata": {},
   "outputs": [
    {
     "name": "stdout",
     "output_type": "stream",
     "text": [
      "[ -4   3   8 300   7]\n",
      "[  0   3   8 255   7]\n"
     ]
    }
   ],
   "source": [
    "data = np.array([-4, 3, 8, 300, 7])\n",
    "print(data)\n",
    "\n",
    "data = np.clip(data, 0, 255)\n",
    "print(data)"
   ]
  },
  {
   "cell_type": "code",
   "execution_count": null,
   "id": "425a6e5b",
   "metadata": {},
   "outputs": [],
   "source": []
  },
  {
   "cell_type": "code",
   "execution_count": 8,
   "id": "ad769e7c",
   "metadata": {},
   "outputs": [
    {
     "data": {
      "text/plain": [
       "True"
      ]
     },
     "execution_count": 8,
     "metadata": {},
     "output_type": "execute_result"
    }
   ],
   "source": [
    "import cv2\n",
    "import numpy as np\n",
    "import matplotlib.pyplot as plt\n",
    "\n",
    "img = cv2.imread('nature.png', 1)\n",
    "img = img.astype(float)\n",
    "\n",
    "img = img + 50\n",
    "img = np.clip(img, 0, 255)\n",
    "\n",
    "img = img.astype(np.uint8)\n",
    "cv2.imwrite('increase50_clip.png', img)"
   ]
  },
  {
   "cell_type": "code",
   "execution_count": null,
   "id": "759fccc7",
   "metadata": {},
   "outputs": [],
   "source": []
  },
  {
   "cell_type": "code",
   "execution_count": 19,
   "id": "9af2ed0b",
   "metadata": {},
   "outputs": [
    {
     "name": "stdout",
     "output_type": "stream",
     "text": [
      "[ -4.   3.   8. 300.   7.]\n",
      "float64\n",
      "[  0.   3.   8. 300.   7.]\n",
      "[  0.   3.   8. 255.   7.]\n"
     ]
    }
   ],
   "source": [
    "data = np.array([-4., 3, 8, 300, 7])\n",
    "print(data)\n",
    "print(data.dtype)\n",
    "\n",
    "data = np.where(data<0, 0, data)\n",
    "print(data)\n",
    "\n",
    "data = np.where(data>255, 255, data)\n",
    "print(data)"
   ]
  },
  {
   "cell_type": "code",
   "execution_count": null,
   "id": "643fb50d",
   "metadata": {},
   "outputs": [],
   "source": []
  },
  {
   "cell_type": "code",
   "execution_count": 23,
   "id": "fa351b78",
   "metadata": {},
   "outputs": [
    {
     "name": "stdout",
     "output_type": "stream",
     "text": [
      "float64\n"
     ]
    },
    {
     "data": {
      "text/plain": [
       "True"
      ]
     },
     "execution_count": 23,
     "metadata": {},
     "output_type": "execute_result"
    }
   ],
   "source": [
    "import cv2\n",
    "import numpy as np\n",
    "import matplotlib.pyplot as plt\n",
    "\n",
    "img = cv2.imread('nature.png', 1)\n",
    "img = img.astype(float)\n",
    "\n",
    "img = img + 50\n",
    "img = np.where(img<0., 0., img)\n",
    "img = np.where(img>255., 255., img)\n",
    "\n",
    "img = img.astype(np.uint8)\n",
    "cv2.imwrite('increase50_where.png', img)"
   ]
  },
  {
   "cell_type": "code",
   "execution_count": null,
   "id": "177e1f63",
   "metadata": {},
   "outputs": [],
   "source": []
  },
  {
   "cell_type": "markdown",
   "id": "0f60bdd1",
   "metadata": {},
   "source": [
    "### Decrease brightness"
   ]
  },
  {
   "cell_type": "code",
   "execution_count": 24,
   "id": "7d23125f",
   "metadata": {},
   "outputs": [
    {
     "data": {
      "text/plain": [
       "True"
      ]
     },
     "execution_count": 24,
     "metadata": {},
     "output_type": "execute_result"
    }
   ],
   "source": [
    "import cv2\n",
    "import numpy as np\n",
    "import matplotlib.pyplot as plt\n",
    "\n",
    "img = cv2.imread('nature.png', 1)\n",
    "img = img.astype(float)\n",
    "\n",
    "img = img - 80\n",
    "img = np.clip(img, 0, 255)\n",
    "\n",
    "img = img.astype(np.uint8)\n",
    "cv2.imwrite('decrease80_clip.png', img)"
   ]
  },
  {
   "cell_type": "code",
   "execution_count": null,
   "id": "c7129caf",
   "metadata": {},
   "outputs": [],
   "source": []
  },
  {
   "cell_type": "code",
   "execution_count": 25,
   "id": "6d0666b2",
   "metadata": {},
   "outputs": [
    {
     "data": {
      "text/plain": [
       "True"
      ]
     },
     "execution_count": 25,
     "metadata": {},
     "output_type": "execute_result"
    }
   ],
   "source": [
    "import cv2\n",
    "import numpy as np\n",
    "import matplotlib.pyplot as plt\n",
    "\n",
    "img = cv2.imread('nature.png', 1)\n",
    "img = img.astype(float)\n",
    "\n",
    "img = img - 80\n",
    "img = np.where(img<0., 0., img)\n",
    "img = np.where(img>255., 255., img)\n",
    "\n",
    "img = img.astype(np.uint8)\n",
    "cv2.imwrite('decrease80_where.png', img)"
   ]
  },
  {
   "cell_type": "code",
   "execution_count": null,
   "id": "82d8bdb8",
   "metadata": {},
   "outputs": [],
   "source": []
  },
  {
   "cell_type": "markdown",
   "id": "e0941a28",
   "metadata": {},
   "source": [
    "### Crop a region"
   ]
  },
  {
   "cell_type": "code",
   "execution_count": 1,
   "id": "5a695395",
   "metadata": {},
   "outputs": [
    {
     "data": {
      "text/plain": [
       "True"
      ]
     },
     "execution_count": 1,
     "metadata": {},
     "output_type": "execute_result"
    }
   ],
   "source": [
    "import cv2\n",
    "import numpy as np\n",
    "\n",
    "img = cv2.imread('image.png', 1)\n",
    "height, width, channel = img.shape\n",
    "\n",
    "x_0, y_0 = 470, 120\n",
    "x_1, y_1 = 800, 850\n",
    "\n",
    "region = img[y_0:y_1, x_0:x_1, :]\n",
    "cv2.imwrite('output_region.png', region)"
   ]
  },
  {
   "cell_type": "code",
   "execution_count": null,
   "id": "4cd6c4b0",
   "metadata": {},
   "outputs": [],
   "source": []
  }
 ],
 "metadata": {
  "kernelspec": {
   "display_name": "Python 3 (ipykernel)",
   "language": "python",
   "name": "python3"
  },
  "language_info": {
   "codemirror_mode": {
    "name": "ipython",
    "version": 3
   },
   "file_extension": ".py",
   "mimetype": "text/x-python",
   "name": "python",
   "nbconvert_exporter": "python",
   "pygments_lexer": "ipython3",
   "version": "3.8.2"
  }
 },
 "nbformat": 4,
 "nbformat_minor": 5
}
