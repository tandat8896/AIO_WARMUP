{
  "nbformat": 4,
  "nbformat_minor": 0,
  "metadata": {
    "colab": {
      "provenance": []
    },
    "kernelspec": {
      "name": "python3",
      "display_name": "Python 3"
    },
    "language_info": {
      "name": "python"
    }
  },
  "cells": [
    {
      "cell_type": "code",
      "source": [
        "import numpy as np\n",
        "import pandas as pd\n",
        "import matplotlib.pyplot as plt\n",
        "class LinearRegression:\n",
        "  def __init__(self, learning_rate = 0.01 , epochs =1000):\n",
        "    self.learning_rate = learning_rate\n",
        "    self.epochs = epochs\n",
        "    self.w = None\n",
        "    self.b = None\n",
        "\n",
        "\n",
        "  def compute_loss(self,y_hat,y):\n",
        "    m = len(y)\n",
        "    mse = (1/m)*np.sum((y_hat-y)**2)\n",
        "    return mse\n",
        "\n",
        "  def fit(self, X, y):\n",
        "      m, n = X.shape\n",
        "      self.w = np.zeros(n)\n",
        "      self.b = 0\n",
        "      losses = []\n",
        "      for epoch in range(self.epochs):\n",
        "          total_loss = 0\n",
        "          for i in range(m):\n",
        "              dw = np.array(X[i])\n",
        "              y_hat_i = np.dot(dw, self.w) + self.b\n",
        "              error_i = y_hat_i - y[i]\n",
        "\n",
        "              self.w -= self.learning_rate * (2 * error_i * dw / m)\n",
        "              self.b -= self.learning_rate * (2 * error_i / m)\n",
        "\n",
        "              total_loss += error_i ** 2\n",
        "\n",
        "          losses.append(total_loss / m)\n",
        "\n",
        "      self.losses = losses\n",
        "      return losses\n",
        "\n",
        "\n",
        "  def evaluate(self,X,y):\n",
        "    y_hat = np.dot(X,self.w) + self.b\n",
        "    loss = self.compute_loss(y_hat,y)\n",
        "    return loss\n",
        "\n",
        "  def plot_loss(self):\n",
        "      plt.plot(range(self.epochs), self.losses)\n",
        "      plt.xlabel(\"Epoch\")\n",
        "      plt.ylabel(\"Loss\")\n",
        "      plt.title(\"Loss over Epochs\")\n",
        "      plt.grid(True)\n",
        "      plt.show()\n",
        "\n",
        "data = np.genfromtxt('advertising.csv',\n",
        "                     delimiter=',',\n",
        "                     skip_header=1)\n",
        "X=data[:,:3]\n",
        "y=data[:,-1]\n",
        "np.random.seed(0)\n",
        "indices = np.random.permutation(len(X))\n",
        "\n",
        "\n",
        "split_index = int(0.8 * len(X)) #chia tập x thành 2 phần\n",
        "#train_idx lấy 80% đầu (0->n-1) , test_idx lấy 20% sau (n->r-1)\n",
        "train_idx, test_idx = indices[:split_index], indices[split_index:]\n",
        "\n",
        "\n",
        "X_train, X_test = X[train_idx], X[test_idx]\n",
        "y_train, y_test = y[train_idx], y[test_idx]\n",
        "\n",
        "\n",
        "model = LinearRegression(learning_rate= 0.0001 , epochs = 1000 )\n",
        "model.fit(X_train,y_train)\n",
        "losses = model.fit(X_train, y_train)\n",
        "\n",
        "\n",
        "print(f\"MSE:{model.evaluate(X_test,y_test)}\")\n",
        "model.plot_loss()\n"
      ],
      "metadata": {
        "colab": {
          "base_uri": "https://localhost:8080/",
          "height": 489
        },
        "id": "E_h50dyrncHb",
        "outputId": "b7fa952b-093a-4f7b-e69c-33e486f68dd3"
      },
      "execution_count": null,
      "outputs": [
        {
          "output_type": "stream",
          "name": "stdout",
          "text": [
            "MSE:4.2553963965976065\n"
          ]
        },
        {
          "output_type": "display_data",
          "data": {
            "text/plain": [
              "<Figure size 640x480 with 1 Axes>"
            ],
            "image/png": "[encoded data removed]"
          },
          "metadata": {}
        }
      ]
    },
    {
      "cell_type": "code",
      "source": [
        "print(X_train.shape)\n",
        "print(X_test.shape)\n",
        "print(y_train.shape)\n",
        "print(y_test.shape)"
      ],
      "metadata": {
        "colab": {
          "base_uri": "https://localhost:8080/"
        },
        "id": "Afc6KwOdENcG",
        "outputId": "fda71738-28be-4aad-c4ed-587d151eb563"
      },
      "execution_count": null,
      "outputs": [
        {
          "output_type": "stream",
          "name": "stdout",
          "text": [
            "(160, 3)\n",
            "(40, 3)\n",
            "(160,)\n",
            "(40,)\n"
          ]
        }
      ]
    },
    {
      "cell_type": "code",
      "source": [
        "print(data[:5])\n"
      ],
      "metadata": {
        "colab": {
          "base_uri": "https://localhost:8080/"
        },
        "id": "C3I3Cia710rg",
        "outputId": "5ab8bdb8-35a3-4ab5-fb65-7310854d84f8"
      },
      "execution_count": null,
      "outputs": [
        {
          "output_type": "stream",
          "name": "stdout",
          "text": [
            "[[230.1  37.8  69.2  22.1]\n",
            " [ 44.5  39.3  45.1  10.4]\n",
            " [ 17.2  45.9  69.3  12. ]\n",
            " [151.5  41.3  58.5  16.5]\n",
            " [180.8  10.8  58.4  17.9]]\n"
          ]
        }
      ]
    },
    {
      "cell_type": "markdown",
      "source": [],
      "metadata": {
        "id": "cdBPsxn361Bo"
      }
    }
  ]
}